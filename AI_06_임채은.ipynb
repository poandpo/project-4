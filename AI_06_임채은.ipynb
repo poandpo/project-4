{
  "nbformat": 4,
  "nbformat_minor": 0,
  "metadata": {
    "colab": {
      "name": "AI_06_임채은.ipynb",
      "provenance": [],
      "collapsed_sections": [],
      "authorship_tag": "ABX9TyNtVTifr19gSosLdVSCP4cE",
      "include_colab_link": true
    },
    "kernelspec": {
      "display_name": "Python 3",
      "name": "python3"
    },
    "language_info": {
      "name": "python"
    },
    "accelerator": "GPU"
  },
  "cells": [
    {
      "cell_type": "markdown",
      "metadata": {
        "id": "view-in-github",
        "colab_type": "text"
      },
      "source": [
        "<a href=\"https://colab.research.google.com/github/poandpo/project-4/blob/main/AI_06_%EC%9E%84%EC%B1%84%EC%9D%80.ipynb\" target=\"_parent\"><img src=\"https://colab.research.google.com/assets/colab-badge.svg\" alt=\"Open In Colab\"/></a>"
      ]
    },
    {
      "cell_type": "markdown",
      "metadata": {
        "id": "aWu7eqn-AliF"
      },
      "source": [
        "# 데이터 \n"
      ]
    },
    {
      "cell_type": "code",
      "metadata": {
        "id": "04ohCvKXSyp9"
      },
      "source": [
        "# 데이터 불러오기\n",
        "import pandas as pd\n",
        "\n",
        "tr_path = 'https://raw.githubusercontent.com/poandpo/project-4/main/%EA%B0%90%EC%84%B1%EB%8C%80%ED%99%94%EB%A7%90%EB%AD%89%EC%B9%98(%EC%B5%9C%EC%A2%85%EB%8D%B0%EC%9D%B4%ED%84%B0)_Training.csv'\n",
        "te_path = 'https://raw.githubusercontent.com/poandpo/project-4/main/%EA%B0%90%EC%84%B1%EB%8C%80%ED%99%94%EB%A7%90%EB%AD%89%EC%B9%98_Validation.csv'\n",
        "train = pd.read_csv(tr_path, delimiter= ',')\n",
        "test = pd.read_csv(te_path, delimiter= ',')\n",
        "\n"
      ],
      "execution_count": 2,
      "outputs": []
    },
    {
      "cell_type": "code",
      "metadata": {
        "colab": {
          "base_uri": "https://localhost:8080/",
          "height": 585
        },
        "id": "ZowWmzyEg930",
        "outputId": "71ccc976-9976-4c79-883b-358eb4569614"
      },
      "source": [
        "# 데이터 확인\n",
        "print(train.shape)\n",
        "\n",
        "train.head(3)"
      ],
      "execution_count": null,
      "outputs": [
        {
          "name": "stdout",
          "output_type": "stream",
          "text": [
            "(40879, 15)\n"
          ]
        },
        {
          "data": {
            "text/html": [
              "<div>\n",
              "<style scoped>\n",
              "    .dataframe tbody tr th:only-of-type {\n",
              "        vertical-align: middle;\n",
              "    }\n",
              "\n",
              "    .dataframe tbody tr th {\n",
              "        vertical-align: top;\n",
              "    }\n",
              "\n",
              "    .dataframe thead th {\n",
              "        text-align: right;\n",
              "    }\n",
              "</style>\n",
              "<table border=\"1\" class=\"dataframe\">\n",
              "  <thead>\n",
              "    <tr style=\"text-align: right;\">\n",
              "      <th></th>\n",
              "      <th>번호</th>\n",
              "      <th>연령</th>\n",
              "      <th>성별</th>\n",
              "      <th>상황키워드</th>\n",
              "      <th>신체질환</th>\n",
              "      <th>감정_대분류</th>\n",
              "      <th>감정_소분류</th>\n",
              "      <th>사람문장1</th>\n",
              "      <th>시스템응답1</th>\n",
              "      <th>사람문장2</th>\n",
              "      <th>시스템응답2</th>\n",
              "      <th>사람문장3</th>\n",
              "      <th>시스템응답3</th>\n",
              "      <th>사람문장4</th>\n",
              "      <th>시스템응답4</th>\n",
              "    </tr>\n",
              "  </thead>\n",
              "  <tbody>\n",
              "    <tr>\n",
              "      <th>0</th>\n",
              "      <td>44164</td>\n",
              "      <td>청년</td>\n",
              "      <td>남성</td>\n",
              "      <td>연애, 결혼, 출산</td>\n",
              "      <td>해당없음</td>\n",
              "      <td>기쁨</td>\n",
              "      <td>신이 난</td>\n",
              "      <td>아내가 드디어 출산하게 되어서 정말 신이 나.</td>\n",
              "      <td>아내분이 출산을 하시는군요. 정말 축하드려요.</td>\n",
              "      <td>아 지금 정말 신이 나.</td>\n",
              "      <td>잘 된 일이네요.</td>\n",
              "      <td>아기가 점점 클게 벌써 기대가 되네. 내가 많이 놀아줘야지.</td>\n",
              "      <td>좋은 아빠가 되실 거 같아요. 진심으로 축하드려요.</td>\n",
              "      <td>NaN</td>\n",
              "      <td>NaN</td>\n",
              "    </tr>\n",
              "    <tr>\n",
              "      <th>1</th>\n",
              "      <td>3926</td>\n",
              "      <td>노년</td>\n",
              "      <td>남성</td>\n",
              "      <td>건강, 죽음</td>\n",
              "      <td>만성질환 유</td>\n",
              "      <td>불안</td>\n",
              "      <td>스트레스 받는</td>\n",
              "      <td>당뇨랑 합병증 때문에 먹어야 할 약이 열 가지가 넘어가니까 스트레스야.</td>\n",
              "      <td>약 종류가 많아 번거로우시겠어요.</td>\n",
              "      <td>건강할 때 관리 좀 잘할걸 하는 생각이 들더라고.</td>\n",
              "      <td>현재 상황에서 변화를 주기 위해 어떻게 하면 될까요?</td>\n",
              "      <td>약을 잘 챙겨 먹고 나을 수 있도록 노력해야지.</td>\n",
              "      <td>약을 잘 챙겨 먹어 건강해지시길 바랄게요.</td>\n",
              "      <td>NaN</td>\n",
              "      <td>NaN</td>\n",
              "    </tr>\n",
              "    <tr>\n",
              "      <th>2</th>\n",
              "      <td>50882</td>\n",
              "      <td>청소년</td>\n",
              "      <td>여성</td>\n",
              "      <td>학업 및 진로</td>\n",
              "      <td>해당없음</td>\n",
              "      <td>당황</td>\n",
              "      <td>당황</td>\n",
              "      <td>고등학교에 올라오니 중학교 때보다 수업이 갑자기 어려워져서 당황스러워.</td>\n",
              "      <td>고등학교 수업이 중학교 때와는 다르게 갑자기 어려워서 당황스러우시군요.</td>\n",
              "      <td>아직 학기 초인데 내가 수업에 잘 따라갈 수 있을지 걱정돼.</td>\n",
              "      <td>이 상황에서 할 수 있는 게 어떤 것이 있을까요?</td>\n",
              "      <td>중학교 수업을 들을 때보다 훨씬 더 열심히 할 거야.</td>\n",
              "      <td>수업을 어떤 방식으로 열심히 듣는게 좋을까요?</td>\n",
              "      <td>선생님이 강조하신 부분을 필기하고 집에서 매일 수업 내용을 복습하려고 해.</td>\n",
              "      <td>열심히 해서 좋은 결과가 있었으면 좋겠어요.</td>\n",
              "    </tr>\n",
              "  </tbody>\n",
              "</table>\n",
              "</div>"
            ],
            "text/plain": [
              "      번호  ...                    시스템응답4\n",
              "0  44164  ...                       NaN\n",
              "1   3926  ...                       NaN\n",
              "2  50882  ...  열심히 해서 좋은 결과가 있었으면 좋겠어요.\n",
              "\n",
              "[3 rows x 15 columns]"
            ]
          },
          "execution_count": 4,
          "metadata": {},
          "output_type": "execute_result"
        }
      ]
    },
    {
      "cell_type": "code",
      "metadata": {
        "colab": {
          "base_uri": "https://localhost:8080/",
          "height": 534
        },
        "id": "0nx7XSiguyLZ",
        "outputId": "a77b957c-190a-4fb1-c9d7-809ffd4e2107"
      },
      "source": [
        "# 데이터 확인\n",
        "print(test.shape)\n",
        "\n",
        "test.head(3)"
      ],
      "execution_count": null,
      "outputs": [
        {
          "name": "stdout",
          "output_type": "stream",
          "text": [
            "(5130, 15)\n"
          ]
        },
        {
          "data": {
            "text/html": [
              "<div>\n",
              "<style scoped>\n",
              "    .dataframe tbody tr th:only-of-type {\n",
              "        vertical-align: middle;\n",
              "    }\n",
              "\n",
              "    .dataframe tbody tr th {\n",
              "        vertical-align: top;\n",
              "    }\n",
              "\n",
              "    .dataframe thead th {\n",
              "        text-align: right;\n",
              "    }\n",
              "</style>\n",
              "<table border=\"1\" class=\"dataframe\">\n",
              "  <thead>\n",
              "    <tr style=\"text-align: right;\">\n",
              "      <th></th>\n",
              "      <th>번호</th>\n",
              "      <th>연령</th>\n",
              "      <th>성별</th>\n",
              "      <th>상황키워드</th>\n",
              "      <th>신체질환</th>\n",
              "      <th>감정_대분류</th>\n",
              "      <th>감정_소분류</th>\n",
              "      <th>사람문장1</th>\n",
              "      <th>시스템응답1</th>\n",
              "      <th>사람문장2</th>\n",
              "      <th>시스템응답2</th>\n",
              "      <th>사람문장3</th>\n",
              "      <th>시스템응답3</th>\n",
              "      <th>사람문장4</th>\n",
              "      <th>시스템응답4</th>\n",
              "    </tr>\n",
              "  </thead>\n",
              "  <tbody>\n",
              "    <tr>\n",
              "      <th>0</th>\n",
              "      <td>23093</td>\n",
              "      <td>청년</td>\n",
              "      <td>여성</td>\n",
              "      <td>진로, 취업, 직장</td>\n",
              "      <td>해당없음</td>\n",
              "      <td>분노</td>\n",
              "      <td>툴툴대는</td>\n",
              "      <td>요즘 부모님과 많이 부딪혀.</td>\n",
              "      <td>어떤 일로 부딪히시나요?</td>\n",
              "      <td>난 하고 싶은 일이 있는데 부모님은 안정적인 일만 하라고 하셔. 내 마음대로 하지도...</td>\n",
              "      <td>부모님과의 충돌로 힘드시겠군요.</td>\n",
              "      <td>응. 그래도 난 내가 하고 싶은 일을 위해 노력할 거야.</td>\n",
              "      <td>자신이 하고 싶은 일을 목표로 하기로 하셨군요.</td>\n",
              "      <td>NaN</td>\n",
              "      <td>NaN</td>\n",
              "    </tr>\n",
              "    <tr>\n",
              "      <th>1</th>\n",
              "      <td>32848</td>\n",
              "      <td>청소년</td>\n",
              "      <td>남성</td>\n",
              "      <td>가족관계</td>\n",
              "      <td>해당없음</td>\n",
              "      <td>슬픔</td>\n",
              "      <td>비통한</td>\n",
              "      <td>엄마가 결국 집을 나갔어. 너무 너무 슬퍼.</td>\n",
              "      <td>어머니께서 집을 나가셨다니 정말 슬프셨겠어요. 좀 더 자세히 얘기해주시겠어요?</td>\n",
              "      <td>엄마도 엄마만의 인생이 있을 테니 가지 말라고 할 수가 없었어. 그래서 더 마음이 ...</td>\n",
              "      <td>정말 많이 답답하셨겠어요. 어떻게 하는 게 기분이 좀 풀릴까요?</td>\n",
              "      <td>일단 좀 자야겠어.</td>\n",
              "      <td>일단 휴식을 가질 생각이시군요.</td>\n",
              "      <td>NaN</td>\n",
              "      <td>NaN</td>\n",
              "    </tr>\n",
              "    <tr>\n",
              "      <th>2</th>\n",
              "      <td>35590</td>\n",
              "      <td>청소년</td>\n",
              "      <td>남성</td>\n",
              "      <td>학교폭력/따돌림</td>\n",
              "      <td>해당없음</td>\n",
              "      <td>불안</td>\n",
              "      <td>조심스러운</td>\n",
              "      <td>학교에서 한 친구를 괴롭히는 무리에게 그만하라고 했어.</td>\n",
              "      <td>용기 있는 행동을 하셨네요. 마음이 어떠셨나요?</td>\n",
              "      <td>그런데 말을 하고 난 후 나도 괴롭힐까 봐 불안했어.</td>\n",
              "      <td>그랬군요. 지금 기분에서 벗어나기 위해 할 수 있는 일에는 무엇이 있을까요?</td>\n",
              "      <td>나는 옳은 일을 한 거라고 생각해. 나까지 괴롭힌다면 신고할 거야.</td>\n",
              "      <td>지금의 상황이 나의 방식으로써 잘 해결될 수 있기를 바라요.</td>\n",
              "      <td>NaN</td>\n",
              "      <td>NaN</td>\n",
              "    </tr>\n",
              "  </tbody>\n",
              "</table>\n",
              "</div>"
            ],
            "text/plain": [
              "      번호   연령  성별  ...                             시스템응답3 사람문장4 시스템응답4\n",
              "0  23093   청년  여성  ...         자신이 하고 싶은 일을 목표로 하기로 하셨군요.   NaN    NaN\n",
              "1  32848  청소년  남성  ...                  일단 휴식을 가질 생각이시군요.   NaN    NaN\n",
              "2  35590  청소년  남성  ...  지금의 상황이 나의 방식으로써 잘 해결될 수 있기를 바라요.   NaN    NaN\n",
              "\n",
              "[3 rows x 15 columns]"
            ]
          },
          "execution_count": 5,
          "metadata": {},
          "output_type": "execute_result"
        }
      ]
    },
    {
      "cell_type": "code",
      "metadata": {
        "colab": {
          "base_uri": "https://localhost:8080/"
        },
        "id": "6TtSdbphe5RV",
        "outputId": "a7b54da1-6ef1-4e81-d56e-47790efb59f0"
      },
      "source": [
        "train.info()"
      ],
      "execution_count": null,
      "outputs": [
        {
          "name": "stdout",
          "output_type": "stream",
          "text": [
            "<class 'pandas.core.frame.DataFrame'>\n",
            "RangeIndex: 40879 entries, 0 to 40878\n",
            "Data columns (total 15 columns):\n",
            " #   Column  Non-Null Count  Dtype \n",
            "---  ------  --------------  ----- \n",
            " 0   번호      40879 non-null  int64 \n",
            " 1   연령      40879 non-null  object\n",
            " 2   성별      40879 non-null  object\n",
            " 3   상황키워드   40879 non-null  object\n",
            " 4   신체질환    40879 non-null  object\n",
            " 5   감정_대분류  40879 non-null  object\n",
            " 6   감정_소분류  40879 non-null  object\n",
            " 7   사람문장1   40879 non-null  object\n",
            " 8   시스템응답1  40879 non-null  object\n",
            " 9   사람문장2   40879 non-null  object\n",
            " 10  시스템응답2  40879 non-null  object\n",
            " 11  사람문장3   31059 non-null  object\n",
            " 12  시스템응답3  31059 non-null  object\n",
            " 13  사람문장4   1472 non-null   object\n",
            " 14  시스템응답4  1362 non-null   object\n",
            "dtypes: int64(1), object(14)\n",
            "memory usage: 4.7+ MB\n"
          ]
        }
      ]
    },
    {
      "cell_type": "code",
      "metadata": {
        "colab": {
          "base_uri": "https://localhost:8080/"
        },
        "id": "urd8C5Hoe_QQ",
        "outputId": "6a638d36-fd5e-4ad5-cfcc-c90ec9b47cef"
      },
      "source": [
        "test.info()"
      ],
      "execution_count": null,
      "outputs": [
        {
          "name": "stdout",
          "output_type": "stream",
          "text": [
            "<class 'pandas.core.frame.DataFrame'>\n",
            "RangeIndex: 5130 entries, 0 to 5129\n",
            "Data columns (total 15 columns):\n",
            " #   Column  Non-Null Count  Dtype \n",
            "---  ------  --------------  ----- \n",
            " 0   번호      5130 non-null   int64 \n",
            " 1   연령      5130 non-null   object\n",
            " 2   성별      5130 non-null   object\n",
            " 3   상황키워드   5130 non-null   object\n",
            " 4   신체질환    5130 non-null   object\n",
            " 5   감정_대분류  5130 non-null   object\n",
            " 6   감정_소분류  5130 non-null   object\n",
            " 7   사람문장1   5130 non-null   object\n",
            " 8   시스템응답1  5130 non-null   object\n",
            " 9   사람문장2   5130 non-null   object\n",
            " 10  시스템응답2  5130 non-null   object\n",
            " 11  사람문장3   3874 non-null   object\n",
            " 12  시스템응답3  3874 non-null   object\n",
            " 13  사람문장4   151 non-null    object\n",
            " 14  시스템응답4  136 non-null    object\n",
            "dtypes: int64(1), object(14)\n",
            "memory usage: 601.3+ KB\n"
          ]
        }
      ]
    },
    {
      "cell_type": "markdown",
      "metadata": {
        "id": "cgS6BKS2bzLA"
      },
      "source": [
        "## 데이터 선정 이유\n",
        "\n"
      ]
    },
    {
      "cell_type": "markdown",
      "metadata": {
        "id": "eXZ-28Iqb5Em"
      },
      "source": [
        "위 데이터는 한국어로 되어있는 세대별 감성 텍스트 데이터입니다.\n",
        "\n",
        "저는 트로스트, 아토머스 기업 같이 심리상담 챗봇 서비스에 관심이 있고, 챗봇을 통해서 사람들의 우울증 유무를 파악하고 관련된 치료나 병원등으로 연결해 주는 일에 관심이 있기 때문에 위 데이터를 사용했으며, 주로 한국어를 사용하는 기업에 관심이 있기에 한글 데이터를 선정하였습니다"
      ]
    },
    {
      "cell_type": "markdown",
      "metadata": {
        "id": "rHd9t3qbelDr"
      },
      "source": [
        "## 데이터 가설"
      ]
    },
    {
      "cell_type": "markdown",
      "metadata": {
        "id": "U25XsdFoenjo"
      },
      "source": [
        "\n",
        "\n",
        "1.   항목 추가\n",
        "2.   항목 추가\n",
        "\n"
      ]
    },
    {
      "cell_type": "markdown",
      "metadata": {
        "id": "F3nhFq-ibWZY"
      },
      "source": [
        "\n",
        "\n",
        "# 데이터 전처리"
      ]
    },
    {
      "cell_type": "markdown",
      "metadata": {
        "id": "j8jo-Q_X198O"
      },
      "source": [
        "## 데이터 전처리 1(문장제외)"
      ]
    },
    {
      "cell_type": "code",
      "metadata": {
        "colab": {
          "base_uri": "https://localhost:8080/",
          "height": 182
        },
        "id": "FLP183gPhaN9",
        "outputId": "f50a14bf-c31b-4f1b-e399-f3f83a6b5da0"
      },
      "source": [
        "train.head(1)"
      ],
      "execution_count": null,
      "outputs": [
        {
          "data": {
            "text/html": [
              "<div>\n",
              "<style scoped>\n",
              "    .dataframe tbody tr th:only-of-type {\n",
              "        vertical-align: middle;\n",
              "    }\n",
              "\n",
              "    .dataframe tbody tr th {\n",
              "        vertical-align: top;\n",
              "    }\n",
              "\n",
              "    .dataframe thead th {\n",
              "        text-align: right;\n",
              "    }\n",
              "</style>\n",
              "<table border=\"1\" class=\"dataframe\">\n",
              "  <thead>\n",
              "    <tr style=\"text-align: right;\">\n",
              "      <th></th>\n",
              "      <th>번호</th>\n",
              "      <th>연령</th>\n",
              "      <th>성별</th>\n",
              "      <th>상황키워드</th>\n",
              "      <th>신체질환</th>\n",
              "      <th>감정_대분류</th>\n",
              "      <th>감정_소분류</th>\n",
              "      <th>사람문장1</th>\n",
              "      <th>시스템응답1</th>\n",
              "      <th>사람문장2</th>\n",
              "      <th>시스템응답2</th>\n",
              "      <th>사람문장3</th>\n",
              "      <th>시스템응답3</th>\n",
              "      <th>사람문장4</th>\n",
              "      <th>시스템응답4</th>\n",
              "    </tr>\n",
              "  </thead>\n",
              "  <tbody>\n",
              "    <tr>\n",
              "      <th>0</th>\n",
              "      <td>44164</td>\n",
              "      <td>청년</td>\n",
              "      <td>남성</td>\n",
              "      <td>연애, 결혼, 출산</td>\n",
              "      <td>해당없음</td>\n",
              "      <td>기쁨</td>\n",
              "      <td>신이 난</td>\n",
              "      <td>아내가 드디어 출산하게 되어서 정말 신이 나.</td>\n",
              "      <td>아내분이 출산을 하시는군요. 정말 축하드려요.</td>\n",
              "      <td>아 지금 정말 신이 나.</td>\n",
              "      <td>잘 된 일이네요.</td>\n",
              "      <td>아기가 점점 클게 벌써 기대가 되네. 내가 많이 놀아줘야지.</td>\n",
              "      <td>좋은 아빠가 되실 거 같아요. 진심으로 축하드려요.</td>\n",
              "      <td>NaN</td>\n",
              "      <td>NaN</td>\n",
              "    </tr>\n",
              "  </tbody>\n",
              "</table>\n",
              "</div>"
            ],
            "text/plain": [
              "      번호  연령  성별  ...                        시스템응답3 사람문장4 시스템응답4\n",
              "0  44164  청년  남성  ...  좋은 아빠가 되실 거 같아요. 진심으로 축하드려요.   NaN    NaN\n",
              "\n",
              "[1 rows x 15 columns]"
            ]
          },
          "execution_count": 10,
          "metadata": {},
          "output_type": "execute_result"
        }
      ]
    },
    {
      "cell_type": "code",
      "metadata": {
        "colab": {
          "base_uri": "https://localhost:8080/"
        },
        "id": "2_3Isr4ehDRc",
        "outputId": "52b40261-6aad-419f-f1d7-37fb87f88edf"
      },
      "source": [
        "# 고유값 확인\n",
        "age= train['연령'].unique() \n",
        "state=train['상황키워드'].unique() \n",
        "disease = train['신체질환'].unique()\n",
        "emotion_1 =train['감정_대분류'].unique() \n",
        "emotion_2 =train['감정_소분류'].unique() \n",
        "\n",
        "print(f\"연령 고유값:{age}\", '\\n')\n",
        "print(f\"상황키워드 고유값:{state}\", '\\n')\n",
        "print(f\"질환 고유값:{disease}\", '\\n')\n",
        "print(f\"감정_대분류 고유값:{emotion_1}\", '\\n')\n",
        "print(f\"감정_소분류 고유값:{emotion_2}\", '\\n')"
      ],
      "execution_count": 3,
      "outputs": [
        {
          "output_type": "stream",
          "name": "stdout",
          "text": [
            "연령 고유값:['청년' '노년' '청소년' '중년'] \n",
            "\n",
            "상황키워드 고유값:['연애, 결혼, 출산' '건강, 죽음' '학업 및 진로' '재정' '재정, 은퇴, 노후준비' '건강' '학교폭력/따돌림'\n",
            " '대인관계' '진로, 취업, 직장' '가족관계' '직장, 업무 스트레스' '대인관계(부부, 자녀)'] \n",
            "\n",
            "질환 고유값:['해당없음' '만성질환 유' '만성질환 무'] \n",
            "\n",
            "감정_대분류 고유값:['기쁨' '불안' '당황' '슬픔' '분노' '상처' '불안 ' '기쁨 '] \n",
            "\n",
            "감정_소분류 고유값:['신이 난' '스트레스 받는' '당황' '안도' '취약한' '우울한' '구역질 나는' '좌절한' '눈물이 나는' '배신당한'\n",
            " '남의 시선을 의식하는' '죄책감의' '당혹스러운' '분노' '두려운' '낙담한' '회의적인' '마비된' '혼란스러운' '흥분'\n",
            " '한심한' '염세적인' '안달하는' '걱정스러운' '조심스러운' '충격 받은' '상처' '불안' '노여워하는' '기쁨' '짜증내는'\n",
            " '환멸을 느끼는' '비통한' '혐오스러운' '억울한' '만족스러운' '부끄러운' '버려진' '고립된' '괴로워하는' '자신하는'\n",
            " '외로운' '방어적인' '편안한' '질투하는' '감사하는' '초조한' '실망한' '슬픔' '신뢰하는' '가난한, 불우한'\n",
            " '후회되는' '툴툴대는' '성가신' '열등감' '희생된' '느긋' '악의적인'] \n",
            "\n"
          ]
        }
      ]
    },
    {
      "cell_type": "code",
      "metadata": {
        "id": "PpsEafr7bWCN"
      },
      "source": [
        "def clean_data(df):\n",
        "   # 필요없는 columns 제거 \n",
        "   df.drop(labels=['번호','감정_소분류','시스템응답1','시스템응답2', '시스템응답3', '사람문장4','시스템응답4'], axis = 1, inplace=True)\n",
        "\n",
        "   # 컬럼명 변경\n",
        "   df.rename(columns={'감정_대분류':'감정', '상황키워드':'상황','사람문장1':'문장1','사람문장2':'문장2', '사람문장3':'문장3'},inplace=True )  \n",
        " \n",
        "   # 결측치 삭제\n",
        "   df.dropna(how = 'any', inplace = True)\n",
        "\n",
        "def encoder_data(df):\n",
        "   # 범주형 데이터를 정수로 맵핑\n",
        "   df['연령']= df['연령'].map({'청소년': 0,'청년': 1, '중년':2, '노년':3})\n",
        "   df['성별']= df['성별'].map({'남성': 0,'여성': 1})\n",
        "   df['상황']= df['상황'].map({'연애, 결혼, 출산': 0,'건강, 죽음': 1, '건강':1,'재정': 2,'재정, 은퇴, 노후준비': 2, '학교폭력/따돌림':3,'대인관계': 4, '진로, 취업, 직장': 5, '학업 및 진로':5,'직장, 업무 스트레스':5,'가족관계': 6,'대인관계(부부, 자녀)': 6})\n",
        "   df['신체질환']= df['신체질환'].map({'해당없음': 0,'만성질환 무': 1, '만성질환 유':2})\n",
        "   df['감정']= df['감정'].map({'기쁨': 0,'기쁨 ': 0, '불안':1, '불안 ':1, '당황': 2, '슬픔':3, '분노':4, '상처': 5})\n",
        "\n",
        "clean_data(train) \n",
        "clean_data(test)  \n",
        "\n",
        "encoder_data(train)\n",
        "encoder_data(test)"
      ],
      "execution_count": 4,
      "outputs": []
    },
    {
      "cell_type": "code",
      "metadata": {
        "colab": {
          "base_uri": "https://localhost:8080/"
        },
        "id": "r7NPxgS-XwuA",
        "outputId": "a66120b8-549e-4d27-9c42-01483c51def9"
      },
      "source": [
        "# 중복 있는지 체크\n",
        "train.T.duplicated(subset=None, keep='first')"
      ],
      "execution_count": 3,
      "outputs": [
        {
          "output_type": "execute_result",
          "data": {
            "text/plain": [
              "연령      False\n",
              "성별      False\n",
              "상황      False\n",
              "신체질환    False\n",
              "감정      False\n",
              "문장1     False\n",
              "문장2     False\n",
              "문장3     False\n",
              "dtype: bool"
            ]
          },
          "metadata": {},
          "execution_count": 3
        }
      ]
    },
    {
      "cell_type": "code",
      "metadata": {
        "colab": {
          "base_uri": "https://localhost:8080/"
        },
        "id": "tL3mt9n9X3Gx",
        "outputId": "49561afd-3b47-4ee0-e511-2402721c5715"
      },
      "source": [
        "test.T.duplicated(subset=None, keep='first')"
      ],
      "execution_count": 10,
      "outputs": [
        {
          "output_type": "execute_result",
          "data": {
            "text/plain": [
              "연령      False\n",
              "성별      False\n",
              "상황      False\n",
              "신체질환    False\n",
              "감정      False\n",
              "문장1     False\n",
              "문장2     False\n",
              "문장3     False\n",
              "dtype: bool"
            ]
          },
          "metadata": {},
          "execution_count": 10
        }
      ]
    },
    {
      "cell_type": "code",
      "metadata": {
        "colab": {
          "base_uri": "https://localhost:8080/",
          "height": 391
        },
        "id": "ULnpKYKbv-5W",
        "outputId": "fe2f3ded-d3ab-455c-d12c-f1be63775e40"
      },
      "source": [
        "train.head()"
      ],
      "execution_count": 3,
      "outputs": [
        {
          "output_type": "execute_result",
          "data": {
            "text/html": [
              "<div>\n",
              "<style scoped>\n",
              "    .dataframe tbody tr th:only-of-type {\n",
              "        vertical-align: middle;\n",
              "    }\n",
              "\n",
              "    .dataframe tbody tr th {\n",
              "        vertical-align: top;\n",
              "    }\n",
              "\n",
              "    .dataframe thead th {\n",
              "        text-align: right;\n",
              "    }\n",
              "</style>\n",
              "<table border=\"1\" class=\"dataframe\">\n",
              "  <thead>\n",
              "    <tr style=\"text-align: right;\">\n",
              "      <th></th>\n",
              "      <th>연령</th>\n",
              "      <th>성별</th>\n",
              "      <th>상황</th>\n",
              "      <th>신체질환</th>\n",
              "      <th>감정</th>\n",
              "      <th>문장1</th>\n",
              "      <th>문장2</th>\n",
              "      <th>문장3</th>\n",
              "    </tr>\n",
              "  </thead>\n",
              "  <tbody>\n",
              "    <tr>\n",
              "      <th>0</th>\n",
              "      <td>1</td>\n",
              "      <td>0</td>\n",
              "      <td>0</td>\n",
              "      <td>0</td>\n",
              "      <td>0</td>\n",
              "      <td>아내가 드디어 출산하게 되어서 정말 신이 나.</td>\n",
              "      <td>아 지금 정말 신이 나.</td>\n",
              "      <td>아기가 점점 클게 벌써 기대가 되네. 내가 많이 놀아줘야지.</td>\n",
              "    </tr>\n",
              "    <tr>\n",
              "      <th>1</th>\n",
              "      <td>3</td>\n",
              "      <td>0</td>\n",
              "      <td>1</td>\n",
              "      <td>2</td>\n",
              "      <td>1</td>\n",
              "      <td>당뇨랑 합병증 때문에 먹어야 할 약이 열 가지가 넘어가니까 스트레스야.</td>\n",
              "      <td>건강할 때 관리 좀 잘할걸 하는 생각이 들더라고.</td>\n",
              "      <td>약을 잘 챙겨 먹고 나을 수 있도록 노력해야지.</td>\n",
              "    </tr>\n",
              "    <tr>\n",
              "      <th>2</th>\n",
              "      <td>0</td>\n",
              "      <td>1</td>\n",
              "      <td>5</td>\n",
              "      <td>0</td>\n",
              "      <td>2</td>\n",
              "      <td>고등학교에 올라오니 중학교 때보다 수업이 갑자기 어려워져서 당황스러워.</td>\n",
              "      <td>아직 학기 초인데 내가 수업에 잘 따라갈 수 있을지 걱정돼.</td>\n",
              "      <td>중학교 수업을 들을 때보다 훨씬 더 열심히 할 거야.</td>\n",
              "    </tr>\n",
              "    <tr>\n",
              "      <th>3</th>\n",
              "      <td>3</td>\n",
              "      <td>0</td>\n",
              "      <td>2</td>\n",
              "      <td>1</td>\n",
              "      <td>0</td>\n",
              "      <td>재취업이 돼서 받게 된 첫 월급으로 온 가족이 외식을 할 예정이야. 너무 행복해.</td>\n",
              "      <td>퇴직 후 다시는 돈을 못 벌 줄 알았는데 이렇게 월급으로 가족에게 맛있는 밥을 살 ...</td>\n",
              "      <td>회사생활을 열심히 해서 계속 월급을 받을거야!</td>\n",
              "    </tr>\n",
              "    <tr>\n",
              "      <th>5</th>\n",
              "      <td>2</td>\n",
              "      <td>1</td>\n",
              "      <td>2</td>\n",
              "      <td>0</td>\n",
              "      <td>1</td>\n",
              "      <td>이제 곧 은퇴할 시기가 되었어. 내가 먼저 은퇴를 하고 육 개월 후에 남편도 은퇴를...</td>\n",
              "      <td>둘이서 같이 뭘 해본 적이 없거든. 앞으로 백 세시대라고 하는데 어떻게 지내야 할지...</td>\n",
              "      <td>함께 등산이나 여행을 갔으면 좋겠어.</td>\n",
              "    </tr>\n",
              "  </tbody>\n",
              "</table>\n",
              "</div>"
            ],
            "text/plain": [
              "   연령  ...                                 문장3\n",
              "0   1  ...  아기가 점점 클게 벌써 기대가 되네. 내가 많이 놀아줘야지. \n",
              "1   3  ...          약을 잘 챙겨 먹고 나을 수 있도록 노력해야지.\n",
              "2   0  ...       중학교 수업을 들을 때보다 훨씬 더 열심히 할 거야.\n",
              "3   3  ...           회사생활을 열심히 해서 계속 월급을 받을거야!\n",
              "5   2  ...                함께 등산이나 여행을 갔으면 좋겠어.\n",
              "\n",
              "[5 rows x 8 columns]"
            ]
          },
          "metadata": {},
          "execution_count": 3
        }
      ]
    },
    {
      "cell_type": "code",
      "metadata": {
        "colab": {
          "base_uri": "https://localhost:8080/",
          "height": 374
        },
        "id": "EMCskDfb16eZ",
        "outputId": "91992e3e-6fe1-4d1d-baeb-53047d26f594"
      },
      "source": [
        "test.head()"
      ],
      "execution_count": 4,
      "outputs": [
        {
          "output_type": "execute_result",
          "data": {
            "text/html": [
              "<div>\n",
              "<style scoped>\n",
              "    .dataframe tbody tr th:only-of-type {\n",
              "        vertical-align: middle;\n",
              "    }\n",
              "\n",
              "    .dataframe tbody tr th {\n",
              "        vertical-align: top;\n",
              "    }\n",
              "\n",
              "    .dataframe thead th {\n",
              "        text-align: right;\n",
              "    }\n",
              "</style>\n",
              "<table border=\"1\" class=\"dataframe\">\n",
              "  <thead>\n",
              "    <tr style=\"text-align: right;\">\n",
              "      <th></th>\n",
              "      <th>연령</th>\n",
              "      <th>성별</th>\n",
              "      <th>상황</th>\n",
              "      <th>신체질환</th>\n",
              "      <th>감정</th>\n",
              "      <th>문장1</th>\n",
              "      <th>문장2</th>\n",
              "      <th>문장3</th>\n",
              "    </tr>\n",
              "  </thead>\n",
              "  <tbody>\n",
              "    <tr>\n",
              "      <th>0</th>\n",
              "      <td>1</td>\n",
              "      <td>1</td>\n",
              "      <td>5</td>\n",
              "      <td>0</td>\n",
              "      <td>4</td>\n",
              "      <td>요즘 부모님과 많이 부딪혀.</td>\n",
              "      <td>난 하고 싶은 일이 있는데 부모님은 안정적인 일만 하라고 하셔. 내 마음대로 하지도...</td>\n",
              "      <td>응. 그래도 난 내가 하고 싶은 일을 위해 노력할 거야.</td>\n",
              "    </tr>\n",
              "    <tr>\n",
              "      <th>1</th>\n",
              "      <td>0</td>\n",
              "      <td>0</td>\n",
              "      <td>6</td>\n",
              "      <td>0</td>\n",
              "      <td>3</td>\n",
              "      <td>엄마가 결국 집을 나갔어. 너무 너무 슬퍼.</td>\n",
              "      <td>엄마도 엄마만의 인생이 있을 테니 가지 말라고 할 수가 없었어. 그래서 더 마음이 ...</td>\n",
              "      <td>일단 좀 자야겠어.</td>\n",
              "    </tr>\n",
              "    <tr>\n",
              "      <th>2</th>\n",
              "      <td>0</td>\n",
              "      <td>0</td>\n",
              "      <td>3</td>\n",
              "      <td>0</td>\n",
              "      <td>1</td>\n",
              "      <td>학교에서 한 친구를 괴롭히는 무리에게 그만하라고 했어.</td>\n",
              "      <td>그런데 말을 하고 난 후 나도 괴롭힐까 봐 불안했어.</td>\n",
              "      <td>나는 옳은 일을 한 거라고 생각해. 나까지 괴롭힌다면 신고할 거야.</td>\n",
              "    </tr>\n",
              "    <tr>\n",
              "      <th>3</th>\n",
              "      <td>1</td>\n",
              "      <td>0</td>\n",
              "      <td>5</td>\n",
              "      <td>0</td>\n",
              "      <td>2</td>\n",
              "      <td>이번에 팀장님이 간단한 조사 업무를 부탁하셨는데 내가 잘못 처리했어. 너무 절망적이야.</td>\n",
              "      <td>곧 있으면 인턴에서 정규직 전환 평가가 있는데 안 좋을 것 같아.</td>\n",
              "      <td>우선 잘못된 부분을 솔직하게 말씀드리고 수정하기 위해서 최선을 다해봐야겠어.</td>\n",
              "    </tr>\n",
              "    <tr>\n",
              "      <th>4</th>\n",
              "      <td>2</td>\n",
              "      <td>1</td>\n",
              "      <td>2</td>\n",
              "      <td>0</td>\n",
              "      <td>4</td>\n",
              "      <td>남편이 이혼할 때 위자료를 주지 않으려고 변호사를 고용했어.</td>\n",
              "      <td>어떻게 그럴 수가 있지? 너무 화가 나.</td>\n",
              "      <td>나도 변호사를 고용해서 한번 얘기해보려고 해.</td>\n",
              "    </tr>\n",
              "  </tbody>\n",
              "</table>\n",
              "</div>"
            ],
            "text/plain": [
              "   연령  ...                                         문장3\n",
              "0   1  ...             응. 그래도 난 내가 하고 싶은 일을 위해 노력할 거야.\n",
              "1   0  ...                                  일단 좀 자야겠어.\n",
              "2   0  ...       나는 옳은 일을 한 거라고 생각해. 나까지 괴롭힌다면 신고할 거야.\n",
              "3   1  ...  우선 잘못된 부분을 솔직하게 말씀드리고 수정하기 위해서 최선을 다해봐야겠어.\n",
              "4   2  ...                   나도 변호사를 고용해서 한번 얘기해보려고 해.\n",
              "\n",
              "[5 rows x 8 columns]"
            ]
          },
          "metadata": {},
          "execution_count": 4
        }
      ]
    },
    {
      "cell_type": "code",
      "metadata": {
        "colab": {
          "base_uri": "https://localhost:8080/"
        },
        "id": "kA2iz633xNIe",
        "outputId": "0446b9bd-9e57-4422-cc74-b22244cb9534"
      },
      "source": [
        "train.info()"
      ],
      "execution_count": 5,
      "outputs": [
        {
          "output_type": "stream",
          "name": "stdout",
          "text": [
            "<class 'pandas.core.frame.DataFrame'>\n",
            "Int64Index: 31059 entries, 0 to 40878\n",
            "Data columns (total 8 columns):\n",
            " #   Column  Non-Null Count  Dtype \n",
            "---  ------  --------------  ----- \n",
            " 0   연령      31059 non-null  int64 \n",
            " 1   성별      31059 non-null  int64 \n",
            " 2   상황      31059 non-null  int64 \n",
            " 3   신체질환    31059 non-null  int64 \n",
            " 4   감정      31059 non-null  int64 \n",
            " 5   문장1     31059 non-null  object\n",
            " 6   문장2     31059 non-null  object\n",
            " 7   문장3     31059 non-null  object\n",
            "dtypes: int64(5), object(3)\n",
            "memory usage: 2.1+ MB\n"
          ]
        }
      ]
    },
    {
      "cell_type": "code",
      "metadata": {
        "colab": {
          "base_uri": "https://localhost:8080/"
        },
        "id": "T7Tm8ntd2Fmw",
        "outputId": "5c29f723-f593-47d4-d432-67caa7052be1"
      },
      "source": [
        "test.info()"
      ],
      "execution_count": 6,
      "outputs": [
        {
          "output_type": "stream",
          "name": "stdout",
          "text": [
            "<class 'pandas.core.frame.DataFrame'>\n",
            "Int64Index: 3874 entries, 0 to 5129\n",
            "Data columns (total 8 columns):\n",
            " #   Column  Non-Null Count  Dtype \n",
            "---  ------  --------------  ----- \n",
            " 0   연령      3874 non-null   int64 \n",
            " 1   성별      3874 non-null   int64 \n",
            " 2   상황      3874 non-null   int64 \n",
            " 3   신체질환    3874 non-null   int64 \n",
            " 4   감정      3874 non-null   int64 \n",
            " 5   문장1     3874 non-null   object\n",
            " 6   문장2     3874 non-null   object\n",
            " 7   문장3     3874 non-null   object\n",
            "dtypes: int64(5), object(3)\n",
            "memory usage: 272.4+ KB\n"
          ]
        }
      ]
    },
    {
      "cell_type": "markdown",
      "metadata": {
        "id": "E9E6HcEU2NkB"
      },
      "source": [
        "## 텍스트 전처리"
      ]
    },
    {
      "cell_type": "code",
      "metadata": {
        "colab": {
          "base_uri": "https://localhost:8080/"
        },
        "id": "qPh1vDZ85HJq",
        "outputId": "cba57573-54e3-472b-986c-0795d094951b"
      },
      "source": [
        "!pip install konlpy"
      ],
      "execution_count": 3,
      "outputs": [
        {
          "output_type": "stream",
          "name": "stdout",
          "text": [
            "Requirement already satisfied: konlpy in /usr/local/lib/python3.7/dist-packages (0.5.2)\n",
            "Requirement already satisfied: tweepy>=3.7.0 in /usr/local/lib/python3.7/dist-packages (from konlpy) (3.10.0)\n",
            "Requirement already satisfied: lxml>=4.1.0 in /usr/local/lib/python3.7/dist-packages (from konlpy) (4.2.6)\n",
            "Requirement already satisfied: numpy>=1.6 in /usr/local/lib/python3.7/dist-packages (from konlpy) (1.19.5)\n",
            "Requirement already satisfied: colorama in /usr/local/lib/python3.7/dist-packages (from konlpy) (0.4.4)\n",
            "Requirement already satisfied: beautifulsoup4==4.6.0 in /usr/local/lib/python3.7/dist-packages (from konlpy) (4.6.0)\n",
            "Requirement already satisfied: JPype1>=0.7.0 in /usr/local/lib/python3.7/dist-packages (from konlpy) (1.3.0)\n",
            "Requirement already satisfied: typing-extensions in /usr/local/lib/python3.7/dist-packages (from JPype1>=0.7.0->konlpy) (3.7.4.3)\n",
            "Requirement already satisfied: six>=1.10.0 in /usr/local/lib/python3.7/dist-packages (from tweepy>=3.7.0->konlpy) (1.15.0)\n",
            "Requirement already satisfied: requests[socks]>=2.11.1 in /usr/local/lib/python3.7/dist-packages (from tweepy>=3.7.0->konlpy) (2.23.0)\n",
            "Requirement already satisfied: requests-oauthlib>=0.7.0 in /usr/local/lib/python3.7/dist-packages (from tweepy>=3.7.0->konlpy) (1.3.0)\n",
            "Requirement already satisfied: oauthlib>=3.0.0 in /usr/local/lib/python3.7/dist-packages (from requests-oauthlib>=0.7.0->tweepy>=3.7.0->konlpy) (3.1.1)\n",
            "Requirement already satisfied: urllib3!=1.25.0,!=1.25.1,<1.26,>=1.21.1 in /usr/local/lib/python3.7/dist-packages (from requests[socks]>=2.11.1->tweepy>=3.7.0->konlpy) (1.24.3)\n",
            "Requirement already satisfied: chardet<4,>=3.0.2 in /usr/local/lib/python3.7/dist-packages (from requests[socks]>=2.11.1->tweepy>=3.7.0->konlpy) (3.0.4)\n",
            "Requirement already satisfied: idna<3,>=2.5 in /usr/local/lib/python3.7/dist-packages (from requests[socks]>=2.11.1->tweepy>=3.7.0->konlpy) (2.10)\n",
            "Requirement already satisfied: certifi>=2017.4.17 in /usr/local/lib/python3.7/dist-packages (from requests[socks]>=2.11.1->tweepy>=3.7.0->konlpy) (2021.5.30)\n",
            "Requirement already satisfied: PySocks!=1.5.7,>=1.5.6 in /usr/local/lib/python3.7/dist-packages (from requests[socks]>=2.11.1->tweepy>=3.7.0->konlpy) (1.7.1)\n"
          ]
        }
      ]
    },
    {
      "cell_type": "code",
      "metadata": {
        "id": "QOPN0f54e7iw"
      },
      "source": [
        "import re\n",
        "from konlpy.tag import Okt\n",
        "from tqdm import tqdm\n",
        "from tensorflow.keras.preprocessing.text import Tokenizer\n",
        "from tensorflow.keras.preprocessing.sequence import pad_sequences"
      ],
      "execution_count": 5,
      "outputs": []
    },
    {
      "cell_type": "code",
      "metadata": {
        "id": "0BzmOzr8YonW"
      },
      "source": [
        "# 한글과 공백을 제외하고 모두 제거\n",
        "def clean_text(df):\n",
        "  df['문장1'] = df['문장1'].str.replace(\"[^ㄱ-ㅎㅏ-ㅣ가-힣 ]\",\"\")\n",
        "  df['문장2'] = df['문장2'].str.replace(\"[^ㄱ-ㅎㅏ-ㅣ가-힣 ]\",\"\")\n",
        "  df['문장3'] = df['문장3'].str.replace(\"[^ㄱ-ㅎㅏ-ㅣ가-힣 ]\",\"\")\n",
        "\n",
        "clean_text(train)\n",
        "clean_text(test)"
      ],
      "execution_count": 6,
      "outputs": []
    },
    {
      "cell_type": "code",
      "metadata": {
        "colab": {
          "base_uri": "https://localhost:8080/"
        },
        "id": "oZ5BRB11iQ4L",
        "outputId": "860273b5-4df5-48b0-b2a1-e4cdb9fba372"
      },
      "source": [
        "okt = Okt()\n",
        "stopwords = ['의','가','이','은','들','는','좀','잘','걍','과','도','를','으로','자','에','와','한','하다', '아', '야', '랑', '을'] #불용어 \n",
        "\n",
        "def tokenizer(df):\n",
        "  sentence1 = []\n",
        "  for sentence in tqdm(df['문장1']):\n",
        "      tokenized_sentence = okt.morphs(sentence, stem=True) # 토큰화\n",
        "      stopwords_removed_sentence = [word for word in tokenized_sentence if not word in stopwords] # 불용어 제거\n",
        "      sentence1.append(stopwords_removed_sentence)\n",
        "\n",
        "  sentence2 = []\n",
        "  for sentence in tqdm(df['문장2']):\n",
        "      tokenized_sentence = okt.morphs(sentence, stem=True) # 토큰화\n",
        "      stopwords_removed_sentence = [word for word in tokenized_sentence if not word in stopwords] # 불용어 제거\n",
        "      sentence2.append(stopwords_removed_sentence)\n",
        "\n",
        "  sentence3 = []\n",
        "  for sentence in tqdm(df['문장3']):\n",
        "      tokenized_sentence = okt.morphs(sentence, stem=True) # 토큰화\n",
        "      stopwords_removed_sentence = [word for word in tokenized_sentence if not word in stopwords] # 불용어 제거\n",
        "      sentence3.append(stopwords_removed_sentence)\n",
        "\n",
        "  df['문장1'] = sentence1\n",
        "  df['문장2'] = sentence2\n",
        "  df['문장3'] = sentence3\n",
        "\n",
        "tokenizer(train)\n",
        "tokenizer(test)"
      ],
      "execution_count": 7,
      "outputs": [
        {
          "output_type": "stream",
          "name": "stderr",
          "text": [
            "100%|██████████| 31059/31059 [01:01<00:00, 507.05it/s]\n",
            "100%|██████████| 31059/31059 [00:57<00:00, 535.58it/s]\n",
            "100%|██████████| 31059/31059 [01:01<00:00, 506.78it/s]\n",
            "100%|██████████| 3874/3874 [00:07<00:00, 507.90it/s]\n",
            "100%|██████████| 3874/3874 [00:07<00:00, 485.81it/s]\n",
            "100%|██████████| 3874/3874 [00:07<00:00, 500.94it/s]\n"
          ]
        }
      ]
    },
    {
      "cell_type": "code",
      "metadata": {
        "colab": {
          "base_uri": "https://localhost:8080/",
          "height": 261
        },
        "id": "hqYYEzNAtLdF",
        "outputId": "fe1c35bc-42eb-43d4-dee7-5b02e00b7aed"
      },
      "source": [
        "train.tail(3)"
      ],
      "execution_count": 8,
      "outputs": [
        {
          "output_type": "execute_result",
          "data": {
            "text/html": [
              "<div>\n",
              "<style scoped>\n",
              "    .dataframe tbody tr th:only-of-type {\n",
              "        vertical-align: middle;\n",
              "    }\n",
              "\n",
              "    .dataframe tbody tr th {\n",
              "        vertical-align: top;\n",
              "    }\n",
              "\n",
              "    .dataframe thead th {\n",
              "        text-align: right;\n",
              "    }\n",
              "</style>\n",
              "<table border=\"1\" class=\"dataframe\">\n",
              "  <thead>\n",
              "    <tr style=\"text-align: right;\">\n",
              "      <th></th>\n",
              "      <th>연령</th>\n",
              "      <th>성별</th>\n",
              "      <th>상황</th>\n",
              "      <th>신체질환</th>\n",
              "      <th>감정</th>\n",
              "      <th>문장1</th>\n",
              "      <th>문장2</th>\n",
              "      <th>문장3</th>\n",
              "    </tr>\n",
              "  </thead>\n",
              "  <tbody>\n",
              "    <tr>\n",
              "      <th>40876</th>\n",
              "      <td>0</td>\n",
              "      <td>1</td>\n",
              "      <td>6</td>\n",
              "      <td>0</td>\n",
              "      <td>3</td>\n",
              "      <td>[엄마, 내, 꿈, 인, 작가, 응원, 주다, 지금, 안, 그렇다, 너무, 슬프다]</td>\n",
              "      <td>[내, 재능, 남, 보다, 월등하다, 거, 아니다, 취업, 안정, 적, 살다, 좋다]</td>\n",
              "      <td>[내, 다시, 내, 꿈, 어떻다, 이루다, 것, 인지, 자세하다, 설명, 드리다]</td>\n",
              "    </tr>\n",
              "    <tr>\n",
              "      <th>40877</th>\n",
              "      <td>3</td>\n",
              "      <td>1</td>\n",
              "      <td>2</td>\n",
              "      <td>1</td>\n",
              "      <td>0</td>\n",
              "      <td>[이렇게, 좋다, 운동, 시설, 에서, 경로, 우대, 로, 운동, 수, 있다, 차다...</td>\n",
              "      <td>[덕분, 건강, 챙기다, 수, 있다, 너무, 좋다, 안마, 기도, 있다, 내일, 운...</td>\n",
              "      <td>[운동, 뭉치다, 근육, 풀다, 것, 같다, 그렇다, 덜, 피로하다]</td>\n",
              "    </tr>\n",
              "    <tr>\n",
              "      <th>40878</th>\n",
              "      <td>1</td>\n",
              "      <td>0</td>\n",
              "      <td>4</td>\n",
              "      <td>0</td>\n",
              "      <td>1</td>\n",
              "      <td>[친구, 관계, 너무, 힘들다, 베풀다, 만큼, 돌아오다, 않다, 것, 같다]</td>\n",
              "      <td>[카페, 가다, 대화, 하, 거나, 같이, 술, 말다, 이야기, 것, 같다]</td>\n",
              "      <td>[직접, 서운하다, 감정, 친구, 에게, 얘기, 해]</td>\n",
              "    </tr>\n",
              "  </tbody>\n",
              "</table>\n",
              "</div>"
            ],
            "text/plain": [
              "       연령  ...                                            문장3\n",
              "40876   0  ...  [내, 다시, 내, 꿈, 어떻다, 이루다, 것, 인지, 자세하다, 설명, 드리다]\n",
              "40877   3  ...         [운동, 뭉치다, 근육, 풀다, 것, 같다, 그렇다, 덜, 피로하다]\n",
              "40878   1  ...                  [직접, 서운하다, 감정, 친구, 에게, 얘기, 해]\n",
              "\n",
              "[3 rows x 8 columns]"
            ]
          },
          "metadata": {},
          "execution_count": 8
        }
      ]
    },
    {
      "cell_type": "code",
      "metadata": {
        "colab": {
          "base_uri": "https://localhost:8080/",
          "height": 210
        },
        "id": "SR9m16jdt1K7",
        "outputId": "96e4dcc6-64cb-40ea-83f1-039bf072a152"
      },
      "source": [
        "test.head(3)"
      ],
      "execution_count": 9,
      "outputs": [
        {
          "output_type": "execute_result",
          "data": {
            "text/html": [
              "<div>\n",
              "<style scoped>\n",
              "    .dataframe tbody tr th:only-of-type {\n",
              "        vertical-align: middle;\n",
              "    }\n",
              "\n",
              "    .dataframe tbody tr th {\n",
              "        vertical-align: top;\n",
              "    }\n",
              "\n",
              "    .dataframe thead th {\n",
              "        text-align: right;\n",
              "    }\n",
              "</style>\n",
              "<table border=\"1\" class=\"dataframe\">\n",
              "  <thead>\n",
              "    <tr style=\"text-align: right;\">\n",
              "      <th></th>\n",
              "      <th>연령</th>\n",
              "      <th>성별</th>\n",
              "      <th>상황</th>\n",
              "      <th>신체질환</th>\n",
              "      <th>감정</th>\n",
              "      <th>문장1</th>\n",
              "      <th>문장2</th>\n",
              "      <th>문장3</th>\n",
              "    </tr>\n",
              "  </thead>\n",
              "  <tbody>\n",
              "    <tr>\n",
              "      <th>0</th>\n",
              "      <td>1</td>\n",
              "      <td>1</td>\n",
              "      <td>5</td>\n",
              "      <td>0</td>\n",
              "      <td>4</td>\n",
              "      <td>[요즘, 부모님, 많이, 부딪히다]</td>\n",
              "      <td>[난, 싶다, 일이, 있다, 부모님, 안정, 적, 인, 일만, 하라, 고, 내, 마...</td>\n",
              "      <td>[응, 그래도, 난, 내, 싶다, 일, 위해, 노력, 거야]</td>\n",
              "    </tr>\n",
              "    <tr>\n",
              "      <th>1</th>\n",
              "      <td>0</td>\n",
              "      <td>0</td>\n",
              "      <td>6</td>\n",
              "      <td>0</td>\n",
              "      <td>3</td>\n",
              "      <td>[엄마, 결국, 집, 나가다, 너무, 너무, 슬프다]</td>\n",
              "      <td>[엄마, 엄마, 만의, 인생, 있다, 테, 니, 가지, 말, 라고, 수가, 없다, ...</td>\n",
              "      <td>[일단, 자다]</td>\n",
              "    </tr>\n",
              "    <tr>\n",
              "      <th>2</th>\n",
              "      <td>0</td>\n",
              "      <td>0</td>\n",
              "      <td>3</td>\n",
              "      <td>0</td>\n",
              "      <td>1</td>\n",
              "      <td>[학교, 에서, 친구, 괴롭히다, 무리, 에게, 그만하다]</td>\n",
              "      <td>[그런데, 말, 난, 후, 나다, 괴롭히다, 보다, 불안하다]</td>\n",
              "      <td>[나, 옳다, 일, 거, 라고, 생각, 나, 까지, 괴롭히다, 신고, 거야]</td>\n",
              "    </tr>\n",
              "  </tbody>\n",
              "</table>\n",
              "</div>"
            ],
            "text/plain": [
              "   연령  ...                                         문장3\n",
              "0   1  ...           [응, 그래도, 난, 내, 싶다, 일, 위해, 노력, 거야]\n",
              "1   0  ...                                    [일단, 자다]\n",
              "2   0  ...  [나, 옳다, 일, 거, 라고, 생각, 나, 까지, 괴롭히다, 신고, 거야]\n",
              "\n",
              "[3 rows x 8 columns]"
            ]
          },
          "metadata": {},
          "execution_count": 9
        }
      ]
    },
    {
      "cell_type": "code",
      "metadata": {
        "id": "8hMtbKhmyMKI"
      },
      "source": [
        "tokenizer = Tokenizer()\n",
        "tokenizer.fit_on_texts(train['문장1'])\n",
        "tokenizer.fit_on_texts(test['문장1'])"
      ],
      "execution_count": 16,
      "outputs": []
    },
    {
      "cell_type": "code",
      "metadata": {
        "colab": {
          "base_uri": "https://localhost:8080/"
        },
        "id": "SCKst090yZLc",
        "outputId": "4ea74239-e770-427f-c4be-e753ebf1b31c"
      },
      "source": [
        "print(tokenizer.word_index)"
      ],
      "execution_count": 19,
      "outputs": [
        {
          "output_type": "stream",
          "name": "stdout",
          "text": [
            "{'나': 1, '내': 2, '너무': 3, '친구': 4, '있다': 5, '것': 6, '같다': 7, '에서': 8, '없다': 9, '보다': 10, '않다': 11, '안': 12, '못': 13, '좋다': 14, '받다': 15, '에게': 16, '만': 17, '되다': 18, '사람': 19, '이야': 20, '돼다': 21, '들다': 22, '회사': 23, '말': 24, '오늘': 25, '아내': 26, '돈': 27, '나르다': 28, '요즘': 29, '게': 30, '로': 31, '싶다': 32, '스럽다': 33, '한테': 34, '정말': 35, '가다': 36, '일': 37, '때문': 38, '남편': 39, '슬프다': 40, '걱정': 41, '하고': 42, '생각': 43, '우리': 44, '고': 45, '화가': 46, '자다': 47, '때': 48, '힘들다': 49, '나다': 50, '모르다': 51, '이번': 52, '수': 53, '집': 54, '다': 55, '오다': 56, '결혼': 57, '아들': 58, '아프다': 59, '많이': 60, '거': 61, '마음': 62, '불안하다': 63, '기분': 64, '자식': 65, '직장': 66, '당황': 67, '되어다': 68, '나오다': 69, '더': 70, '엄마': 71, '병원': 72, '먹다': 73, '당하다': 74, '기쁘다': 75, '해': 76, '준비': 77, '많다': 78, '가족': 79, '주다': 80, '날': 81, '학교': 82, '부모님': 83, '어떻다': 84, '적': 85, '이제': 86, '속상하다': 87, '걸': 88, '나이': 89, '그': 90, '취업': 91, '인데': 92, '딸': 93, '난': 94, '자꾸': 95, '일이': 96, '건강': 97, '아이': 98, '내다': 99, '다른': 100, '아무': 101, '혼자': 102, '전': 103, '지금': 104, '다니다': 105, '짜증': 106, '노후': 107, '아빠': 108, '은퇴': 109, '그렇다': 110, '라고': 111, '까지': 112, '해주다': 113, '갑자기': 114, '공부': 115, '인': 116, '몸': 117, '보고': 118, '알다': 119, '왜': 120, '버리다': 121, '애': 122, '상사': 123, '아니다': 124, '비': 125, '싫다': 126, '같이': 127, '선생님': 128, '서': 129, '살다': 130, '연락': 131, '생기다': 132, '남자친구': 133, '어제': 134, '만나다': 135, '시간': 136, '계속': 137, '업무': 138, '시험': 139, '크다': 140, '친하다': 141, '성적': 142, '스트레스': 143, '우울하다': 144, '죽다': 145, '걸리다': 146, '알': 147, '떨어지다': 148, '이다': 149, '줄': 150, '님': 151, '하나': 152, '열심히': 153, '거야': 154, '후': 155, '괴롭히다': 156, '직원': 157, '살': 158, '믿다': 159, '나가다': 160, '싸우다': 161, '마다': 162, '년': 163, '없이': 164, '얼마': 165, '이랑': 166, '수술': 167, '좋아하다': 168, '앞': 169, '상처': 170, '항상': 171, '얘기': 172, '동료': 173, '팀': 174, '고민': 175, '부터': 176, '동생': 177, '여자': 178, '남자': 179, '술': 180, '모두': 181, '따돌림': 182, '맞다': 183, '건강하다': 184, '중': 185, '혼란': 186, '괴롭다': 187, '반': 188, '한심하다': 189, '차다': 190, '후회': 191, '나서다': 192, '아직': 193, '새롭다': 194, '병': 195, '부끄럽다': 196, '어렵다': 197, '억울하다': 198, '대학': 199, '매일': 200, '문제': 201, '다행': 202, '위해': 203, '생활': 204, '치료': 205, '두렵다': 206, '의사': 207, '이렇게': 208, '충격': 209, '사실': 210, '면접': 211, '보내다': 212, '대해': 213, '무섭다': 214, '빌리다': 215, '시키다': 216, '모으다': 217, '두다': 218, '여자친구': 219, '께': 220, '암': 221, '자기': 222, '에는': 223, '눈물': 224, '달라': 225, '또': 226, '자신': 227, '세상': 228, '노인': 229, '곳': 230, '주변': 231, '걸다': 232, '연애': 233, '챙기다': 234, '감': 235, '운동': 236, '보이다': 237, '지다': 238, '언니': 239, '그래서': 240, '실수': 241, '에도': 242, '뭐': 243, '쓰다': 244, '드디어': 245, '지내다': 246, '이야기': 247, '함께': 248, '무시': 249, '동기': 250, '수가': 251, '약': 252, '놀다': 253, '미안하다': 254, '프로젝트': 255, '번': 256, '시작': 257, '느끼다': 258, '입원': 259, '할머니': 260, '하': 261, '지': 262, '여행': 263, '행복하다': 264, '달': 265, '원하다': 266, '몇': 267, '외로워': 268, '합격': 269, '들어서다': 270, '모습': 271, '이렇다': 272, '이라': 273, '들어가다': 274, '이나': 275, '결과': 276, '이라고': 277, '네': 278, '답답하다': 279, '아주': 280, '신경': 281, '가지': 282, '빨리': 283, '떠나다': 284, '오랜': 285, '김': 286, '편하다': 287, '들어오다': 288, '가게': 289, '점점': 290, '화': 291, '도와주다': 292, '듣다': 293, '느껴지다': 294, '잘못': 295, '라': 296, '승진': 297, '사업': 298, '힘드다': 299, '쉬다': 300, '배신': 301, '데': 302, '사이': 303, '느낌': 304, '좋아지다': 305, '상황': 306, '씨': 307, '사다': 308, '간': 309, '벌써': 310, '남다': 311, '곧': 312, '해도': 313, '어리다': 314, '젊다': 315, '진짜': 316, '갈다': 317, '심하다': 318, '전화': 319, '귀찮다': 320, '나쁘다': 321, '노': 322, '인정': 323, '처음': 324, '뒤': 325, '모임': 326, '관리': 327, '물어보다': 328, '오래': 329, '그만두다': 330, '건': 331, '내일': 332, '옆집': 333, '고생': 334, '이상': 335, '께서': 336, '원': 337, '밥': 338, '아직도': 339, '사장': 340, '써다': 341, '당뇨': 342, '자금': 343, '짜증나다': 344, '이혼': 345, '진로': 346, '조금': 347, '몰래': 348, '출산': 349, '용돈': 350, '사고': 351, '실망': 352, '늦다': 353, '자주': 354, '초조하다': 355, '부장': 356, '질환': 357, '퇴직': 358, '관심': 359, '바람': 360, '예전': 361, '먼저': 362, '감사하다': 363, '처럼': 364, '코로나': 365, '형': 366, '남': 367, '이유': 368, '대화': 369, '생일': 370, '면': 371, '당혹스럽다': 372, '도움': 373, '말다': 374, '무슨': 375, '척': 376, '선물': 377, '소리': 378, '질투': 379, '별로': 380, '부서': 381, '가기': 382, '최근': 383, '투자': 384, '보': 385, '니까': 386, '따돌리다': 387, '학교폭력': 388, '요새': 389, '동안': 390, '늙다': 391, '제대로': 392, '젠': 393, '출근': 394, '손자': 395, '조심스럽다': 396, '성가시다': 397, '꿈': 398, '지원': 399, '애가': 400, '주식': 401, '다시': 402, '사랑': 403, '갚다': 404, '이상하다': 405, '온': 406, '성': 407, '약속': 408, '헤어지다': 409, '하니': 410, '불편하다': 411, '놓다': 412, '언제': 413, '고맙다': 414, '눈치': 415, '편안하다': 416, '볼': 417, '그냥': 418, '필요하다': 419, '피우다': 420, '취직': 421, '애인': 422, '음식': 423, '사귀다': 424, '어떡하다': 425, '사': 426, '크게': 427, '옆': 428, '담배': 429, '벌다': 430, '입사': 431, '꼭': 432, '찾아오다': 433, '상태': 434, '낳다': 435, '준': 436, '화나다': 437, '건강검진': 438, '가해자': 439, '오르다': 440, '임신': 441, '대': 442, '평소': 443, '부족하다': 444, '라는': 445, '보험': 446, '방': 447, '제일': 448, '끝나다': 449, '재산': 450, '밖에': 451, '바쁘다': 452, '재정': 453, '머리': 454, '그런데': 455, '자리': 456, '치다': 457, '회의': 458, '여서': 459, '끊다': 460, '퇴근': 461, '며칠': 462, '건지다': 463, '엔': 464, '놀라다': 465, '노력': 466, '주말': 467, '잔소리': 468, '그동안': 469, '소식': 470, '키우다': 471, '부럽다': 472, '부부': 473, '모든': 474, '가난하다': 475, '기다리다': 476, '발표': 477, '싫어하다': 478, '실망하다': 479, '해고': 480, '찾다': 481, '관계': 482, '보기': 483, '빠지다': 484, '아침': 485, '때리다': 486, '장님': 487, '누나': 488, '선배': 489, '다녀오다': 490, '하루': 491, '맡다': 492, '거짓말': 493, '길': 494, '빼다': 495, '얼굴': 496, '늘': 497, '결국': 498, '그렇게': 499, '치매': 500, '돌아가다': 501, '감정': 502, '구역질': 503, '오지': 504, '눈': 505, '두': 506, '가장': 507, '결혼식': 508, '잠': 509, '폭력': 510, '매번': 511, '욕': 512, '대다': 513, '야근': 514, '인지': 515, '만들다': 516, '구': 517, '울다': 518, '해보다': 519, '동네': 520, '경제': 521, '인생': 522, '옷': 523, '삶': 524, '학원': 525, '째': 526, '명': 527, '넘다': 528, '혼나다': 529, '사기': 530, '심해지다': 531, '평생': 532, '올해': 533, '비싸다': 534, '외롭다': 535, '퇴원': 536, '월급': 537, '정도': 538, '막막하다': 539, '박': 540, '엄청': 541, '퇴사': 542, '둘': 543, '에만': 544, '당': 545, '중이': 546, '우울증': 547, '손': 548, '다치다': 549, '상담': 550, '검진': 551, '빚': 552, '차': 553, '큰일': 554, '영': 555, '대한': 556, '대로': 557, '하라': 558, '매우': 559, '환멸': 560, '얼마나': 561, '거절': 562, '비교': 563, '덕분': 564, '수업': 565, '쓰러지다': 566, '급하다': 567, '뭘': 568, '자랑': 569, '기': 570, '늘다': 571, '저': 572, '과장': 573, '에서는': 574, '연금': 575, '서로': 576, '집안': 577, '고백': 578, '인사': 579, '주': 580, '자녀': 581, '따르다': 582, '삼': 583, '졸업': 584, '신입': 585, '대학교': 586, '괴롭힘': 587, '회식': 588, '높다': 589, '좌절': 590, '다음': 591, '잃다': 592, '주지': 593, '다투다': 594, '마비': 595, '죄책감': 596, '일찍': 597, '고혈압': 598, '중요하다': 599, '대출': 600, '성공하다': 601, '입다': 602, '걱정스럽다': 603, '미치다': 604, '뜨다': 605, '허리': 606, '지치다': 607, '계획': 608, '처리': 609, '불다': 610, '교통사고': 611, '고립': 612, '힘': 613, '이라는': 614, '아기': 615, '진단': 616, '이해': 617, '배': 618, '물건': 619, '여유': 620, '밤': 621, '이사': 622, '소문': 623, '서운하다': 624, '아무리': 625, '며느리': 626, '가끔': 627, '오빠': 628, '포기': 629, '맨날': 630, '만족스럽다': 631, '위': 632, '혐오': 633, '점수': 634, '많아지다': 635, '만큼': 636, '없어지다': 637, '속': 638, '병문안': 639, '쓰이다': 640, '한다는': 641, '전혀': 642, '반대': 643, '진행': 644, '십': 645, '칭찬': 646, '휴가': 647, '서럽다': 648, '괜찮다': 649, '정년': 650, '살이': 651, '이후': 652, '서다': 653, '지인': 654, '괜히': 655, '행동': 656, '부하': 657, '성격': 658, '일도': 659, '누구': 660, '신나다': 661, '아끼다': 662, '퇴직금': 663, '이고': 664, '별': 665, '이르다': 666, '대신': 667, '검사': 668, '마련': 669, '텐데': 670, '사과': 671, '아버지': 672, '어디': 673, '다가오다': 674, '가면': 675, '사주다': 676, '부탁': 677, '분': 678, '들이다': 679, '자고': 680, '죽음': 681, '부르다': 682, '라도': 683, '끼리': 684, '들키다': 685, '등산': 686, '장': 687, '피곤하다': 688, '명절': 689, '이직': 690, '세': 691, '인하다': 692, '신': 693, '갖다': 694, '저축': 695, '혹시': 696, '손주': 697, '작다': 698, '다리': 699, '후배': 700, '공무원': 701, '미루다': 702, '의견': 703, '적다': 704, '력': 705, '나니': 706, '가야': 707, '씩': 708, '미리': 709, '근데': 710, '형편': 711, '이래': 712, '만날': 713, '스스로': 714, '열': 715, '오랫동안': 716, '드리다': 717, '열등감': 718, '축하': 719, '비다': 720, '타다': 721, '알아보다': 722, '꾸준하다': 723, '왕따': 724, '부담': 725, '사정': 726, '가입': 727, '가지다': 728, '생활비': 729, '일부러': 730, '떨리다': 731, '고등학교': 732, '첫': 733, '죽': 734, '태어나다': 735, '라서': 736, '신고': 737, '기억': 738, '뿐': 739, '요양원': 740, '뭐라다': 741, '아무렇다': 742, '해결': 743, '해오다': 744, '등': 745, '돌아오다': 746, '일어나다': 747, '양제': 748, '잡다': 749, '험담': 750, '쓸다': 751, '산': 752, '과제': 753, '앓다': 754, '멀어지다': 755, '능력': 756, '장례식': 757, '그게': 758, '게임': 759, '일자리': 760, '집안일': 761, '버려진': 762, '분위기': 763, '시선': 764, '항': 765, '암치료': 766, '바로': 767, '친척': 768, '숙제': 769, '오': 770, '지나다': 771, '오해': 772, '외': 773, '거리': 774, '실패하다': 775, '망하다': 776, '예쁘다': 777, '나누다': 778, '안심': 779, '뻔하다': 780, '끝': 781, '친해지다': 782, '은행': 783, '즐겁다': 784, '무릎': 785, '대인관계': 786, '롭고': 787, '서류': 788, '돌보다': 789, '넣다': 790, '남지': 791, '조': 792, '계약': 793, '제': 794, '이네': 795, '바꾸다': 796, '배우다': 797, '새': 798, '소개': 799, '쓸쓸하다': 800, '마시다': 801, '저번': 802, '전학': 803, '사람과': 804, '지키다': 805, '털다': 806, '잃어버리다': 807, '여러': 808, '관절염': 809, '부리다': 810, '하지만': 811, '밖': 812, '기대': 813, '살아오다': 814, '판정': 815, '놀리다': 816, '밀리다': 817, '아르바이트': 818, '통': 819, '앞두다': 820, '망치다': 821, '주위': 822, '요구': 823, '후회되다': 824, '정리': 825, '정신': 826, '만난': 827, '창피하다': 828, '붙다': 829, '들어주다': 830, '꺼내다': 831, '긴장': 832, '완치': 833, '미래': 834, '속이다': 835, '무엇': 836, '어머니': 837, '느긋하다': 838, '아무래도': 839, '나빠지다': 840, '탈락': 841, '얻다': 842, '수치': 843, '갱년기': 844, '탓': 845, '하자': 846, '미우다': 847, '사원': 848, '통보': 849, '선택': 850, '동창': 851, '대리': 852, '피해': 853, '청소': 854, '넘어지다': 855, '누가': 856, '그걸': 857, '직업': 858, '넘기다': 859, '화장실': 860, '대기업': 861, '과의': 862, '기업': 863, '실적': 864, '만에': 865, '집중': 866, '인가': 867, '어울리다': 868, '일주일': 869, '당장': 870, '비통하다': 871, '말씀': 872, '영감': 873, '다르다': 874, '래': 875, '유학': 876, '적금': 877, '근무': 878, '그만': 879, '지르다': 880, '올리다': 881, '간다': 882, '결정': 883, '발령': 884, '희생': 885, '놈': 886, '물리다': 887, '순간': 888, '뿌듯하다': 889, '바뀌다': 890, '폐암': 891, '신뢰': 892, '동호회': 893, '돌리다': 894, '지각': 895, '맡기다': 896, '간암': 897, '월세': 898, '끝내다': 899, '유산': 900, '바라다': 901, '취소': 902, '섭섭하다': 903, '강요': 904, '걔': 905, '안달': 906, '보험금': 907, '훔치다': 908, '필요': 909, '앉다': 910, '오히려': 911, '부동산': 912, '간호사': 913, '문': 914, '스러운': 915, '가버리다': 916, '겪다': 917, '눕다': 918, '거래처': 919, '이기다': 920, '어이': 921, '낮다': 922, '나중': 923, '솔직하다': 924, '일만': 925, '천식': 926, '만성': 927, '편': 928, '점': 929, '효과': 930, '상': 931, '땅': 932, '사라지다': 933, '찌다': 934, '수학': 935, '며': 936, '집다': 937, '가슴': 938, '전부': 939, '저녁': 940, '연봉': 941, '노년': 942, '의심': 943, '악화': 944, '다행하다': 945, '시골': 946, '녀석': 947, '팔': 948, '제출': 949, '딸아이': 950, '마을': 951, '쳐다보다': 952, '기간': 953, '어쩌지': 954, '웃다': 955, '추천': 956, '통장': 957, '사회': 958, '줄다': 959, '당첨': 960, '학생': 961, '즐기다': 962, '으로는': 963, '살아가다': 964, '깨다': 965, '참다': 966, '피하': 967, '비웃다': 968, '발견': 969, '건데': 970, '황당하다': 971, '이지': 972, '채용': 973, '계시다': 974, '잘리다': 975, '에게는': 976, '합병증': 977, '시': 978, '에서도': 979, '장이': 980, '이라도': 981, '아이디어': 982, '숨기다': 983, '무척': 984, '체력': 985, '일등': 986, '낼': 987, '날다': 988, '점심': 989, '이라서': 990, '내주다': 991, '시어머니': 992, '드': 993, '대하': 994, '환자': 995, '어느': 996, '가방': 997, '취급': 998, '데이트': 999, '관': 1000, '비밀': 1001, '충분하다': 1002, '살기': 1003, '비참하다': 1004, '풀다': 1005, '조차': 1006, '의지': 1007, '그래도': 1008, '권유': 1009, '생기': 1010, '신입사원': 1011, '팀원': 1012, '문자': 1013, '가져가다': 1014, '굉장하다': 1015, '인간관계': 1016, '와이프': 1017, '도대체': 1018, '기도': 1019, '소개팅': 1020, '내년': 1021, '어쩔': 1022, '맛있다': 1023, '훨씬': 1024, '당한': 1025, '위암': 1026, '말기': 1027, '대답': 1028, '이십': 1029, '싸움': 1030, '대비': 1031, '맘': 1032, '스럽게': 1033, '쉬': 1034, '자료': 1035, '자꾸만': 1036, '값': 1037, '시기': 1038, '손해': 1039, '잊다': 1040, '거지': 1041, '응원': 1042, '아깝다': 1043, '옮기다': 1044, '은근': 1045, '뺏다': 1046, '초라하다': 1047, '분명': 1048, '에게만': 1049, '안정': 1050, '핸드폰': 1051, '태도': 1052, '따로': 1053, '관련': 1054, '종일': 1055, '지갑': 1056, '어이없다': 1057, '이름': 1058, '보태': 1059, '성과': 1060, '반장': 1061, '현실': 1062, '대서': 1063, '부분': 1064, '방금': 1065, '산책': 1066, '혼내다': 1067, '채': 1068, '담임': 1069, '뭔가': 1070, '수도': 1071, '똑같다': 1072, '기회': 1073, '장난': 1074, '병실': 1075, '위로': 1076, '버스': 1077, '편이': 1078, '집사람': 1079, '거의': 1080, '절대': 1081, '려고': 1082, '비용': 1083, '열다': 1084, '가정': 1085, '식단': 1086, '일로': 1087, '혈압': 1088, '아파트': 1089, '허락': 1090, '마주치다': 1091, '지방': 1092, '디스크': 1093, '강아지': 1094, '개': 1095, '틀리다': 1096, '손녀': 1097, '히': 1098, '보고서': 1099, '확인': 1100, '최종': 1101, '드니': 1102, '끄다': 1103, '정': 1104, '혼': 1105, '우연히': 1106, '감당': 1107, '꼴': 1108, '안도': 1109, '올라서다': 1110, '작년': 1111, '멀리': 1112, '장사': 1113, '이라니': 1114, '맞추다': 1115, '넉넉하다': 1116, '운영': 1117, '지긋지긋하다': 1118, '모이다': 1119, '잦다': 1120, '체육': 1121, '지난': 1122, '그녀': 1123, '자살': 1124, '뉴스': 1125, '창피해': 1126, '약하다': 1127, '전화하다': 1128, '흥분': 1129, '개월': 1130, '막히다': 1131, '거래': 1132, '차별': 1133, '냄새': 1134, '차리다': 1135, '최고': 1136, '사용': 1137, '출장': 1138, '할아버지': 1139, '사진': 1140, '본인': 1141, '성공': 1142, '날아가다': 1143, '자격증': 1144, '막상': 1145, '마지막': 1146, '지시': 1147, '평가': 1148, '삼십': 1149, '대회': 1150, '외식': 1151, '당뇨병': 1152, '교수': 1153, '시절': 1154, '시댁': 1155, '실': 1156, '일해': 1157, '통해': 1158, '너무나': 1159, '최': 1160, '폭행': 1161, '깜짝': 1162, '니': 1163, '겨우': 1164, '지나가다': 1165, '와의': 1166, '냐': 1167, '해봤다': 1168, '지만': 1169, '로부터': 1170, '고지혈증': 1171, '나아지다': 1172, '헤어지자': 1173, '부모': 1174, '관절': 1175, '기침': 1176, '진학': 1177, '치밀다': 1178, '전공': 1179, '대표': 1180, '분노': 1181, '든': 1182, '뽑다': 1183, '말고': 1184, '유지': 1185, '갈수록': 1186, '직': 1187, '취미': 1188, '반응': 1189, '피': 1190, '영어': 1191, '간호': 1192, '요': 1193, '이력서': 1194, '뒷바라지': 1195, '이제야': 1196, '심장': 1197, '출금': 1198, '감기': 1199, '매달': 1200, '어려워지다': 1201, '컴퓨터': 1202, '신청': 1203, '불쌍하다': 1204, '달라지다': 1205, '화해': 1206, '하래': 1207, '한마디': 1208, '경로당': 1209, '보여주다': 1210, '아쉽다': 1211, '사춘기': 1212, '착하다': 1213, '질문': 1214, '항암': 1215, '완전하다': 1216, '지병': 1217, '책': 1218, '분명하다': 1219, '데려오다': 1220, '탈모': 1221, '에게도': 1222, '곁': 1223, '친절하다': 1224, '묻다': 1225, '허무하다': 1226, '백': 1227, '교육': 1228, '의식': 1229, '작성': 1230, '짐': 1231, '이면': 1232, '무조건': 1233, '큰아들': 1234, '서글프다': 1235, '사무실': 1236, '방법': 1237, '땐': 1238, '절망': 1239, '노래': 1240, '커서': 1241, '엄청나다': 1242, '취약': 1243, '부담스럽다': 1244, '죄송하다': 1245, '이지만': 1246, '군대': 1247, '여기다': 1248, '타': 1249, '원래': 1250, '제안': 1251, '믿음': 1252, '성적표': 1253, '완전': 1254, '예민하다': 1255, '조심': 1256, '회장': 1257, '찍다': 1258, '옛날': 1259, '꽤': 1260, '내지': 1261, '회': 1262, '조절': 1263, '도망가다': 1264, '하루하루': 1265, '복지': 1266, '그대로': 1267, '재미': 1268, '노트': 1269, '라니': 1270, '변하다': 1271, '갑작스럽다': 1272, '남아': 1273, '프러포즈': 1274, '걷다': 1275, '길이': 1276, '발': 1277, '궁금하다': 1278, '누군가': 1279, '겁': 1280, '조용하다': 1281, '차이': 1282, '외출': 1283, '따다': 1284, '경력': 1285, '심해': 1286, '이어서': 1287, '나름': 1288, '듯': 1289, '여기저기': 1290, '끊기다': 1291, '난리': 1292, '이식': 1293, '센터': 1294, '맛': 1295, '소외': 1296, '가보다': 1297, '육아': 1298, '자랑스럽다': 1299, '저지르다': 1300, '타고': 1301, '차려': 1302, '막': 1303, '울': 1304, '금': 1305, '정작': 1306, '민망하다': 1307, '든든하다': 1308, '투병': 1309, '요청': 1310, '온종일': 1311, '지겹다': 1312, '주가': 1313, '악의': 1314, '일인': 1315, '와도': 1316, '쌓이다': 1317, '말다툼': 1318, '이미': 1319, '수입': 1320, '차갑다': 1321, '엉망': 1322, '물': 1323, '상의': 1324, '넘어가다': 1325, '줄어들다': 1326, '중년': 1327, '여름': 1328, '만족하다': 1329, '고장': 1330, '식품': 1331, '생각나다': 1332, '마무리': 1333, '재촉': 1334, '집주인': 1335, '경찰': 1336, '활동': 1337, '등급': 1338, '살리다': 1339, '짝': 1340, '학기': 1341, '백수': 1342, '수능': 1343, '보이': 1344, '증상': 1345, '채다': 1346, '고기': 1347, '장기': 1348, '담당': 1349, '도박': 1350, '움직이다': 1351, '신세': 1352, '동': 1353, '커피': 1354, '무기': 1355, '달이': 1356, '대체': 1357, '신경질': 1358, '소용': 1359, '적성': 1360, '이루다': 1361, '잘나다': 1362, '무사하다': 1363, '카드': 1364, '오십': 1365, '기다': 1366, '식사': 1367, '기대하다': 1368, '청년': 1369, '시끄럽다': 1370, '안되다': 1371, '막내': 1372, '데리': 1373, '내내': 1374, '알아주다': 1375, '초기': 1376, '불만': 1377, '가깝다': 1378, '해내다': 1379, '밉다': 1380, '덥다': 1381, '파다': 1382, '취해': 1383, '물다': 1384, '조급하다': 1385, '굳다': 1386, '여기': 1387, '재발': 1388, '상대': 1389, '싫어지다': 1390, '동아리': 1391, '학폭위': 1392, '워': 1393, '양': 1394, '심부름': 1395, '버': 1396, '여': 1397, '확실하다': 1398, '에겐': 1399, '용기': 1400, '마음대로': 1401, '어색하다': 1402, '까먹다': 1403, '새벽': 1404, '벌': 1405, '마치': 1406, '직접': 1407, '설레다': 1408, '친정': 1409, '한번': 1410, '잘해주다': 1411, '무리': 1412, '개인': 1413, '치고': 1414, '이란': 1415, '주사': 1416, '자신감': 1417, '내려가다': 1418, '보지': 1419, '신장': 1420, '오래되다': 1421, '날짜': 1422, '달리': 1423, '짓': 1424, '가볍다': 1425, '무량': 1426, '해외': 1427, '멈추다': 1428, '으로도': 1429, '낫다': 1430, '소홀하다': 1431, '날리다': 1432, '이용': 1433, '따라가다': 1434, '어찌': 1435, '달다': 1436, '동성애자': 1437, '터지다': 1438, '자퇴': 1439, '버티다': 1440, '도착': 1441, '식': 1442, '표정': 1443, '지켜보다': 1444, '역겹다': 1445, '질병': 1446, '언젠가': 1447, '끼다': 1448, '시력': 1449, '직무': 1450, '먹기': 1451, '한참': 1452, '주어': 1453, '조건': 1454, '독립': 1455, '안다': 1456, '재': 1457, '체중': 1458, '보너스': 1459, '급식': 1460, '말씀드리다': 1461, '필기': 1462, '지하철': 1463, '도저히': 1464, '치': 1465, '늘어나다': 1466, '업': 1467, '내기': 1468, '동창회': 1469, '참여': 1470, '계산': 1471, '심정': 1472, '지출': 1473, '그때': 1474, '멀다': 1475, '견디다': 1476, '덕': 1477, '놓이다': 1478, '가능하다': 1479, '안타깝다': 1480, '사내': 1481, '치우다': 1482, '영화': 1483, '기사': 1484, '역시': 1485, '압박': 1486, '다이어트': 1487, '쪽': 1488, '재미있다': 1489, '재테크': 1490, '편지': 1491, '짜다': 1492, '습관': 1493, '입': 1494, '억지로': 1495, '보다는': 1496, '답': 1497, '불합격': 1498, '자전거': 1499, '운전': 1500, '육십': 1501, '명도': 1502, '왠지': 1503, '술자리': 1504, '정상': 1505, '지적': 1506, '책임지다': 1507, '확신': 1508, '당연하다': 1509, '로는': 1510, '어깨': 1511, '꺼리다': 1512, '사수': 1513, '마감': 1514, '통화': 1515, '파혼': 1516, '글쎄': 1517, '뻔': 1518, '반찬': 1519, '복권': 1520, '마저': 1521, '공': 1522, '어': 1523, '내버리다': 1524, '파티': 1525, '금액': 1526, '당분간': 1527, '건가': 1528, '인정받다': 1529, '현재': 1530, '이동': 1531, '뇌졸중': 1532, '과거': 1533, '예정': 1534, '숨': 1535, '처벌': 1536, '흘리다': 1537, '가격': 1538, '가라': 1539, '받아들이다': 1540, '낙담하다': 1541, '떠오르다': 1542, '언제나': 1543, '정보': 1544, '금방': 1545, '존재': 1546, '중간고사': 1547, '과연': 1548, '여유롭다': 1549, '골다공증': 1550, '종종': 1551, '어차피': 1552, '명품': 1553, '보증': 1554, '내용': 1555, '지나치다': 1556, '무리하다': 1557, '과외': 1558, '터': 1559, '학년': 1560, '한숨': 1561, '시도': 1562, '조언': 1563, '백내장': 1564, '기운': 1565, '오라': 1566, '여직원': 1567, '죄': 1568, '원금': 1569, '창업': 1570, '어른': 1571, '덜': 1572, '인슐린': 1573, '바라보다': 1574, '지난주': 1575, '풀리다': 1576, '경험': 1577, '닫다': 1578, '나타나다': 1579, '기대다': 1580, '업체': 1581, '식당': 1582, '간섭': 1583, '사소하다': 1584, '자시다': 1585, '읽다': 1586, '런가': 1587, '잠깐': 1588, '구박': 1589, '전교': 1590, '가도': 1591, '틈': 1592, '벗어나다': 1593, '예약': 1594, '기한': 1595, '유방암': 1596, '수학여행': 1597, '함부로': 1598, '되게': 1599, '기르다': 1600, '방문': 1601, '외모': 1602, '데리다': 1603, '연예인': 1604, '느리다': 1605, '에선': 1606, '바보': 1607, '가져오다': 1608, '처지': 1609, '기획': 1610, '재수': 1611, '손님': 1612, '이별': 1613, '수군거리다': 1614, '이웃': 1615, '한결': 1616, '체': 1617, '보라': 1618, '연': 1619, '고치다': 1620, '텔레비전': 1621, '요리': 1622, '귀': 1623, '자취': 1624, '빼': 1625, '입시': 1626, '슬슬': 1627, '입학': 1628, '핀잔': 1629, '커닝': 1630, '에서만': 1631, '고객': 1632, '선': 1633, '해달라다': 1634, '화목': 1635, '닮다': 1636, '내리다': 1637, '간병': 1638, '펀드': 1639, '보이지': 1640, '헬스장': 1641, '이자': 1642, '모자라다': 1643, '잊어버리다': 1644, '여태': 1645, '온몸': 1646, '피해자': 1647, '희망': 1648, '거기': 1649, '몹시': 1650, '여전하다': 1651, '부정': 1652, '구해': 1653, '줄이다': 1654, '추석': 1655, '귀가': 1656, '방어': 1657, '시달리다': 1658, '잔뜩': 1659, '그리다': 1660, '조심하다': 1661, '해외여행': 1662, '정부': 1663, '비슷하다': 1664, '욕심': 1665, '요양': 1666, '어찌나': 1667, '씁쓸하다': 1668, '방학': 1669, '푼': 1670, '실패': 1671, '영업': 1672, '육': 1673, '접다': 1674, '의미': 1675, '적응하다': 1676, '얼른': 1677, '책임': 1678, '생계': 1679, '신발': 1680, '복잡하다': 1681, '점심시간': 1682, '정기': 1683, '신랑': 1684, '배려': 1685, '불': 1686, '말리다': 1687, '대놓고': 1688, '퇴학': 1689, '메시지': 1690, '통증': 1691, '숨기': 1692, '명의': 1693, '초대': 1694, '어서': 1695, '움직': 1696, '어쩌면': 1697, '병간호': 1698, '지도': 1699, '등록금': 1700, '복지관': 1701, '날씨': 1702, '윗': 1703, '대충': 1704, '불우하다': 1705, '지경': 1706, '권': 1707, '소': 1708, '징계': 1709, '카페': 1710, '주문': 1711, '놀림': 1712, '안쓰럽다': 1713, '금연': 1714, '내려오다': 1715, '깨어나다': 1716, '고향': 1717, '참고': 1718, '자존심': 1719, '산부인과': 1720, '알려지다': 1721, '전염병': 1722, '회비': 1723, '올라오다': 1724, '중학교': 1725, '진료': 1726, '자르다': 1727, '지속': 1728, '기적': 1729, '아줌마': 1730, '젊은이': 1731, '그것': 1732, '뛰다': 1733, '맞벌이': 1734, '권고사직': 1735, '잠도': 1736, '식구': 1737, '부도': 1738, '치르다': 1739, '진심': 1740, '잡히다': 1741, '열리다': 1742, '남기다': 1743, '부다': 1744, '떨다': 1745, '적응': 1746, '깎다': 1747, '만기': 1748, '기계': 1749, '결혼기념일': 1750, '부양': 1751, '위원회': 1752, '도중': 1753, '단체': 1754, '원망': 1755, '줍다': 1756, '중인': 1757, '구매': 1758, '내시경': 1759, '현장': 1760, '중간': 1761, '뒤지다': 1762, '가르치다': 1763, '부쩍': 1764, '빠르다': 1765, '곤란하다': 1766, '가만히': 1767, '폐': 1768, '참석': 1769, '쏟다': 1770, '실기': 1771, '무너지다': 1772, '교실': 1773, '이전': 1774, '과는': 1775, '숨다': 1776, '목표': 1777, '부러지다': 1778, '재혼': 1779, '우리나라': 1780, '마스크': 1781, '잔치': 1782, '백만': 1783, '마흔': 1784, '반복': 1785, '친': 1786, '독감': 1787, '룸메이트': 1788, '코': 1789, '명예퇴직': 1790, '달래': 1791, '인원': 1792, '사회생활': 1793, '상품': 1794, '어려움': 1795, '비난': 1796, '음식점': 1797, '골프': 1798, '사망': 1799, '경우': 1800, '댁': 1801, '도둑': 1802, '써주다': 1803, '처방': 1804, '안마': 1805, '다시다': 1806, '목격': 1807, '티브이': 1808, '서른': 1809, '또래': 1810, '끼': 1811, '사람인': 1812, '매출': 1813, '공원': 1814, '학과': 1815, '병상': 1816, '면서': 1817, '차라리': 1818, '라면': 1819, '그립다': 1820, '세우다': 1821, '멀쩡하다': 1822, '치료받다': 1823, '심': 1824, '방해': 1825, '먹이다': 1826, '든지': 1827, '고집': 1828, '의욕': 1829, '깨': 1830, '인상': 1831, '성실하다': 1832, '부인': 1833, '걷기': 1834, '반갑다': 1835, '회복하다': 1836, '총각': 1837, '시비': 1838, '착잡하다': 1839, '설계': 1840, '대상': 1841, '심각하다': 1842, '병들다': 1843, '눈앞': 1844, '중소기업': 1845, '소중하다': 1846, '금융': 1847, '설명': 1848, '미워하다': 1849, '자부': 1850, '바르다': 1851, '진지하다': 1852, '유일하다': 1853, '대학생': 1854, '토': 1855, '부자': 1856, '깊다': 1857, '불행하다': 1858, '주인': 1859, '진급': 1860, '후임': 1861, '그림': 1862, '도전': 1863, '요실금': 1864, '존경': 1865, '라네': 1866, '모': 1867, '쇼핑': 1868, '음악': 1869, '인턴': 1870, '지기': 1871, '커지다': 1872, '감동': 1873, '이러다가': 1874, '둘째': 1875, '가로': 1876, '너무나도': 1877, '학업': 1878, '시대': 1879, '주택': 1880, '늦잠': 1881, '산다': 1882, '중학생': 1883, '마치다': 1884, '무능하다': 1885, '경기': 1886, '겉': 1887, '급여': 1888, '거들다': 1889, '외국': 1890, '깜빡': 1891, '세다': 1892, '매년': 1893, '살림': 1894, '환경': 1895, '소용없다': 1896, '국어': 1897, '만큼은': 1898, '마라톤': 1899, '동반': 1900, '최선': 1901, '길어지다': 1902, '정이': 1903, '상해': 1904, '절교': 1905, '오늘이': 1906, '심란하다': 1907, '작업': 1908, '폐지': 1909, '실력': 1910, '제주도': 1911, '위험하다': 1912, '치가': 1913, '근처': 1914, '자라다': 1915, '잔': 1916, '자산': 1917, '부': 1918, '정규직': 1919, '얘': 1920, '수익': 1921, '다가가다': 1922, '비도': 1923, '지난번': 1924, '양보': 1925, '풀': 1926, '순': 1927, '재활': 1928, '처': 1929, '학교생활': 1930, '핑계': 1931, '예정일': 1932, '간질': 1933, '얄밉다': 1934, '벌리다': 1935, '짝사랑': 1936, '모양': 1937, '목소리': 1938, '가다가': 1939, '더욱': 1940, '노트북': 1941, '생': 1942, '벌이': 1943, '보장': 1944, '농사': 1945, '시장': 1946, '데도': 1947, '방송': 1948, '홀로': 1949, '오니': 1950, '거부': 1951, '야하다': 1952, '서울': 1953, '약해지다': 1954, '남겨지다': 1955, '내신': 1956, '똑같이': 1957, '황': 1958, '녹내장': 1959, '째다': 1960, '쉽다': 1961, '지난달': 1962, '티': 1963, '폐렴': 1964, '임원': 1965, '아저씨': 1966, '자마자': 1967, '천천히': 1968, '선고': 1969, '조마조마하다': 1970, '일정': 1971, '사서': 1972, '안부': 1973, '쯤': 1974, '오래전': 1975, '전환': 1976, '펴다': 1977, '와는': 1978, '잘살다': 1979, '권하다': 1980, '소문나다': 1981, '사오다': 1982, '처지다': 1983, '사촌': 1984, '돌려주다': 1985, '그저': 1986, '불쾌하다': 1987, '상상': 1988, '무겁다': 1989, '성희롱': 1990, '원서': 1991, '세금': 1992, '이민': 1993, '청혼': 1994, '낫': 1995, '고독': 1996, '이리': 1997, '한잔': 1998, '무언가': 1999, '공감': 2000, '회복': 2001, '신혼': 2002, '경찰서': 2003, '답안': 2004, '대단하다': 2005, '모의고사': 2006, '부당하다': 2007, '주기': 2008, '인터넷': 2009, '군데': 2010, '막내딸': 2011, '불륜': 2012, '매': 2013, '종양': 2014, '찾아가다': 2015, '몰다': 2016, '후련하다': 2017, '단': 2018, '어젯밤': 2019, '차도': 2020, '독촉': 2021, '관해': 2022, '칠': 2023, '깨우다': 2024, '대장암': 2025, '한지': 2026, '구입': 2027, '요통': 2028, '괘씸하다': 2029, '전이': 2030, '특별하다': 2031, '성화': 2032, '막다': 2033, '비상': 2034, '기부': 2035, '불평': 2036, '증': 2037, '초등학교': 2038, '세대': 2039, '완벽하다': 2040, '소변': 2041, '연인': 2042, '하늘': 2043, '재밌다': 2044, '너무하다': 2045, '꿈꾸다': 2046, '난감하다': 2047, '피다': 2048, '치킨': 2049, '퇴': 2050, '이대로': 2051, '휠체어': 2052, '어머님': 2053, '업자': 2054, '상대방': 2055, '다가': 2056, '전체': 2057, '장애': 2058, '감사': 2059, '잠적': 2060, '연차': 2061, '울면': 2062, '듯이': 2063, '일상': 2064, '에게서': 2065, '인기': 2066, '집도': 2067, '예상': 2068, '발목': 2069, '시부모': 2070, '용서': 2071, '심심하다': 2072, '고양이': 2073, '대가': 2074, '자괴': 2075, '듣기': 2076, '목돈': 2077, '기술': 2078, '말르다': 2079, '선거': 2080, '이성': 2081, '정체': 2082, '으로만': 2083, '이끌다': 2084, '영향': 2085, '귀농': 2086, '던지다': 2087, '밤새': 2088, '꾸다': 2089, '물어': 2090, '낳을': 2091, '수정': 2092, '외박': 2093, '번째': 2094, '쓸모없다': 2095, '과도': 2096, '돌다': 2097, '큰딸': 2098, '걔네': 2099, '시한': 2100, '제때': 2101, '맞이': 2102, '조카': 2103, '차례': 2104, '잠시': 2105, '외톨이': 2106, '초': 2107, '한두': 2108, '무산': 2109, '정시': 2110, '결제': 2111, '이장': 2112, '로또': 2113, '조금씩': 2114, '소심하다': 2115, '가까워지다': 2116, '마트': 2117, '멋지다': 2118, '들리다': 2119, '쫓기다': 2120, '부딪히다': 2121, '니깐': 2122, '서툴다': 2123, '못마땅하다': 2124, '행사': 2125, '불가능하다': 2126, '세월': 2127, '대접': 2128, '표현': 2129, '뭔': 2130, '학점': 2131, '망가지다': 2132, '단짝': 2133, '위기': 2134, '거려': 2135, '목': 2136, '답장': 2137, '까지도': 2138, '배드민턴': 2139, '아마': 2140, '키': 2141, '만으로': 2142, '뛰어나다': 2143, '소통': 2144, '고과': 2145, '내면': 2146, '딱': 2147, '주민': 2148, '예의': 2149, '밝다': 2150, '체육대회': 2151, '출신': 2152, '발생': 2153, '짓다': 2154, '허전하다': 2155, '계': 2156, '말로': 2157, '바닥': 2158, '안좋다': 2159, '깜깜': 2160, '복수': 2161, '위축': 2162, '시집': 2163, '징그럽다': 2164, '조사': 2165, '방향': 2166, '납부': 2167, '주신': 2168, '고등학생': 2169, '불황': 2170, '한편': 2171, '쌀쌀': 2172, '애교': 2173, '고통': 2174, '잡고': 2175, '떠들다': 2176, '놀이': 2177, '스터디': 2178, '다정하다': 2179, '인공': 2180, '교무': 2181, '범인': 2182, '각자': 2183, '침대': 2184, '불구': 2185, '베': 2186, '망설이다': 2187, '몸살': 2188, '뇌출혈': 2189, '직속': 2190, '더니': 2191, '가난': 2192, '에서의': 2193, '이벤트': 2194, '기특하다': 2195, '통과': 2196, '파일': 2197, '질': 2198, '우선': 2199, '어버이날': 2200, '내놓다': 2201, '잠들다': 2202, '도통': 2203, '배고프다': 2204, '언': 2205, '살라': 2206, '만으로도': 2207, '정리해고': 2208, '툭하면': 2209, '끔찍하다': 2210, '돌아다니다': 2211, '도망치다': 2212, '말실수': 2213, '풀이': 2214, '비염': 2215, '내외': 2216, '유독': 2217, '처분': 2218, '라며': 2219, '잘나가다': 2220, '알리': 2221, '불공평하다': 2222, '공모전': 2223, '나가야': 2224, '애쓰다': 2225, '약간': 2226, '하고는': 2227, '빨갛다': 2228, '상하': 2229, '술집': 2230, '다단계': 2231, '지급': 2232, '외로움': 2233, '금전': 2234, '거울': 2235, '길거리': 2236, '남동생': 2237, '분해': 2238, '여성': 2239, '인간': 2240, '돌': 2241, '더러': 2242, '거두다': 2243, '컨디션': 2244, '건물': 2245, '배우자': 2246, '정해': 2247, '당당하다': 2248, '두통': 2249, '낙담': 2250, '이든': 2251, '공고': 2252, '계단': 2253, '고용': 2254, '미팅': 2255, '신체': 2256, '변화': 2257, '꼴다': 2258, '쫓겨나다': 2259, '코앞': 2260, '휴대폰': 2261, '겁나다': 2262, '어느새다': 2263, '끓이다': 2264, '원인': 2265, '프레': 2266, '테이': 2267, '션': 2268, '배달': 2269, '부러워하다': 2270, '장례': 2271, '담보': 2272, '혜택': 2273, '조만간': 2274, '미술': 2275, '낮': 2276, '높아지다': 2277, '내야': 2278, '봉사': 2279, '우유': 2280, '보이스피싱': 2281, '일어나서': 2282, '헷갈리다': 2283, '첫날': 2284, '방관': 2285, '재능': 2286, '대학원': 2287, '보살피다': 2288, '찾아보다': 2289, '이건': 2290, '턱': 2291, '도망': 2292, '외근': 2293, '빈': 2294, '금리': 2295, '버릇': 2296, '작': 2297, '단절': 2298, '까지만': 2299, '랑은': 2300, '겠다': 2301, '공채': 2302, '알리다': 2303, '그만하다': 2304, '늦어지다': 2305, '심장마비': 2306, '군': 2307, '트집': 2308, '경쟁': 2309, '철': 2310, '로운': 2311, '노름': 2312, '떠나가다': 2313, '피부': 2314, '흉': 2315, '택시': 2316, '가수': 2317, '변기': 2318, '귀엽다': 2319, '일부': 2320, '책상': 2321, '펑펑': 2322, '큰소리': 2323, '사건': 2324, '학비': 2325, '신문': 2326, '앞날': 2327, '입양': 2328, '전달': 2329, '새다': 2330, '지금껏': 2331, '몰리다': 2332, '곳도': 2333, '어쩜': 2334, '건망증': 2335, '간식': 2336, '쓸모': 2337, '브랜드': 2338, '만이': 2339, '비우다': 2340, '직할': 2341, '비리': 2342, '척도': 2343, '비아': 2344, '냥': 2345, '낙': 2346, '사사건건': 2347, '사표': 2348, '약점': 2349, '기념': 2350, '오해해': 2351, '과로': 2352, '일구다': 2353, '거실': 2354, '다툼': 2355, '께서는': 2356, '축구': 2357, '이를': 2358, '사돈': 2359, '면담': 2360, '길다': 2361, '놓치다': 2362, '아부': 2363, '보람': 2364, '조르다': 2365, '환갑': 2366, '협박': 2367, '하필': 2368, '채우다': 2369, '의자': 2370, '학벌': 2371, '기미': 2372, '마누라': 2373, '해지': 2374, '이기': 2375, '올라가다': 2376, '전형': 2377, '집착': 2378, '유명하다': 2379, '이니까': 2380, '완성': 2381, '장가': 2382, '투정': 2383, '실직': 2384, '어딜': 2385, '요즈음': 2386, '웃음': 2387, '확': 2388, '투석': 2389, '상견례': 2390, '기초': 2391, '까지는': 2392, '툴툴대': 2393, '기증': 2394, '수시': 2395, '고통스럽다': 2396, '목적': 2397, '무료': 2398, '팔다': 2399, '구직': 2400, '자존감': 2401, '아이돌': 2402, '팔이': 2403, '이틀': 2404, '놀': 2405, '부질없다': 2406, '지역': 2407, '배치': 2408, '미혼': 2409, '연습': 2410, '뇌': 2411, '선임': 2412, '데려가다': 2413, '대인': 2414, '고프다': 2415, '쓰기': 2416, '불량': 2417, '등록': 2418, '명단': 2419, '분야': 2420, '신혼여행': 2421, '슬픔': 2422, '만의': 2423, '흡연': 2424, '지목': 2425, '화도': 2426, '타지': 2427, '장소': 2428, '차이다': 2429, '장난감': 2430, '격려': 2431, '쓸데없다': 2432, '방이': 2433, '재미없다': 2434, '주시': 2435, '번호': 2436, '흐르다': 2437, '올려주다': 2438, '치과': 2439, '공허하다': 2440, '기계로': 2441, '발언': 2442, '지불': 2443, '뽑히다': 2444, '대책': 2445, '간단하다': 2446, '온대': 2447, '판매': 2448, '주어지다': 2449, '전세': 2450, '석': 2451, '꾸짖다': 2452, '보약': 2453, '이만': 2454, '씻다': 2455, '스펙': 2456, '자체': 2457, '얘길': 2458, '시스템': 2459, '찬': 2460, '청': 2461, '생명': 2462, '문서': 2463, '구조조정': 2464, '제한': 2465, '뼈': 2466, '과목': 2467, '시술': 2468, '식탁': 2469, '알코올': 2470, '넘겨주다': 2471, '차서': 2472, '심근경색': 2473, '휴직': 2474, '뇌종양': 2475, '밝히다': 2476, '참담하다': 2477, '성별': 2478, '수익률': 2479, '맘대로': 2480, '슈퍼': 2481, '짧다': 2482, '성인': 2483, '뜻대로': 2484, '망치': 2485, '광고': 2486, '휴일': 2487, '노망': 2488, '승인': 2489, '성사': 2490, '천만': 2491, '동갑': 2492, '제외': 2493, '화려하다': 2494, '상위': 2495, '씌우다': 2496, '붙잡다': 2497, '주눅': 2498, '대들다': 2499, '이모': 2500, '가리다': 2501, '교육비': 2502, '응급실': 2503, '편애': 2504, '공장': 2505, '집값': 2506, '한순간': 2507, '동업': 2508, '경': 2509, '제자리': 2510, '거짓': 2511, '쑤시다': 2512, '진': 2513, '심각해지다': 2514, '게임기': 2515, '현금': 2516, '화장': 2517, '바': 2518, '절대로': 2519, '으론': 2520, '상당하다': 2521, '어르신': 2522, '구속': 2523, '직전': 2524, '교과서': 2525, '인들': 2526, '빼놓다': 2527, '더럽다': 2528, '어디서': 2529, '매주': 2530, '애정': 2531, '카톡': 2532, '유행': 2533, '버려지다': 2534, '싸': 2535, '외면': 2536, '미세먼지': 2537, '당선': 2538, '보험료': 2539, '허망': 2540, '도시락': 2541, '기관지염': 2542, '의심스럽다': 2543, '학부모': 2544, '사직서': 2545, '급격하다': 2546, '특히': 2547, '뒤늦다': 2548, '화만': 2549, '강의': 2550, '모욕': 2551, '달리기': 2552, '기말고사': 2553, '노약': 2554, '인연': 2555, '무니': 2556, '속도': 2557, '결핵': 2558, '깨지다': 2559, '정말로': 2560, '찢어지다': 2561, '혈당': 2562, '사기꾼': 2563, '아예': 2564, '겨울': 2565, '후유증': 2566, '조원': 2567, '입대': 2568, '전해': 2569, '머리카락': 2570, '임플란트': 2571, '공기': 2572, '틀니': 2573, '최대한': 2574, '선뜻': 2575, '망': 2576, '지고': 2577, '의료': 2578, '예방': 2579, '켜다': 2580, '문과': 2581, '모이': 2582, '여생': 2583, '내미다': 2584, '뒷': 2585, '옳다': 2586, '푹': 2587, '따뜻하다': 2588, '처남': 2589, '실장': 2590, '사르다': 2591, '존중': 2592, '태풍': 2593, '난처하다': 2594, '입자': 2595, '면목': 2596, '감축': 2597, '프로그램': 2598, '둘이서': 2599, '여동생': 2600, '떡': 2601, '기복': 2602, '으로의': 2603, '복용': 2604, '병세': 2605, '영상': 2606, '지루하다': 2607, '여태껏': 2608, '마냥': 2609, '하소연': 2610, '졸업식': 2611, '사위': 2612, '예': 2613, '미련': 2614, '시험지': 2615, '학급': 2616, '기만': 2617, '교회': 2618, '세계': 2619, '유부': 2620, '거동': 2621, '팔고': 2622, '채소': 2623, '잔고': 2624, '대박': 2625, '벅차다': 2626, '만지다': 2627, '모시다': 2628, '몽땅': 2629, '손가락': 2630, '부작용': 2631, '퇴임': 2632, '워낙': 2633, '시세': 2634, '이런저런': 2635, '불면증': 2636, '중풍': 2637, '지는': 2638, '장만': 2639, '지지': 2640, '거나': 2641, '결심': 2642, '변경': 2643, '죽겠네': 2644, '일거리': 2645, '좀처럼': 2646, '주고받다': 2647, '지향': 2648, '따라서': 2649, '인맥': 2650, '보시': 2651, '한데': 2652, '화분': 2653, '사별': 2654, '고르다': 2655, '번거롭다': 2656, '연기': 2657, '문득': 2658, '출퇴근': 2659, '전보': 2660, '기력': 2661, '한국': 2662, '아등바등': 2663, '닦달': 2664, '성질': 2665, '끼치다': 2666, '소원': 2667, '기념일': 2668, '늘어놓다': 2669, '간병인': 2670, '편의점': 2671, '반말': 2672, '꼬이다': 2673, '생기지': 2674, '일과': 2675, '상관없다': 2676, '소음': 2677, '골다': 2678, '뚱뚱하다': 2679, '제시': 2680, '강제': 2681, '결혼식장': 2682, '이제껏': 2683, '차장': 2684, '형님': 2685, '보험사': 2686, '톡': 2687, '분들': 2688, '소득': 2689, '지은': 2690, '수행평가': 2691, '저금': 2692, '반항': 2693, '테': 2694, '잡': 2695, '하교': 2696, '탈': 2697, '떼다': 2698, '케이크': 2699, '퍼지다': 2700, '물리치료': 2701, '과일': 2702, '오전': 2703, '접근': 2704, '설거지': 2705, '투': 2706, '학자금': 2707, '어떻': 2708, '화장품': 2709, '의도': 2710, '자석': 2711, '하고도': 2712, '온통': 2713, '낯': 2714, '싸다': 2715, '살날': 2716, '빌다': 2717, '오토바이': 2718, '새우다': 2719, '가발': 2720, '교사': 2721, '만을': 2722, '법': 2723, '미국': 2724, '저렇게': 2725, '누명': 2726, '폭락': 2727, '장모님': 2728, '비만': 2729, '증거': 2730, '후원': 2731, '진상': 2732, '꼴등': 2733, '형제': 2734, '공기업': 2735, '내심': 2736, '하찮다': 2737, '낚시': 2738, '주름': 2739, '배정': 2740, '병동': 2741, '한동안': 2742, '임종': 2743, '실제': 2744, '비록': 2745, '건네다': 2746, '친정엄마': 2747, '떼': 2748, '후반': 2749, '방귀': 2750, '별거': 2751, '이따금': 2752, '등수': 2753, '달려오다': 2754, '보호자': 2755, '중독': 2756, '연루': 2757, '사지': 2758, '자연': 2759, '한쪽': 2760, '불친절하다': 2761, '당하': 2762, '진정': 2763, '질책': 2764, '누르다': 2765, '적자': 2766, '누락': 2767, '일흔': 2768, '나라': 2769, '통지': 2770, '장학금': 2771, '의문': 2772, '피로': 2773, '졸라': 2774, '굶다': 2775, '강도': 2776, '에이': 2777, '뱃살': 2778, '신규': 2779, '별일': 2780, '저러다': 2781, '다섯': 2782, '로만': 2783, '에스': 2784, '주네': 2785, '적당하다': 2786, '수준': 2787, '뒷담화': 2788, '췌장암': 2789, '덮다': 2790, '붉다': 2791, '완주': 2792, '보더': 2793, '청첩장': 2794, '틀어지다': 2795, '학습': 2796, '부리고': 2797, '희망이': 2798, '는커녕': 2799, '헛소문': 2800, '단둘': 2801, '캠핑': 2802, '육십이': 2803, '층': 2804, '뵈다': 2805, '워크숍': 2806, '고작': 2807, '영원하다': 2808, '동시': 2809, '호전': 2810, '빠듯한데': 2811, '온갖': 2812, '학창': 2813, '진작': 2814, '단골': 2815, '제발': 2816, '조기': 2817, '졸다': 2818, '상치': 2819, '운': 2820, '적지': 2821, '뺨': 2822, '마땅하다': 2823, '돕다': 2824, '당일': 2825, '홈쇼핑': 2826, '정책': 2827, '기준': 2828, '메신저': 2829, '임': 2830, '신용': 2831, '자유롭다': 2832, '국민연금': 2833, '굳이': 2834, '성장하다': 2835, '채팅': 2836, '보통': 2837, '부상': 2838, '합격자': 2839, '몰려오다': 2840, '청약': 2841, '수행': 2842, '대장': 2843, '바다': 2844, '착각': 2845, '곗돈': 2846, '빵': 2847, '순위': 2848, '백화점': 2849, '평균': 2850, '독서실': 2851, '차로': 2852, '생리': 2853, '꼬투리': 2854, '갈등': 2855, '사채': 2856, '조치': 2857, '게으르다': 2858, '텅': 2859, '반기다': 2860, '커플': 2861, '인수': 2862, '이상은': 2863, '밀리': 2864, '속마음': 2865, '실리다': 2866, '쓰레기': 2867, '하루아침': 2868, '주의': 2869, '정답': 2870, '한시름': 2871, '과자': 2872, '자서': 2873, '문병': 2874, '안경': 2875, '대처': 2876, '공개': 2877, '재택근무': 2878, '대고': 2879, '타박': 2880, '희귀': 2881, '도무지': 2882, '그러면': 2883, '도시': 2884, '최신': 2885, '치질': 2886, '홍삼': 2887, '아야': 2888, '렸': 2889, '오백만': 2890, '달래다': 2891, '이과': 2892, '음주운전': 2893, '야단': 2894, '놔두다': 2895, '호스피스': 2896, '혹': 2897, '꾸지람': 2898, '주임': 2899, '굽다': 2900, '표': 2901, '늦둥이': 2902, '간의': 2903, '판': 2904, '식이': 2905, '집의': 2906, '밀치다': 2907, '심지어': 2908, '신혼집': 2909, '간경변증': 2910, '박히다': 2911, '뜸': 2912, '어휴': 2913, '섞이다': 2914, '근육': 2915, '감다': 2916, '물가': 2917, '가능성': 2918, '가사': 2919, '부유하다': 2920, '하든': 2921, '추가': 2922, '꾸리다': 2923, '부지런하다': 2924, '옛': 2925, '버겁다': 2926, '연속': 2927, '다해': 2928, '매달리다': 2929, '직급': 2930, '산더미': 2931, '간절하다': 2932, '찢다': 2933, '혼수': 2934, '상여금': 2935, '예물': 2936, '전원주택': 2937, '이루어지다': 2938, '트라우마': 2939, '재료': 2940, '으로부터': 2941, '백혈병': 2942, '꾀병': 2943, '저혈압': 2944, '예비': 2945, '예금': 2946, '무거워': 2947, '무': 2948, '폭언': 2949, '교류': 2950, '돌아보다': 2951, '별것': 2952, '명문': 2953, '전과': 2954, '드라마': 2955, '자동차': 2956, '단순': 2957, '나하': 2958, '휴': 2959, '가담': 2960, '꾸미다': 2961, '절친': 2962, '차질': 2963, '치기': 2964, '실감': 2965, '휴학': 2966, '취': 2967, '보호': 2968, '삐지다': 2969, '저항': 2970, '삼다': 2971, '단순하다': 2972, '폭': 2973, '서울대': 2974, '끝내': 2975, '난동': 2976, '넓다': 2977, '수당': 2978, '작품': 2979, '무뚝뚝하다': 2980, '정학': 2981, '조롱': 2982, '래서': 2983, '액수': 2984, '휘두르다': 2985, '딸도': 2986, '그만큼': 2987, '기구': 2988, '사랑받다': 2989, '수급': 2990, '폭발': 2991, '투성이': 2992, '추다': 2993, '성추행': 2994, '따지다': 2995, '성과급': 2996, '축': 2997, '웃기다': 2998, '헌신': 2999, '로서': 3000, '기저귀': 3001, '제의': 3002, '학생회장': 3003, '방치': 3004, '돌아서다': 3005, '엘리베이터': 3006, '호흡기': 3007, '출근길': 3008, '굽': 3009, '기능': 3010, '카카오': 3011, '옷차림': 3012, '주사기': 3013, '대출받다': 3014, '정직': 3015, '분담': 3016, '텃세': 3017, '보증금': 3018, '동의': 3019, '정신과': 3020, '염려': 3021, '뮤지컬': 3022, '꼼꼼하다': 3023, '가계': 3024, '부턴': 3025, '유치원': 3026, '성형': 3027, '위급하다': 3028, '단칸': 3029, '흥분하다': 3030, '지저분하다': 3031, '액': 3032, '교내': 3033, '보단': 3034, '문화': 3035, '홀가분하다': 3036, '현관': 3037, '전문가': 3038, '역할': 3039, '경비': 3040, '계주': 3041, '마음껏': 3042, '진절머리': 3043, '한약': 3044, '벌레': 3045, '국가': 3046, '활': 3047, '위험': 3048, '상담사': 3049, '리': 3050, '코로나바이러스': 3051, '내색': 3052, '심부전증': 3053, '은사': 3054, '빈혈': 3055, '내쫓다': 3056, '벽': 3057, '곤': 3058, '늘리다': 3059, '정치': 3060, '하마터면': 3061, '말대꾸': 3062, '까다롭다': 3063, '글': 3064, '전역': 3065, '대견하다': 3066, '나은': 3067, '훌륭하다': 3068, '감시': 3069, '넘치다': 3070, '상쾌하다': 3071, '스마트폰': 3072, '서비스': 3073, '정확하다': 3074, '불안감': 3075, '참견': 3076, '환멸감': 3077, '처량하다': 3078, '콜레스테롤': 3079, '어둡다': 3080, '강하다': 3081, '준비물': 3082, '란': 3083, '불안정하다': 3084, '슬쩍': 3085, '살짝': 3086, '온라인': 3087, '폐가': 3088, '알바': 3089, '서먹해지다': 3090, '맺다': 3091, '판단': 3092, '결재': 3093, '깨끗하다': 3094, '일방': 3095, '독서': 3096, '익숙하다': 3097, '발작': 3098, '폐결핵': 3099, '빼앗다': 3100, '물러나다': 3101, '쓰리다': 3102, '틀어박히다': 3103, '섞다': 3104, '취하': 3105, '향': 3106, '손실': 3107, '체육복': 3108, '적극': 3109, '비혼': 3110, '그랬는데': 3111, '고발': 3112, '칠십': 3113, '그리고': 3114, '소화': 3115, '익숙해지다': 3116, '본가': 3117, '알레르기': 3118, '외도': 3119, '위자료': 3120, '틀림없다': 3121, '하늘나라': 3122, '이냐': 3123, '조직': 3124, '부족': 3125, '수영': 3126, '먹고살다': 3127, '사려': 3128, '던': 3129, '채점': 3130, '허탈하다': 3131, '이익': 3132, '가보': 3133, '가식': 3134, '머릿속': 3135, '화재': 3136, '아시': 3137, '진정하다': 3138, '견제': 3139, '넘어서다': 3140, '뒷말': 3141, '폐경': 3142, '약국': 3143, '극단': 3144, '주저앉다': 3145, '리지': 3146, '육아휴직': 3147, '쌀': 3148, '서도': 3149, '의료기기': 3150, '보상': 3151, '반영': 3152, '실내': 3153, '낡다': 3154, '흔쾌하다': 3155, '너': 3156, '이쁘다': 3157, '다짜고짜': 3158, '전날': 3159, '소리치다': 3160, '어지럽다': 3161, '매사': 3162, '라고는': 3163, '서서히': 3164, '엄살': 3165, '설': 3166, '동거': 3167, '한텐': 3168, '마디': 3169, '주머니': 3170, '긁다': 3171, '덜다': 3172, '마음먹다': 3173, '낙하산': 3174, '열사병': 3175, '여섯': 3176, '시계': 3177, '분배': 3178, '겸': 3179, '인걸': 3180, '당구': 3181, '손목': 3182, '맛없다': 3183, '늙은이': 3184, '만약': 3185, '퍼트': 3186, '재무': 3187, '는걸': 3188, '가망': 3189, '더듬다': 3190, '울적하다': 3191, '평판': 3192, '쏙': 3193, '근': 3194, '부리': 3195, '살갑': 3196, '수중': 3197, '최저': 3198, '제도': 3199, '민간요법': 3200, '서랍': 3201, '삼촌': 3202, '음': 3203, '가득하다': 3204, '역': 3205, '마이너스': 3206, '분하다': 3207, '임금': 3208, '물론': 3209, '근속': 3210, '평온하다': 3211, '갑갑하다': 3212, '서서': 3213, '동년배': 3214, '소비': 3215, '라니까': 3216, '악성': 3217, '늘어서다': 3218, '기숙사': 3219, '냉장고': 3220, '회원': 3221, '증세': 3222, '제자': 3223, '끊임없다': 3224, '남인': 3225, '자세하다': 3226, '체육관': 3227, '우승하다': 3228, '수술실': 3229, '완쾌': 3230, '적적하다': 3231, '구역': 3232, '좁다': 3233, '콘서트': 3234, '강사': 3235, '시국': 3236, '품': 3237, '염': 3238, '비위': 3239, '의대': 3240, '체크': 3241, '톡방': 3242, '검토': 3243, '우승': 3244, '압류': 3245, '구급차': 3246, '여간': 3247, '수령': 3248, '엊그제': 3249, '모처럼': 3250, '장거리': 3251, '부부싸움': 3252, '단어': 3253, '주부': 3254, '안보': 3255, '빨르다': 3256, '노리': 3257, '주제': 3258, '여자애': 3259, '임대': 3260, '주차': 3261, '밤새우다': 3262, '장수': 3263, '다루다': 3264, '클럽': 3265, '손가락질': 3266, '조퇴': 3267, '발전': 3268, '처가': 3269, '달성': 3270, '꿇다': 3271, '비행기': 3272, '동서': 3273, '침침하다': 3274, '허약하다': 3275, '고소하다': 3276, '스타일': 3277, '거슬리다': 3278, '제멋대로': 3279, '쏟아지다': 3280, '과정': 3281, '일어나지': 3282, '수고': 3283, '드릴': 3284, '인력': 3285, '횡령': 3286, '대부분': 3287, '유명': 3288, '가라앉다': 3289, '도리어': 3290, '정성껏': 3291, '외국인': 3292, '잘생기다': 3293, '노크': 3294, '최악': 3295, '돌이키다': 3296, '방식': 3297, '믿음직하다': 3298, '외제차': 3299, '일일이': 3300, '맥주': 3301, '장면': 3302, '건드리다': 3303, '아가씨': 3304, '만만하다': 3305, '마주': 3306, '충당': 3307, '노릇': 3308, '염세': 3309, '차마': 3310, '극복': 3311, '배우': 3312, '일으키다': 3313, '몇몇': 3314, '경향': 3315, '목욕탕': 3316, '욕설': 3317, '수월하다': 3318, '어딘가': 3319, '철수': 3320, '택배': 3321, '합의금': 3322, '동결': 3323, '감각': 3324, '제대': 3325, '중단': 3326, '납품': 3327, '스카우트': 3328, '모금': 3329, '촬영': 3330, '후의': 3331, '반려견': 3332, '걸어오다': 3333, '암울하다': 3334, '아래': 3335, '철저하다': 3336, '삶다': 3337, '보양식': 3338, '무인도': 3339, '언행': 3340, '허세': 3341, '모시': 3342, '아버님': 3343, '안내': 3344, '아주머니': 3345, '길가': 3346, '수험생': 3347, '신기하다': 3348, '변': 3349, '볼펜': 3350, '피우지': 3351, '가시': 3352, '가르다': 3353, '등교': 3354, '외부': 3355, '옛말': 3356, '찌': 3357, '밝혀지다': 3358, '수면': 3359, '삭감': 3360, '대중교통': 3361, '햄버거': 3362, '프로게이머': 3363, '시누이': 3364, '믿어지다': 3365, '행복': 3366, '야간': 3367, '자율학습': 3368, '직장인': 3369, '영양': 3370, '소견': 3371, '사라': 3372, '장염': 3373, '경비원': 3374, '겉도': 3375, '꼬박꼬박': 3376, '이던': 3377, '사적': 3378, '휘': 3379, '풍족하다': 3380, '접수': 3381, '감격': 3382, '반려': 3383, '게이트볼': 3384, '저리다': 3385, '틀다': 3386, '입덧': 3387, '유급': 3388, '함': 3389, '구두': 3390, '해산물': 3391, '정직하다': 3392, '절약': 3393, '건네주다': 3394, '재판': 3395, '사신': 3396, '유출': 3397, '남성': 3398, '흔들리다': 3399, '생산': 3400, '신다': 3401, '긍정': 3402, '꼼짝': 3403, '기립': 3404, '미역국': 3405, '유튜버': 3406, '경과': 3407, '기세': 3408, '식장': 3409, '퍼뜨리': 3410, '별다르다': 3411, '담': 3412, '그날': 3413, '해치다': 3414, '담다': 3415, '딸내미': 3416, '정색': 3417, '공유': 3418, '급': 3419, '끌다': 3420, '휴식': 3421, '지식': 3422, '끌': 3423, '교복': 3424, '들통': 3425, '유난': 3426, '과중': 3427, '절반': 3428, '보복': 3429, '뇌수막염': 3430, '여력': 3431, '따라다니다': 3432, '접': 3433, '유능하다': 3434, '언성': 3435, '서글퍼지다': 3436, '만치': 3437, '원수': 3438, '대꾸': 3439, '싱겁다': 3440, '멋있다': 3441, '거란': 3442, '날씬하다': 3443, '인스턴트': 3444, '수다': 3445, '바늘': 3446, '즙': 3447, '침': 3448, '지연': 3449, '쏘다': 3450, '내려지다': 3451, '사항': 3452, '운동장': 3453, '뜻': 3454, '불합리': 3455, '따라잡다': 3456, '지나': 3457, '담당자': 3458, '깔다': 3459, '끼니': 3460, '어쩌나': 3461, '증언': 3462, '하나같이': 3463, '쓰레기통': 3464, '걸어가다': 3465, '우린': 3466, '전망': 3467, '증오': 3468, '막내아들': 3469, '만사': 3470, '골치': 3471, '효율': 3472, '근심': 3473, '접촉': 3474, '학대': 3475, '불안': 3476, '부사': 3477, '한창': 3478, '영영': 3479, '매점': 3480, '위층': 3481, '바지': 3482, '과금': 3483, '주더': 3484, '무단': 3485, '찌르다': 3486, '성향': 3487, '투덜거리다': 3488, '친목': 3489, '곧바로': 3490, '개선': 3491, '셔': 3492, '만들기': 3493, '만으로는': 3494, '버튼': 3495, '꽃': 3496, '목숨': 3497, '논': 3498, '연말': 3499, '걱정거리': 3500, '탕': 3501, '깜빡깜빡': 3502, '축가': 3503, '범죄': 3504, '격리': 3505, '께선': 3506, '놀이동산': 3507, '벌어지다': 3508, '단벌': 3509, '신사': 3510, '문화센터': 3511, '대형': 3512, '고급': 3513, '원한': 3514, '고독사': 3515, '낮아지다': 3516, '업다': 3517, '방지': 3518, '수발': 3519, '월요일': 3520, '예산': 3521, '주도하다': 3522, '협상': 3523, '비키다': 3524, '올바르다': 3525, '부린다': 3526, '와중': 3527, '합의': 3528, '만점': 3529, '안과': 3530, '쪽지': 3531, '잇몸': 3532, '고치': 3533, '심사': 3534, '코지': 3535, '교제': 3536, '가나': 3537, '해드리다': 3538, '경매': 3539, '처참하다': 3540, '저런': 3541, '기울이다': 3542, '두절': 3543, '외제': 3544, '구조': 3545, '그렇지만': 3546, '중반': 3547, '번듯하다': 3548, '몸무게': 3549, '아흔': 3550, '빠듯해': 3551, '상속': 3552, '부터는': 3553, '뵙다': 3554, '입히다': 3555, '난청': 3556, '쫓아내다': 3557, '깁스': 3558, '바닥나다': 3559, '봄': 3560, '예식장': 3561, '부잣집': 3562, '약물': 3563, '바깥': 3564, '오기': 3565, '달려가다': 3566, '회계사': 3567, '엠티': 3568, '적도': 3569, '모자라': 3570, '부어': 3571, '오십이': 3572, '사치': 3573, '실로': 3574, '스킨십': 3575, '충': 3576, '십만': 3577, '방과': 3578, '절제': 3579, '어쩌다': 3580, '미대': 3581, '작가': 3582, '인계': 3583, '죄송스럽다': 3584, '무관심하다': 3585, '복도': 3586, '동자': 3587, '작고': 3588, '구토': 3589, '충돌': 3590, '리기': 3591, '오디션': 3592, '지끈': 3593, '심장병': 3594, '능률': 3595, '농담': 3596, '안면': 3597, '괜': 3598, '정의': 3599, '한계': 3600, '일진': 3601, '화내': 3602, '상가': 3603, '흥미': 3604, '률': 3605, '솜씨': 3606, '호흡': 3607, '극': 3608, '근력': 3609, '활발하다': 3610, '멍청하다': 3611, '문턱': 3612, '미움': 3613, '쑥스럽다': 3614, '대우': 3615, '겹': 3616, '순이': 3617, '걸음': 3618, '출발': 3619, '주방': 3620, '설마': 3621, '대기': 3622, '넥타이': 3623, '소파': 3624, '무난': 3625, '모자': 3626, '밥상': 3627, '호감': 3628, '이웃집': 3629, '창문': 3630, '가신': 3631, '수습': 3632, '바치다': 3633, '입장': 3634, '중개인': 3635, '장래희망': 3636, '안중': 3637, '흉하다': 3638, '마취': 3639, '평일': 3640, '가을': 3641, '일지': 3642, '실험': 3643, '운전면허': 3644, '동떨어지다': 3645, '죄다': 3646, '만족': 3647, '확정': 3648, '퍼붓다': 3649, '범위': 3650, '말문': 3651, '죽이다': 3652, '동성': 3653, '소아': 3654, '가두다': 3655, '소릴': 3656, '복학': 3657, '경영': 3658, '그렇다고': 3659, '계모임': 3660, '충고': 3661, '아낌없이': 3662, '약사': 3663, '빼앗기다': 3664, '오후': 3665, '공휴일': 3666, '자궁': 3667, '마시기': 3668, '썩다': 3669, '과잉': 3670, '외우다': 3671, '샤워': 3672, '마찰': 3673, '순식간': 3674, '벗다': 3675, '과실': 3676, '수리': 3677, '대수롭다': 3678, '밟다': 3679, '빼먹다': 3680, '피고': 3681, '졸': 3682, '어기다': 3683, '타령': 3684, '난대': 3685, '끼어들다': 3686, '한의원': 3687, '방광염': 3688, '네트워크': 3689, '원망하다': 3690, '아이고': 3691, '창고': 3692, '꽁초': 3693, '조차도': 3694, '매정하다': 3695, '위협': 3696, '각방': 3697, '첫째': 3698, '걸치다': 3699, '년도': 3700, '식욕': 3701, '텃밭': 3702, '백세': 3703, '멸시': 3704, '그건': 3705, '응대': 3706, '실컷': 3707, '져서': 3708, '멍하다': 3709, '임용고시': 3710, '낙방': 3711, '똑똑하다': 3712, '감옥': 3713, '헬스': 3714, '통금': 3715, '두려움': 3716, '응급': 3717, '각종': 3718, '모델': 3719, '물혹': 3720, '수년': 3721, '주장': 3722, '볶다': 3723, '이러니까': 3724, '기일': 3725, '호텔': 3726, '호들갑': 3727, '인제': 3728, '무능력하다': 3729, '먹이': 3730, '닿다': 3731, '총무': 3732, '주목': 3733, '치마': 3734, '정장': 3735, '만드': 3736, '살걸': 3737, '퍼센트': 3738, '천만다행': 3739, '안주': 3740, '노래방': 3741, '뒷전': 3742, '엄격하다': 3743, '학창시절': 3744, '차고': 3745, '안절부절': 3746, '해방': 3747, '턱걸이': 3748, '불량하다': 3749, '수상하다': 3750, '정해지다': 3751, '역사': 3752, '담그다': 3753, '한탄': 3754, '황혼': 3755, '파산': 3756, '선글라스': 3757, '몫': 3758, '샘': 3759, '전기': 3760, '그린': 3761, '학력': 3762, '메뉴': 3763, '폐업': 3764, '투덜대다': 3765, '포함': 3766, '시기하다': 3767, '기절': 3768, '야구': 3769, '진자': 3770, '앞집': 3771, '경제력': 3772, '커녕': 3773, '툭툭': 3774, '뒹굴': 3775, '부족함': 3776, '시설': 3777, '매력': 3778, '꿀': 3779, '정정': 3780, '들뜨다': 3781, '혈변': 3782, '자라': 3783, '일구': 3784, '판이': 3785, '기관지': 3786, '운명': 3787, '흥청망청': 3788, '살아나다': 3789, '밀다': 3790, '승낙': 3791, '유럽': 3792, '게시판': 3793, '빈곤': 3794, '숨쉬기': 3795, '치레': 3796, '손찌검': 3797, '기러기': 3798, '말투': 3799, '낭비': 3800, '쌍둥이': 3801, '국내': 3802, '뽀뽀': 3803, '환영': 3804, '회관': 3805, '손바닥': 3806, '음료수': 3807, '똥': 3808, '고소': 3809, '축제': 3810, '간이': 3811, '경치': 3812, '드라이브': 3813, '골절': 3814, '사가': 3815, '예고': 3816, '진찰': 3817, '자극': 3818, '분노하다': 3819, '비추다': 3820, '뒤통수': 3821, '푸다': 3822, '독거': 3823, '양가': 3824, '저기': 3825, '하객': 3826, '행운': 3827, '추워지다': 3828, '아마도': 3829, '희생양': 3830, '야유회': 3831, '잡기': 3832, '서두르다': 3833, '유부녀': 3834, '몸매': 3835, '욱해': 3836, '가정폭력': 3837, '쓴소리': 3838, '명예': 3839, '대상자': 3840, '중환자실': 3841, '끼우다': 3842, '대학병원': 3843, '쟤': 3844, '말수': 3845, '적어지다': 3846, '상무': 3847, '되레': 3848, '결근': 3849, '밤늦다': 3850, '영희': 3851, '라곤': 3852, '시원하다': 3853, '적막하다': 3854, '예순': 3855, '파악': 3856, '실습': 3857, '필수': 3858, '본부장': 3859, '만은': 3860, '연장': 3861, '비실': 3862, '참가': 3863, '손잡다': 3864, '머물다': 3865, '에다': 3866, '들르다': 3867, '팀워크': 3868, '저렇다': 3869, '퇴근길': 3870, '이해해': 3871, '정당하다': 3872, '버는데': 3873, '공동': 3874, '신약': 3875, '도우': 3876, '차림': 3877, '은퇴식': 3878, '권고': 3879, '생인': 3880, '빈털터리': 3881, '관계도': 3882, '찝찝하다': 3883, '지체': 3884, '없애다': 3885, '자제': 3886, '생색': 3887, '자로': 3888, '수많다': 3889, '분만': 3890, '방역': 3891, '불어': 3892, '품절': 3893, '볼일': 3894, '캐': 3895, '흉보다': 3896, '벗': 3897, '힘쓰다': 3898, '남자에게': 3899, '향상': 3900, '감염': 3901, '오천만': 3902, '떠올리다': 3903, '비타민': 3904, '유전병': 3905, '기기': 3906, '행성': 3907, '소질': 3908, '기본': 3909, '오류': 3910, '라지': 3911, '허다': 3912, '쪽방': 3913, '번다': 3914, '배다': 3915, '토익': 3916, '불법': 3917, '시즌': 3918, '합병': 3919, '간염': 3920, '중식': 3921, '낯선': 3922, '노고': 3923, '간만': 3924, '미용실': 3925, '조가': 3926, '보청기': 3927, '마자': 3928, '요가': 3929, '연락처': 3930, '나무라다': 3931, '자도': 3932, '물품': 3933, '툴툴댔어': 3934, '주먹': 3935, '안전하다': 3936, '불필요하다': 3937, '뿐이다': 3938, '뜨겁다': 3939, '딱하다': 3940, '노동': 3941, '착취': 3942, '원만하다': 3943, '예단': 3944, '유전자': 3945, '식다': 3946, '체계': 3947, '뿌리다': 3948, '생신': 3949, '출가': 3950, '파킨슨병': 3951, '산재': 3952, '극적': 3953, '성하다': 3954, '귀촌': 3955, '홧김': 3956, '피임': 3957, '은커녕': 3958, '그랬다고': 3959, '권태기': 3960, '면박': 3961, '돼지': 3962, '증후군': 3963, '혼수상태': 3964, '묻히다': 3965, '무심하다': 3966, '보채다': 3967, '오줌': 3968, '멍': 3969, '자국': 3970, '개발': 3971, '피아노': 3972, '도우미': 3973, '정성': 3974, '끌리다': 3975, '커플링': 3976, '알아듣다': 3977, '어떠하다': 3978, '종류': 3979, '해약': 3980, '험하다': 3981, '전셋집': 3982, '캄캄하다': 3983, '꽃다발': 3984, '시집가다': 3985, '번만': 3986, '패혈증': 3987, '스무': 3988, '가벼워지다': 3989, '가짜': 3990, '연체': 3991, '말썽': 3992, '꾸중': 3993, '차지': 3994, '구석구석': 3995, '정지': 3996, '진도': 3997, '실태': 3998, '하반기': 3999, '고구마': 4000, '데뷔': 4001, '가출': 4002, '대판': 4003, '규모': 4004, '무례하다': 4005, '덩어리': 4006, '주정': 4007, '대뜸': 4008, '딴': 4009, '그간': 4010, '흐뭇하다': 4011, '자지': 4012, '이중': 4013, '시험관': 4014, '촌스럽다': 4015, '공식': 4016, '엉뚱하다': 4017, '앞서': 4018, '낭비하다': 4019, '직종': 4020, '바이러스': 4021, '나잇': 4022, '정거장': 4023, '천': 4024, '숱': 4025, '허가': 4026, '힘없다': 4027, '도르다': 4028, '쥐다': 4029, '래야': 4030, '우대': 4031, '려': 4032, '들여다보다': 4033, '상환': 4034, '일기': 4035, '아픔': 4036, '계곡': 4037, '졸이다': 4038, '온화하다': 4039, '관리사': 4040, '오래오래': 4041, '부적': 4042, '유튜브': 4043, '형수': 4044, '또다시': 4045, '트러블': 4046, '되찾다': 4047, '감싸다': 4048, '채택': 4049, '지게': 4050, '먹어주다': 4051, '외상': 4052, '연수': 4053, '고시': 4054, '땀': 4055, '딱지': 4056, '빈손': 4057, '모욕감': 4058, '양말': 4059, '상냥하다': 4060, '무급': 4061, '녀': 4062, '휴지': 4063, '피피티': 4064, '대학가': 4065, '연휴': 4066, '짠하다': 4067, '찍히다': 4068, '붙이다': 4069, '그릇': 4070, '반의': 4071, '주의자': 4072, '입맛': 4073, '썩': 4074, '아름답다': 4075, '신부전증': 4076, '구한': 4077, '마케팅': 4078, '낯설다': 4079, '체험': 4080, '부축': 4081, '덤벼': 4082, '정신건강': 4083, '트렸': 4084, '찍기': 4085, '완료': 4086, '채널': 4087, '늘어지다': 4088, '위독하다': 4089, '종업원': 4090, '밑': 4091, '일용직': 4092, '언짢다': 4093, '영정': 4094, '프리랜서': 4095, '펀드매니저': 4096, '테스트': 4097, '개운하다': 4098, '취득': 4099, '펼치다': 4100, '수석': 4101, '선언': 4102, '뒷이야기': 4103, '실명': 4104, '어머님께': 4105, '추억': 4106, '정밀': 4107, '공로': 4108, '피로하다': 4109, '신체검사': 4110, '식이요법': 4111, '확률': 4112, '전의': 4113, '필통': 4114, '만년': 4115, '환불': 4116, '경고': 4117, '불임': 4118, '무자식': 4119, '양수': 4120, '인색하다': 4121, '대지': 4122, '병마': 4123, '팔리다': 4124, '일급': 4125, '정산': 4126, '비꼬다': 4127, '팔지': 4128, '모질다': 4129, '흐리다': 4130, '애도': 4131, '한국사': 4132, '김치': 4133, '달도': 4134, '나아': 4135, '몇십': 4136, '그룹': 4137, '미처': 4138, '성소수자': 4139, '기어': 4140, '족구': 4141, '투명인간': 4142, '고령자': 4143, '서슴없이': 4144, '누굴': 4145, '그땐': 4146, '답변': 4147, '공격': 4148, '수십': 4149, '죽지': 4150, '주니': 4151, '여행지': 4152, '스물': 4153, '사생활': 4154, '부서장': 4155, '정신병': 4156, '힘내다': 4157, '상조': 4158, '전쟁': 4159, '만원': 4160, '영정사진': 4161, '분통': 4162, '여겨지다': 4163, '고달프다': 4164, '편두통': 4165, '어보': 4166, '종합': 4167, '대부': 4168, '모범생': 4169, '미끄러지다': 4170, '프랜차이즈': 4171, '골골': 4172, '무의미하다': 4173, '뱀술': 4174, '맞선': 4175, '놀이터': 4176, '납골당': 4177, '보조': 4178, '진술': 4179, '반년': 4180, '심리': 4181, '일상생활': 4182, '반지': 4183, '야채': 4184, '양복': 4185, '모레': 4186, '해주': 4187, '디자인': 4188, '취향': 4189, '초등학생': 4190, '힘겹다': 4191, '씀씀이': 4192, '피드백': 4193, '부조': 4194, '신입생': 4195, '소송': 4196, '뇌수술': 4197, '선천': 4198, '오락가락': 4199, '변호사': 4200, '의치': 4201, '실종': 4202, '제약': 4203, '인거': 4204, '급성': 4205, '갇히다': 4206, '앞당기다': 4207, '십년지기': 4208, '복직': 4209, '서먹하다': 4210, '양육비': 4211, '뜯다': 4212, '민폐': 4213, '복습': 4214, '어쩌려': 4215, '원통': 4216, '여든': 4217, '교대': 4218, '혀': 4219, '이신': 4220, '비밀번호': 4221, '지장': 4222, '매형': 4223, '안이': 4224, '등하교': 4225, '재력': 4226, '침체': 4227, '삼수': 4228, '기형': 4229, '매월': 4230, '건의': 4231, '젠데': 4232, '공경': 4233, '발휘': 4234, '산소': 4235, '밭': 4236, '독차지': 4237, '심다': 4238, '하얘지다': 4239, '종이': 4240, '가습기': 4241, '복귀': 4242, '게이': 4243, '필라테스': 4244, '연극': 4245, '메일': 4246, '뱉다': 4247, '고지식하다': 4248, '누군지': 4249, '승무원': 4250, '돈벌이': 4251, '규칙': 4252, '야뇨증': 4253, '씹다': 4254, '주번': 4255, '편입': 4256, '시아버지': 4257, '밤새다': 4258, '내보내다': 4259, '입술': 4260, '형식': 4261, '불화': 4262, '크리스마스': 4263, '눈빛': 4264, '신제품': 4265, '짚다': 4266, '우기다': 4267, '제거': 4268, '고령': 4269, '잡아먹다': 4270, '선수': 4271, '트': 4272, '지망': 4273, '공지': 4274, '호르몬': 4275, '기밀': 4276, '박해': 4277, '할멈': 4278, '동영상': 4279, '어느덧다': 4280, '선명하다': 4281, '골목': 4282, '속물': 4283, '때로는': 4284, '놀래다': 4285, '아쉬움': 4286, '치아': 4287, '어디가': 4288, '토막': 4289, '노년기': 4290, '이상형': 4291, '복부': 4292, '지난해': 4293, '일일': 4294, '개다': 4295, '실업계': 4296, '빨래': 4297, '태우다': 4298, '사먹다': 4299, '량': 4300, '건성': 4301, '재검': 4302, '유전': 4303, '전담': 4304, '밀': 4305, '불리하다': 4306, '안고': 4307, '간경화': 4308, '복': 4309, '모집': 4310, '실무': 4311, '신용카드': 4312, '이명': 4313, '연배': 4314, '양로원': 4315, '결': 4316, '구석': 4317, '벌이다': 4318, '수시로': 4319, '서방': 4320, '솟다': 4321, '연령': 4322, '채식': 4323, '괜스레': 4324, '국': 4325, '죽마고우': 4326, '움': 4327, '배경': 4328, '특기': 4329, '시합': 4330, '두둑': 4331, '축의금': 4332, '설립': 4333, '두서': 4334, '넘어오다': 4335, '종목': 4336, '인적': 4337, '짝꿍': 4338, '하락': 4339, '악한': 4340, '일치': 4341, '빵집': 4342, '만큼의': 4343, '점원': 4344, '장기로': 4345, '정신없이': 4346, '트로트': 4347, '아침밥': 4348, '외국어': 4349, '효도': 4350, '대감': 4351, '소설': 4352, '낙서': 4353, '떨어뜨리다': 4354, '피아니스트': 4355, '재직': 4356, '공간': 4357, '여럿': 4358, '희다': 4359, '접대': 4360, '노안': 4361, '간수치': 4362, '점차': 4363, '복지사': 4364, '선산': 4365, '권위': 4366, '김씨': 4367, '재단': 4368, '극도': 4369, '사오': 4370, '우시': 4371, '위염': 4372, '산후조리': 4373, '얻어먹다': 4374, '연고': 4375, '마늘': 4376, '가뜩이나': 4377, '남용': 4378, '에야': 4379, '고해': 4380, '으로가': 4381, '입상': 4382, '유치하다': 4383, '도난': 4384, '지우다': 4385, '용품': 4386, '반드시': 4387, '인센티브': 4388, '자상하다': 4389, '착실하다': 4390, '명확하다': 4391, '가만두다': 4392, '곳곳': 4393, '눈시울': 4394, '이차': 4395, '그러니까': 4396, '부위': 4397, '설사': 4398, '쫓다': 4399, '거액': 4400, '낯가림': 4401, '재계약': 4402, '따갑다': 4403, '소꿉친구': 4404, '가까이': 4405, '작은아들': 4406, '힐': 4407, '엎드리다': 4408, '찜질방': 4409, '부치다': 4410, '돋보기': 4411, '잘해야': 4412, '체질': 4413, '부딪치다': 4414, '실천': 4415, '흔들다': 4416, '깜박': 4417, '소셜': 4418, '귀로': 4419, '편찮다': 4420, '원룸': 4421, '잔인하다': 4422, '극구': 4423, '입금': 4424, '승승장구': 4425, '신음': 4426, '갖은': 4427, '독신': 4428, '닥치다': 4429, '즐거움': 4430, '비어': 4431, '무안하다': 4432, '일억': 4433, '회화': 4434, '태블릿': 4435, '시가': 4436, '높이': 4437, '가계부': 4438, '빈자리': 4439, '술잔': 4440, '확대': 4441, '여부': 4442, '다짐': 4443, '취한': 4444, '진액': 4445, '유세': 4446, '분리': 4447, '사이좋다': 4448, '강남': 4449, '땅값': 4450, '조각': 4451, '반납': 4452, '만남': 4453, '어금니': 4454, '말고는': 4455, '나날이': 4456, '알선': 4457, '억': 4458, '마음속': 4459, '기쁨': 4460, '북받치다': 4461, '주치의': 4462, '놀란': 4463, '헤프': 4464, '무턱': 4465, '아무나': 4466, '만두': 4467, '빠져나오다': 4468, '퍼뜨렸어': 4469, '가정부': 4470, '홍수': 4471, '급전': 4472, '뒷모습': 4473, '이랑은': 4474, '이러니': 4475, '무얼': 4476, '코피': 4477, '냉전': 4478, '둔하다': 4479, '비서': 4480, '화낼': 4481, '부끄럼': 4482, '주선': 4483, '전념': 4484, '훈계': 4485, '류머티즘': 4486, '어처구니없다': 4487, '마중': 4488, '애통하다': 4489, '임시': 4490, '컵라면': 4491, '유리': 4492, '교체': 4493, '이래서': 4494, '계좌': 4495, '필': 4496, '횡단보도': 4497, '양치질': 4498, '떠내려가다': 4499, '못지않다': 4500, '조바심': 4501, '먹듯': 4502, '답시고': 4503, '집들이': 4504, '면허': 4505, '자원봉사': 4506, '망신': 4507, '빠듯': 4508, '소풍': 4509, '구내식당': 4510, '산후조리원': 4511, '정반대': 4512, '엄두': 4513, '중요성': 4514, '신호': 4515, '실업': 4516, '다양하다': 4517, '오류로': 4518, '가치관': 4519, '활기차다': 4520, '주거': 4521, '입지': 4522, '쌓다': 4523, '상반기': 4524, '탁구': 4525, '부당': 4526, '일단': 4527, '우수': 4528, '일반': 4529, '어지르다': 4530, '마저도': 4531, '가장이': 4532, '엠알아': 4533, '면회': 4534, '왕래': 4535, '카네이션': 4536, '에세이': 4537, '통쾌하다': 4538, '전문': 4539, '연하': 4540, '구걸': 4541, '하고만': 4542, '꼬리': 4543, '잡일': 4544, '안락사': 4545, '이외': 4546, '심근경색증': 4547, '고비': 4548, '닫히다': 4549, '찜찜하다': 4550, '전화번호': 4551, '순서': 4552, '근사하다': 4553, '헛산': 4554, '웃': 4555, '티격태격': 4556, '공짜': 4557, '축복': 4558, '음성': 4559, '거꾸로': 4560, '금일': 4561, '내부': 4562, '볼품': 4563, '각오': 4564, '에서나': 4565, '갖추다': 4566, '치사하다': 4567, '스트레칭': 4568, '부진': 4569, '의하다': 4570, '보신': 4571, '건너다': 4572, '구십': 4573, '옥상': 4574, '왜냐면': 4575, '사진관': 4576, '내조': 4577, '과를': 4578, '위치': 4579, '산악': 4580, '지향성': 4581, '지팡이': 4582, '뇌경색': 4583, '주도': 4584, '자부심': 4585, '알파벳': 4586, '회의실': 4587, '폰': 4588, '설정': 4589, '코스': 4590, '드물다': 4591, '어긋나다': 4592, '행색': 4593, '기억나다': 4594, '버티고': 4595, '칸': 4596, '까진': 4597, '기피': 4598, '엑스레이': 4599, '아무튼': 4600, '성인병': 4601, '사칭': 4602, '수수료': 4603, '돌이': 4604, '이미지': 4605, '쥐': 4606, '기껏': 4607, '보류': 4608, '한없이': 4609, '대성공': 4610, '재수술': 4611, '꽉': 4612, '나라고': 4613, '잘만': 4614, '두르다': 4615, '골탕': 4616, '뜬금없이': 4617, '낙심': 4618, '생일도': 4619, '다그치다': 4620, '매몰': 4621, '음주': 4622, '시큰거리다': 4623, '유쾌하다': 4624, '상팔자': 4625, '슈퍼마켓': 4626, '두기': 4627, '강화': 4628, '애기': 4629, '낙오': 4630, '부임': 4631, '사하다': 4632, '별문제': 4633, '안지': 4634, '에서조차': 4635, '난폭하다': 4636, '원장': 4637, '나약하다': 4638, '운동화': 4639, '허우적거리다': 4640, '호소': 4641, '토요일': 4642, '무력하다': 4643, '뻐근하다': 4644, '갑상선': 4645, '자세': 4646, '모호하다': 4647, '아랫': 4648, '미납': 4649, '미흡하다': 4650, '시급하다': 4651, '성심': 4652, '성의껏': 4653, '띄다': 4654, '지능': 4655, '유언': 4656, '이성애자': 4657, '율': 4658, '금도': 4659, '바람나다': 4660, '향수': 4661, '따름': 4662, '찜질': 4663, '옆구리': 4664, '용지': 4665, '제압': 4666, '인지도': 4667, '사내연애': 4668, '풍': 4669, '웬일': 4670, '주간': 4671, '멋대로': 4672, '학예회': 4673, '그토록': 4674, '그랬더니': 4675, '아들내미': 4676, '가누다': 4677, '막심': 4678, '치이다': 4679, '더럽히다': 4680, '성전환수술': 4681, '미경': 4682, '극심하다': 4683, '원피스': 4684, '그러나': 4685, '대학입시': 4686, '떤다': 4687, '길고양이': 4688, '신용등급': 4689, '덩달아': 4690, '삐끗': 4691, '높이다': 4692, '가구': 4693, '뇌사': 4694, '매입': 4695, '치면': 4696, '손발': 4697, '한시': 4698, '파업': 4699, '엎어지다': 4700, '고깃집': 4701, '부산': 4702, '마당': 4703, '독하다': 4704, '장마': 4705, '주년': 4706, '달마': 4707, '새내기': 4708, '막말': 4709, '익명': 4710, '노인성': 4711, '재정난': 4712, '칭얼대다': 4713, '아려': 4714, '기획서': 4715, '만들어지다': 4716, '분주하다': 4717, '경조사': 4718, '종교': 4719, '평': 4720, '저염식': 4721, '교묘하다': 4722, '오만': 4723, '석류': 4724, '신분': 4725, '상승': 4726, '산업': 4727, '얹혀살다': 4728, '호': 4729, '경화': 4730, '마구': 4731, '독단': 4732, '타일러': 4733, '빛': 4734, '못자다': 4735, '연로': 4736, '잉여': 4737, '혐의': 4738, '늦': 4739, '대도': 4740, '청년회': 4741, '여물': 4742, '아토피': 4743, '검증': 4744, '들락날락': 4745, '뺑소니': 4746, '특근': 4747, '트랜스젠더': 4748, '친자': 4749, '가든': 4750, '삭막하다': 4751, '질색': 4752, '아인': 4753, '도서관': 4754, '곧장': 4755, '재수생': 4756, '큰소리치다': 4757, '뚝': 4758, '필름': 4759, '야식': 4760, '다달이': 4761, '말고도': 4762, '뒤치다꺼리': 4763, '만류': 4764, '목걸이': 4765, '동문': 4766, '얕다': 4767, '아르바이트생': 4768, '빙판': 4769, '악취': 4770, '사물함': 4771, '궁리': 4772, '실례': 4773, '예방주사': 4774, '패키지': 4775, '잔병치레': 4776, '일어난다': 4777, '교차': 4778, '거짓말쟁이': 4779, '나물': 4780, '취약점': 4781, '고약하다': 4782, '어처구니': 4783, '여덟': 4784, '안나': 4785, '깊이': 4786, '살펴보다': 4787, '인큐베이터': 4788, '훈수': 4789, '제만': 4790, '피시방': 4791, '싹싹하다': 4792, '뇌척수막': 4793, '발음': 4794, '번창': 4795, '전만': 4796, '검소': 4797, '주변인': 4798, '찬성': 4799, '장점': 4800, '사경': 4801, '헤매다': 4802, '통지서': 4803, '헬스클럽': 4804, '드러내다': 4805, '빈곤하다': 4806, '어기': 4807, '수단': 4808, '위장': 4809, '이사해': 4810, '구심': 4811, '신중하다': 4812, '들러붙다': 4813, '웨딩': 4814, '거처': 4815, '이뤄지다': 4816, '성장': 4817, '썩이다': 4818, '모로': 4819, '저렴하다': 4820, '안일하다': 4821, '정착': 4822, '튼튼하다': 4823, '어젠': 4824, '염치': 4825, '잠자다': 4826, '작업복': 4827, '원도': 4828, '요리사': 4829, '트림': 4830, '잠수': 4831, '실행': 4832, '이나마': 4833, '단정': 4834, '슬그머니': 4835, '보건소': 4836, '부터가': 4837, '시원찮다': 4838, '험악하다': 4839, '입상하다': 4840, '비명': 4841, '밖에도': 4842, '올케': 4843, '우려': 4844, '금지': 4845, '협력': 4846, '설날': 4847, '노여움': 4848, '대리점': 4849, '칠판': 4850, '특별': 4851, '풍요': 4852, '부진하다': 4853, '충실하다': 4854, '상한': 4855, '한국어': 4856, '비웃음': 4857, '선정': 4858, '출전': 4859, '상관': 4860, '가중': 4861, '일주년': 4862, '우리엄마': 4863, '에서야': 4864, '체념하다': 4865, '만하': 4866, '거치다': 4867, '연금복권': 4868, '열정': 4869, '았': 4870, '조깅': 4871, '전시': 4872, '계란': 4873, '역정': 4874, '병중': 4875, '흥이': 4876, '젊음': 4877, '살피다': 4878, '말년': 4879, '노부': 4880, '부가': 4881, '부드럽다': 4882, '파산하다': 4883, '환상': 4884, '장인': 4885, '금제': 4886, '착오': 4887, '밤낮없이': 4888, '탕진': 4889, '감상': 4890, '박탈': 4891, '청춘': 4892, '출석': 4893, '인스타그램': 4894, '항해': 4895, '약초': 4896, '언쟁': 4897, '구멍': 4898, '잡곡': 4899, '얇다': 4900, '인재': 4901, '수영장': 4902, '청력': 4903, '틀': 4904, '불쑥': 4905, '돌연': 4906, '간부': 4907, '공사': 4908, '팔자': 4909, '귀지': 4910, '우산': 4911, '화병': 4912, '나인': 4913, '변명': 4914, '이력': 4915, '덤벙대다': 4916, '어가': 4917, '쭉': 4918, '악착같이': 4919, '석차': 4920, '헐뜯다': 4921, '용법': 4922, '낙인': 4923, '구제': 4924, '불능': 4925, '이장님': 4926, '전하': 4927, '위아래': 4928, '결혼반지': 4929, '추태': 4930, '만료': 4931, '핵심': 4932, '운동회': 4933, '꼴찌': 4934, '버느': 4935, '봉사활동': 4936, '매니저': 4937, '추구': 4938, '호통': 4939, '가주': 4940, '수험': 4941, '화기': 4942, '헛살': 4943, '결석': 4944, '퉁': 4945, '아홉': 4946, '상실': 4947, '감흥': 4948, '곱': 4949, '특정': 4950, '수련': 4951, '과식': 4952, '참으로': 4953, '장도': 4954, '앞서다': 4955, '깔끔하다': 4956, '번번이': 4957, '성폭행': 4958, '공책': 4959, '중요': 4960, '산후': 4961, '음반': 4962, '수록': 4963, '간경변': 4964, '여건': 4965, '트릴': 4966, '수집': 4967, '키도': 4968, '그나마': 4969, '쓴다': 4970, '환갑잔치': 4971, '초췌하다': 4972, '후두': 4973, '염증': 4974, '조상': 4975, '이라고는': 4976, '고도': 4977, '술김': 4978, '팔팔하다': 4979, '기반': 4980, '개학': 4981, '파견': 4982, '신선하다': 4983, '엄하': 4984, '버섯': 4985, '부로': 4986, '체형': 4987, '가스': 4988, '메': 4989, '헛살았': 4990, '성품': 4991, '구단': 4992, '두드러기': 4993, '무작정': 4994, '에어컨': 4995, '리가': 4996, '외톨': 4997, '돋다': 4998, '양쪽': 4999, '까봐': 5000, '꺼지다': 5001, '안해': 5002, '생활고': 5003, '합리': 5004, '베풀다': 5005, '자격지심': 5006, '면역': 5007, '뜨개질': 5008, '앞장서다': 5009, '삼십만': 5010, '금요일': 5011, '구인': 5012, '그제야': 5013, '제기': 5014, '야속하다': 5015, '중도': 5016, '식후': 5017, '유통': 5018, '갑질': 5019, '앞당겨지다': 5020, '사태': 5021, '코골': 5022, '고만': 5023, '협심증': 5024, '감추다': 5025, '캄캄해지다': 5026, '유복하다': 5027, '나나': 5028, '사두': 5029, '헛웃음': 5030, '갓난아기': 5031, '돈독하다': 5032, '졸리다': 5033, '고모': 5034, '설문지': 5035, '회사원': 5036, '궤양': 5037, '여가': 5038, '정밀검사': 5039, '연도': 5040, '갑작스레': 5041, '소속사': 5042, '예감': 5043, '모함': 5044, '전근': 5045, '사나': 5046, '장래': 5047, '비속어': 5048, '혈육': 5049, '프로포즈': 5050, '피시': 5051, '계발': 5052, '잠그다': 5053, '억지': 5054, '빵점': 5055, '구질구질하다': 5056, '로라': 5057, '쫄쫄': 5058, '삿': 5059, '복학생': 5060, '정신병원': 5061, '말동무': 5062, '낫질': 5063, '드레스': 5064, '직후': 5065, '그거': 5066, '부녀': 5067, '키스': 5068, '불투명하다': 5069, '너그럽다': 5070, '본': 5071, '피자': 5072, '전교생': 5073, '수용': 5074, '가라앉히다': 5075, '반지하': 5076, '위안': 5077, '항의': 5078, '선호': 5079, '이주': 5080, '남매': 5081, '얼어붙다': 5082, '공공': 5083, '재롱': 5084, '경사': 5085, '가족사진': 5086, '립스틱': 5087, '진통': 5088, '비직': 5089, '양다리': 5090, '싱숭생숭하다': 5091, '둘러보다': 5092, '생일상': 5093, '맞춤법': 5094, '대응': 5095, '건축': 5096, '끝내기': 5097, '물리': 5098, '상식': 5099, '짧아지다': 5100, '쉰': 5101, '일본': 5102, '쫓아오다': 5103, '하굣길': 5104, '쌩쌩하다': 5105, '스럽지': 5106, '견': 5107, '고정': 5108, '외할머니': 5109, '진창': 5110, '이래도': 5111, '덕이': 5112, '여행가': 5113, '명예롭': 5114, '빨다': 5115, '나대다': 5116, '이며': 5117, '달걀': 5118, '약재': 5119, '눈초리': 5120, '노조': 5121, '효자': 5122, '일터': 5123, '별도': 5124, '전선': 5125, '엎': 5126, '두근거리다': 5127, '익사': 5128, '해명': 5129, '기존': 5130, '웬만하다': 5131, '신가': 5132, '춤추다': 5133, '보도': 5134, '로비': 5135, '복통': 5136, '애사': 5137, '개수': 5138, '뀌었어': 5139, '삼백만': 5140, '갈아입다': 5141, '월': 5142, '기록': 5143, '식은땀': 5144, '귀국': 5145, '패스트푸드': 5146, '겨': 5147, '발병': 5148, '십년': 5149, '고사하고': 5150, '관념': 5151, '인신공격': 5152, '불경기': 5153, '세뱃돈': 5154, '그이': 5155, '왼쪽': 5156, '마르다': 5157, '오로지': 5158, '골': 5159, '연기자': 5160, '이마': 5161, '주무시다': 5162, '특강': 5163, '좌천': 5164, '지표': 5165, '통풍': 5166, '구월': 5167, '염좌': 5168, '야구장': 5169, '질타': 5170, '밀려오다': 5171, '재건축': 5172, '친분': 5173, '너무도': 5174, '병인': 5175, '수나': 5176, '안기다': 5177, '구분': 5178, '파리': 5179, '사진작가': 5180, '물놀이': 5181, '자해': 5182, '나날': 5183, '두텁다': 5184, '살찐': 5185, '예체능': 5186, '구성': 5187, '지방간': 5188, '따끔하다': 5189, '지원이': 5190, '부품': 5191, '문구점': 5192, '곰팡이': 5193, '즉석식품': 5194, '만취': 5195, '점잖다': 5196, '가해': 5197, '살길': 5198, '관광': 5199, '에나': 5200, '생리대': 5201, '운동선수': 5202, '타인': 5203, '속인': 5204, '잘나오다': 5205, '합류': 5206, '유난히': 5207, '가정사': 5208, '탄탄하다': 5209, '가져다주다': 5210, '당번': 5211, '곤두박질': 5212, '창작': 5213, '주로': 5214, '신물': 5215, '장인어른': 5216, '해대': 5217, '크기': 5218, '호실': 5219, '허덕이다': 5220, '이어지다': 5221, '변변찮': 5222, '적용': 5223, '하반신': 5224, '일차': 5225, '용도': 5226, '텅텅': 5227, '자네': 5228, '지진': 5229, '파스': 5230, '물질': 5231, '할인': 5232, '영심': 5233, '흔적': 5234, '등반': 5235, '무관심': 5236, '사교성': 5237, '투기': 5238, '한소리': 5239, '쩝쩝': 5240, '영화배우': 5241, '호출': 5242, '깨뜨리다': 5243, '싸늘하다': 5244, '투자가': 5245, '절단': 5246, '소속': 5247, '비운': 5248, '현기증': 5249, '밥풀': 5250, '뒷산': 5251, '움큼': 5252, '확진': 5253, '데이터': 5254, '물이': 5255, '웨딩드레스': 5256, '둘러대다': 5257, '뚜렷하다': 5258, '손대다': 5259, '융통성': 5260, '중매': 5261, '자동': 5262, '평화롭다': 5263, '나머지': 5264, '농촌': 5265, '염색': 5266, '회식비': 5267, '아첨': 5268, '문학': 5269, '옮': 5270, '조율': 5271, '화요일': 5272, '사주지': 5273, '그려지다': 5274, '병환': 5275, '살찌다': 5276, '상주': 5277, '퍼': 5278, '클래스': 5279, '공항': 5280, '뒷돈': 5281, '감회': 5282, '좁히다': 5283, '분량': 5284, '단점': 5285, '팬': 5286, '생명보험': 5287, '놀랍다': 5288, '직위': 5289, '에스컬레이터': 5290, '곤혹': 5291, '보다도': 5292, '갑상선암': 5293, '개념': 5294, '업주': 5295, '소소하다': 5296, '고교': 5297, '입어보다': 5298, '참고서': 5299, '불의': 5300, '질리다': 5301, '일어': 5302, '단호': 5303, '저녁때': 5304, '떠돌다': 5305, '수능시험': 5306, '내력': 5307, '연초': 5308, '시더': 5309, '다독이다': 5310, '소수자': 5311, '튀어나오다': 5312, '팔목': 5313, '뇌리': 5314, '말걸': 5315, '스': 5316, '치매증': 5317, '청각': 5318, '우물쭈물': 5319, '시원': 5320, '띵하다': 5321, '소주': 5322, '세트': 5323, '임용': 5324, '활짝': 5325, '눈뜨다': 5326, '유도': 5327, '예방접종': 5328, '싹': 5329, '사법고시': 5330, '호프': 5331, '다크서클': 5332, '버냐': 5333, '핑': 5334, '저리': 5335, '냉정하다': 5336, '변심': 5337, '전생': 5338, '마녀사냥': 5339, '어도': 5340, '꼴등일': 5341, '변치': 5342, '이메일': 5343, '발송': 5344, '떨떠름하다': 5345, '가정은': 5346, '올림피아드': 5347, '헛되': 5348, '구로': 5349, '최대': 5350, '리모컨': 5351, '이도': 5352, '수지': 5353, '특이하다': 5354, '벌칙': 5355, '현미': 5356, '만행': 5357, '장터': 5358, '으쓱': 5359, '부숴': 5360, '항심': 5361, '대학교수': 5362, '따라오다': 5363, '활기': 5364, '이송': 5365, '홀': 5366, '실물': 5367, '해변': 5368, '객': 5369, '진즉': 5370, '오른': 5371, '피부색': 5372, '알아차리다': 5373, '지름길': 5374, '초반': 5375, '결리다': 5376, '사우나': 5377, '예시': 5378, '모유': 5379, '똑바로': 5380, '새총': 5381, '눈가': 5382, '들들': 5383, '과시': 5384, '숫기': 5385, '돌잔치': 5386, '꼬치꼬치': 5387, '리포트': 5388, '시행': 5389, '삐뚤어지다': 5390, '위조품': 5391, '합창': 5392, '둘리': 5393, '이군': 5394, '육체': 5395, '볶음': 5396, '주관': 5397, '골프채': 5398, '비겁하다': 5399, '잖다': 5400, '괴팍하다': 5401, '플': 5402, '샌드위치': 5403, '기독교': 5404, '포교': 5405, '옹알': 5406, '잡혀가다': 5407, '지점': 5408, '맴돌다': 5409, '도장': 5410, '서술': 5411, '모범': 5412, '금반지': 5413, '앙상하다': 5414, '촉박하다': 5415, '멎다': 5416, '자리다': 5417, '초년': 5418, '상금': 5419, '노출': 5420, '전액': 5421, '본사': 5422, '관리인': 5423, '여한': 5424, '검정': 5425, '소집': 5426, '정수기': 5427, '도덕': 5428, '하기는': 5429, '덜컥': 5430, '위태': 5431, '법원': 5432, '부고': 5433, '프로야구': 5434, '수백': 5435, '바라지': 5436, '달팽이관': 5437, '생존': 5438, '우승팀': 5439, '맑다': 5440, '뿌리치다': 5441, '힐끔힐끔': 5442, '뱀': 5443, '프린트': 5444, '기선': 5445, '문신': 5446, '장기간': 5447, '채도': 5448, '터뜨리다': 5449, '툴툴거린': 5450, '도자기': 5451, '비관': 5452, '작은딸': 5453, '진실': 5454, '친화력': 5455, '여유도': 5456, '제품': 5457, '거렸더': 5458, '제공': 5459, '햇살': 5460, '찾기': 5461, '회수': 5462, '빨': 5463, '로움': 5464, '더미': 5465, '대로는': 5466, '성전환': 5467, '우애': 5468, '일가': 5469, '막무가내': 5470, '토지': 5471, '도구로': 5472, '한껏': 5473, '컨설팅': 5474, '게다가': 5475, '흉측하다': 5476, '무대': 5477, '주연': 5478, '오락': 5479, '바다로': 5480, '폭풍우': 5481, '혈액': 5482, '토로': 5483, '실버': 5484, '타운': 5485, '빠뜨리다': 5486, '오죽하다': 5487, '수저': 5488, '도주': 5489, '플레이': 5490, '쇠퇴하다': 5491, '몰골': 5492, '과묵': 5493, '내뱉다': 5494, '뽐내다': 5495, '척추': 5496, '옷맵시': 5497, '자반': 5498, '불리다': 5499, '중증': 5500, '어쩌다가': 5501, '개도': 5502, '의논': 5503, '종료': 5504, '입사시험': 5505, '의외로': 5506, '괴물': 5507, '곤경': 5508, '빠트렸어': 5509, '재킷': 5510, '맥': 5511, '더치페이': 5512, '직성': 5513, '수술대': 5514, '번복': 5515, '윗사람': 5516, '시니어': 5517, '안전': 5518, '잡지': 5519, '돈다': 5520, '사후': 5521, '천하태평': 5522, '이니': 5523, '평화': 5524, '소름': 5525, '마': 5526, '조처': 5527, '모진': 5528, '시피': 5529, '접종': 5530, '해당': 5531, '빈약하다': 5532, '지수': 5533, '사납다': 5534, '어중간하다': 5535, '허위': 5536, '치부': 5537, '오진': 5538, '근로': 5539, '장학생': 5540, '동고동락': 5541, '녹즙': 5542, '시샘': 5543, '용이': 5544, '인기척': 5545, '제보': 5546, '지코': 5547, '야호': 5548, '프린터': 5549, '출력': 5550, '늦추다': 5551, '공로상': 5552, '바이어': 5553, '화면': 5554, '기재': 5555, '애꿎': 5556, '앞가림': 5557, '모회사': 5558, '사연': 5559, '창': 5560, '섬유': 5561, '용접': 5562, '생선': 5563, '항암제': 5564, '보답': 5565, '고개': 5566, '뱃속': 5567, '밥값': 5568, '자원': 5569, '온천': 5570, '결핍': 5571, '사직': 5572, '상습': 5573, '엄한데': 5574, '안위': 5575, '박람회': 5576, '으로서': 5577, '잉꼬': 5578, '일학년': 5579, '셋': 5580, '돌발': 5581, '순인': 5582, '저주': 5583, '극진하다': 5584, '붕대': 5585, '척해': 5586, '자각': 5587, '지옥': 5588, '할당': 5589, '요점': 5590, '선선해지다': 5591, '박스': 5592, '타격': 5593, '누런': 5594, '가래': 5595, '오리엔테이션': 5596, '더욱더': 5597, '비율': 5598, '되돌리다': 5599, '쿵쿵': 5600, '빈곤층': 5601, '멈칫': 5602, '유물': 5603, '패턴': 5604, '짐짝': 5605, '어지럼증': 5606, '태산': 5607, '지네': 5608, '매진': 5609, '한글': 5610, '깨우치다': 5611, '흡족하다': 5612, '출세': 5613, '라인': 5614, '난건': 5615, '웬': 5616, '부적절하다': 5617, '자가': 5618, '밥맛': 5619, '되돌아보다': 5620, '어눌하다': 5621, '각각': 5622, '승급': 5623, '안정감': 5624, '붓다': 5625, '피부병': 5626, '리더': 5627, '꾹': 5628, '태교': 5629, '계층': 5630, '품다': 5631, '자유': 5632, '차비': 5633, '과로사': 5634, '인터뷰': 5635, '툴툴거렸어': 5636, '풍경': 5637, '실업자': 5638, '타깃': 5639, '다한': 5640, '탑승': 5641, '노숙자': 5642, '검색': 5643, '맛집': 5644, '쏟아내다': 5645, '총': 5646, '알츠하이머': 5647, '자사고': 5648, '프로도': 5649, '심장질환': 5650, '갈수': 5651, '진솔하다': 5652, '설치다': 5653, '왜인': 5654, '놨는': 5655, '추악하다': 5656, '알콩달콩': 5657, '댄스': 5658, '고단': 5659, '섣불리': 5660, '머뭇거리다': 5661, '심성': 5662, '지하': 5663, '몸조리': 5664, '에서부터': 5665, '울음소리': 5666, '사탕': 5667, '가격표': 5668, '창밖': 5669, '치주염': 5670, '닦다': 5671, '비로소': 5672, '먹고다': 5673, '쏠리다': 5674, '안식처': 5675, '저녁식사': 5676, '휴게실': 5677, '합심': 5678, '나다니다': 5679, '철회': 5680, '병명': 5681, '측': 5682, '일절': 5683, '디자이너': 5684, '수명': 5685, '도둑질': 5686, '챙': 5687, '품질': 5688, '철렁': 5689, '딱딱하다': 5690, '서프라이즈': 5691, '정규': 5692, '소방관': 5693, '전신': 5694, '약과': 5695, '멘토': 5696, '페이': 5697, '세대차이': 5698, '정당방위': 5699, '남루하다': 5700, '인문': 5701, '중퇴': 5702, '공연': 5703, '스팸': 5704, '쾌적하다': 5705, '피부염': 5706, '내다보다': 5707, '탁': 5708, '가엾다': 5709, '끊어지다': 5710, '편의': 5711, '병행': 5712, '울화통': 5713, '아이폰': 5714, '무덤': 5715, '떡볶이': 5716, '박대': 5717, '트렌드': 5718, '무좀': 5719, '옮을까': 5720, '보나': 5721, '훌쩍': 5722, '히터': 5723, '막대': 5724, '까탈': 5725, '글자': 5726, '양반': 5727, '차라': 5728, '임원진': 5729, '캐나다': 5730, '뒷골목': 5731, '인격': 5732, '일박': 5733, '이일': 5734, '얻어맞다': 5735, '실손': 5736, '찍': 5737, '사보다': 5738, '궁상맞다': 5739, '구시대': 5740, '결산': 5741, '주제가': 5742, '이의': 5743, '예외': 5744, '안하무인': 5745, '비정상': 5746, '거더': 5747, '분가': 5748, '자격': 5749, '게이머': 5750, '지대': 5751, '차오르다': 5752, '농사일': 5753, '은혜': 5754, '자동화': 5755, '조직검사': 5756, '빠져나가다': 5757, '던데': 5758, '뒷받침': 5759, '꺾다': 5760, '프로': 5761, '성교육': 5762, '웃기': 5763, '이해력': 5764, '기와': 5765, '교장': 5766, '친밀하다': 5767, '찬밥': 5768, '집요하다': 5769, '침묵': 5770, '쌓이네': 5771, '분할': 5772, '박사': 5773, '대학원생': 5774, '초래': 5775, '레스토랑': 5776, '미식': 5777, '짖다': 5778, '규제': 5779, '가하다': 5780, '인복': 5781, '편일': 5782, '돌변': 5783, '중심': 5784, '친근하다': 5785, '구타': 5786, '금메달': 5787, '현황': 5788, '응모': 5789, '세라': 5790, '큰아버지': 5791, '왕성': 5792, '러더': 5793, '어리석다': 5794, '질서': 5795, '경쟁자': 5796, '감독': 5797, '개봉': 5798, '옷가게': 5799, '나이라': 5800, '두껍다': 5801, '고대': 5802, '주최': 5803, '그런': 5804, '모조리': 5805, '화상': 5806, '놨어': 5807, '화난': 5808, '캠퍼스': 5809, '위조': 5810, '방안': 5811, '나돌다': 5812, '공중화장실': 5813, '고래': 5814, '완벽': 5815, '죗값': 5816, '측정': 5817, '태희': 5818, '천재': 5819, '엄': 5820, '헤드헌터': 5821, '애애': 5822, '꾼': 5823, '조울증': 5824, '단독': 5825, '산악회': 5826, '걸레': 5827, '인수합병': 5828, '에라도': 5829, '술병': 5830, '뛰어오다': 5831, '어째': 5832, '어쩐지': 5833, '오시': 5834, '옆방': 5835, '갈비': 5836, '주무르다': 5837, '헤어': 5838, '기승': 5839, '부여': 5840, '배역': 5841, '환호': 5842, '쫄딱': 5843, '경운기': 5844, '입양아': 5845, '사시': 5846, '지소': 5847, '커뮤니티': 5848, '옥': 5849, '평상시': 5850, '소금': 5851, '울컥': 5852, '지정': 5853, '캠프': 5854, '서슴지': 5855, '칠하다': 5856, '십억': 5857, '짓궂다': 5858, '연주': 5859, '야자': 5860, '메꿀': 5861, '패거리': 5862, '굴지': 5863, '송년회': 5864, '경품': 5865, '수감': 5866, '불완전': 5867, '쌈짓돈': 5868, '연구': 5869, '치수': 5870, '진땀': 5871, '발리': 5872, '얌전하다': 5873, '글씨': 5874, '자자하다': 5875, '일정하다': 5876, '냉랭하다': 5877, '명함': 5878, '새삼': 5879, '누더기': 5880, '격식': 5881, '주인공': 5882, '인구': 5883, '두드리다': 5884, '반성': 5885, '금세': 5886, '코치': 5887, '도달': 5888, '유동': 5889, '넓어지다': 5890, '해달': 5891, '소매치기': 5892, '달라붙다': 5893, '까칠하다': 5894, '한눈': 5895, '증인': 5896, '굳기': 5897, '파토': 5898, '통째': 5899, '절차': 5900, '발걸음': 5901, '밝아지다': 5902, '사고방식': 5903, '경영인': 5904, '별걱정': 5905, '나기': 5906, '배제': 5907, '먼지': 5908, '민감하다': 5909, '마르고': 5910, '본의': 5911, '과학': 5912, '대면': 5913, '승진도': 5914, '참신하다': 5915, '플러스': 5916, '더위': 5917, '향후': 5918, '끈질기다': 5919, '공황장애': 5920, '만해': 5921, '재작년': 5922, '식도암': 5923, '오르내리다': 5924, '꾀다': 5925, '부패': 5926, '고기만': 5927, '당해': 5928, '감수': 5929, '알콜': 5930, '사주면': 5931, '허벅지': 5932, '일억이': 5933, '구경': 5934, '털': 5935, '오피스': 5936, '표시': 5937, '천국': 5938, '소아마비': 5939, '쩔뚝': 5940, '부풀리다': 5941, '가득': 5942, '보미': 5943, '활용': 5944, '문중': 5945, '서면': 5946, '일거수일투족': 5947, '술버릇': 5948, '사느랗다': 5949, '시급': 5950, '새하얘지다': 5951, '취객': 5952, '쏠쏠하다': 5953, '아우': 5954, '기안': 5955, '운용': 5956, '부하라': 5957, '팔찌': 5958, '착용': 5959, '두운': 5960, '인감도장': 5961, '화환': 5962, '감사패': 5963, '운동복': 5964, '끈': 5965, '답지': 5966, '곱다': 5967, '분투': 5968, '공통': 5969, '장담': 5970, '미심': 5971, '쩍': 5972, '강인하다': 5973, '검다': 5974, '공백기': 5975, '문의': 5976, '재개발': 5977, '영웅': 5978, '감돌다': 5979, '사나워지다': 5980, '조로': 5981, '번은': 5982, '청소부': 5983, '끙끙대다': 5984, '사유': 5985, '칼': 5986, '추진': 5987, '마려워': 5988, '청소기': 5989, '귓등': 5990, '첫사랑': 5991, '셈': 5992, '얼': 5993, '붙임성': 5994, '술값': 5995, '언론': 5996, '년차': 5997, '무서움': 5998, '의무': 5999, '불치': 6000, '따오다': 6001, '방광암': 6002, '노화': 6003, '고가': 6004, '이대': 6005, '자판기': 6006, '계약서': 6007, '잠자리': 6008, '네로': 6009, '세운': 6010, '협조': 6011, '손재주': 6012, '알츠하이머병': 6013, '속지': 6014, '대중': 6015, '자율': 6016, '신부': 6017, '가증': 6018, '새엄마': 6019, '성의': 6020, '공금': 6021, '발가락': 6022, '습득': 6023, '다지': 6024, '한국말': 6025, '곤욕': 6026, '하루빨리': 6027, '앞길': 6028, '자연스럽다': 6029, '찌들다': 6030, '피라미드': 6031, '유입': 6032, '테이블': 6033, '복장': 6034, '금실': 6035, '페이퍼': 6036, '이기도': 6037, '계정': 6038, '단지': 6039, '얼다': 6040, '대외': 6041, '고시원': 6042, '다녀가다': 6043, '명퇴': 6044, '한도': 6045, '패딩': 6046, '실속': 6047, '미영': 6048, '이바지': 6049, '밀가루': 6050, '오늘내일': 6051, '잊혀지다': 6052, '아비규환': 6053, '자궁경부암': 6054, '장애인': 6055, '호언': 6056, '담하다': 6057, '냉담하다': 6058, '궁핍하다': 6059, '깨닫다': 6060, '파트너': 6061, '표창장': 6062, '말리': 6063, '작동': 6064, '봉사자': 6065, '주식시장': 6066, '속옷': 6067, '동일하다': 6068, '맞장구': 6069, '숙이다': 6070, '살수': 6071, '록': 6072, '솔로인': 6073, '잡무': 6074, '모멸': 6075, '정형외과': 6076, '통합': 6077, '식비': 6078, '녹초': 6079, '지퍼': 6080, '양심': 6081, '행패': 6082, '사전': 6083, '시신': 6084, '설교': 6085, '행실': 6086, '붙들다': 6087, '보직': 6088, '암담하다': 6089, '등진': 6090, '승소': 6091, '홍보': 6092, '안색': 6093, '인사말': 6094, '스트레': 6095, '틀어놓다': 6096, '순산': 6097, '결과물': 6098, '용': 6099, '컵': 6100, '다혈질': 6101, '막차': 6102, '고려': 6103, '아두': 6104, '시금': 6105, '인공수정': 6106, '병가': 6107, '소서': 6108, '잠기다': 6109, '불참': 6110, '묵살': 6111, '복사기': 6112, '약혼': 6113, '뛰어들다': 6114, '한구석': 6115, '용종': 6116, '생소하다': 6117, '천성': 6118, '약관': 6119, '산만하다': 6120, '동물': 6121, '편안함': 6122, '노예': 6123, '금주': 6124, '은행원': 6125, '피나': 6126, '헛구역질': 6127, '처우': 6128, '국물': 6129, '뷔페': 6130, '쇼크': 6131, '일어서다': 6132, '중이염': 6133, '풍기다': 6134, '공직': 6135, '혼미하다': 6136, '매매': 6137, '무지하다': 6138, '의학': 6139, '쟁이': 6140, '태권도': 6141, '우스꽝스럽다': 6142, '둥': 6143, '보내오다': 6144, '막연하다': 6145, '깜깜무소식': 6146, '오십만': 6147, '삿대질': 6148, '주차장': 6149, '동참': 6150, '에너지': 6151, '화끈': 6152, '한턱': 6153, '자금난': 6154, '진통제': 6155, '아찔하다': 6156, '내후년': 6157, '진전': 6158, '조정': 6159, '실현': 6160, '폴더': 6161, '주스': 6162, '낮잠': 6163, '독박': 6164, '징징대다': 6165, '김장': 6166, '찾아다니다': 6167, '뎌': 6168, '치유': 6169, '환경미화원': 6170, '숫자': 6171, '내정자': 6172, '백신': 6173, '러닝머신': 6174, '맞은편': 6175, '한일': 6176, '계열': 6177, '까마득하다': 6178, '박살': 6179, '문고': 6180, '쓸데없이': 6181, '소지품': 6182, '경쟁률': 6183, '캐스팅': 6184, '수건': 6185, '사도': 6186, '협업': 6187, '무전': 6188, '노랗다': 6189, '가물가물': 6190, '최씨': 6191, '흑자': 6192, '메뚜기': 6193, '사흘': 6194, '부끄러움': 6195, '덤덤하다': 6196, '스크린': 6197, '심리상담': 6198, '욕실': 6199, '현명하다': 6200, '사모님': 6201, '범': 6202, '아부해': 6203, '하차': 6204, '퍼뜨려': 6205, '들먹이다': 6206, '부정맥': 6207, '이서': 6208, '숙연': 6209, '축농증': 6210, '회삿돈': 6211, '명과': 6212, '비정규직': 6213, '신혼부부': 6214, '밤하늘': 6215, '간밤': 6216, '덩이': 6217, '스승': 6218, '움직임': 6219, '생생하다': 6220, '보수': 6221, '짝짝이': 6222, '둘걸': 6223, '우연이': 6224, '신지': 6225, '결항': 6226, '상대로': 6227, '임산부': 6228, '대립': 6229, '보유': 6230, '맹세코': 6231, '무직': 6232, '가차': 6233, '따위': 6234, '성대': 6235, '혹사': 6236, '시큰둥하다': 6237, '다음주': 6238, '흩어지다': 6239, '타입': 6240, '금산사': 6241, '빌라': 6242, '세고': 6243, '팽': 6244, '아프리카': 6245, '인형': 6246, '나른하다': 6247, '백이십': 6248, '콜센터': 6249, '커리어': 6250, '싱글벙글': 6251, '근무시간': 6252, '음식물': 6253, '고심': 6254, '사비': 6255, '줄넘기': 6256, '으름장': 6257, '건조하다': 6258, '건전지': 6259, '파': 6260, '종': 6261, '액정': 6262, '신종': 6263, '전원': 6264, '시집살이': 6265, '부터라도': 6266, '과장하다': 6267, '신부전': 6268, '연관': 6269, '부정행위': 6270, '취할': 6271, '민수': 6272, '서양화': 6273, '책임감': 6274, '또한': 6275, '흉터': 6276, '환승': 6277, '조문': 6278, '다솜': 6279, '여윳돈': 6280, '영어실력': 6281, '욱하': 6282, '산모': 6283, '흐릿하': 6284, '한층': 6285, '땡볕': 6286, '튀어': 6287, '치인': 6288, '사체': 6289, '작정': 6290, '남녀': 6291, '애매하다': 6292, '환절기': 6293, '파탄': 6294, '부실하다': 6295, '달이다': 6296, '부풀다': 6297, '패가망신': 6298, '설움': 6299, '내과': 6300, '설득': 6301, '맛보다': 6302, '때우다': 6303, '위선': 6304, '매수': 6305, '헛디디다': 6306, '호강': 6307, '하혈': 6308, '중천': 6309, '밥상머리': 6310, '엎었': 6311, '왕인': 6312, '하녀': 6313, '발끝': 6314, '연골': 6315, '한창때': 6316, '차기': 6317, '수평': 6318, '켜': 6319, '전문성': 6320, '독일': 6321, '유연하다': 6322, '변비': 6323, '매너': 6324, '대상포진': 6325, '저택': 6326, '관계없이': 6327, '여사': 6328, '대인기피증': 6329, '유서': 6330, '번갈아': 6331, '슥': 6332, '적령': 6333, '악화시키다': 6334, '로써': 6335, '시름시름': 6336, '하직': 6337, '우정': 6338, '적히다': 6339, '중국': 6340, '세탁': 6341, '법률': 6342, '쑥떡': 6343, '치명': 6344, '적립': 6345, '바짓가랑이': 6346, '만끽': 6347, '타오': 6348, '정액': 6349, '발버둥': 6350, '유형': 6351, '팔씨름': 6352, '옥자': 6353, '팔로': 6354, '일수록': 6355, '나아가다': 6356, '적어도': 6357, '명성': 6358, '혜인': 6359, '정돈': 6360, '자락': 6361, '살맛': 6362, '구실': 6363, '나주': 6364, '강박': 6365, '발표회': 6366, '외딴': 6367, '남부럽다': 6368, '멀뚱하다': 6369, '오천': 6370, '한약재': 6371, '부러': 6372, '심기': 6373, '고혈압약': 6374, '올': 6375, '모발': 6376, '속도위반': 6377, '보육원': 6378, '반기': 6379, '외다': 6380, '일부분': 6381, '그저께': 6382, '해임': 6383, '열두': 6384, '내려앉다': 6385, '숙소': 6386, '산골': 6387, '조리': 6388, '주랑': 6389, '재니': 6390, '광택': 6391, '청렴': 6392, '이불': 6393, '백두산': 6394, '끔뻑이': 6395, '비치다': 6396, '교우': 6397, '근거': 6398, '교활하다': 6399, '순진하다': 6400, '아사코': 6401, '별장': 6402, '스럽지도': 6403, '바퀴': 6404, '월급쟁이': 6405, '관성': 6406, '스페인': 6407, '전염': 6408, '친형': 6409, '초초해': 6410, '사이즈': 6411, '협착증': 6412, '경미하다': 6413, '구려': 6414, '파손': 6415, '문책': 6416, '인기투표': 6417, '학식': 6418, '섬': 6419, '울화': 6420, '집단': 6421, '기관': 6422, '시내': 6423, '굿': 6424, '사주': 6425, '입력': 6426, '관대하다': 6427, '놨는데': 6428, '치욕스럽다': 6429, '깨트렸어': 6430, '삼천만': 6431, '투여': 6432, '퍼뜨린': 6433, '환': 6434, '따분하다': 6435, '뛰어가다': 6436, '약도': 6437, '관리자': 6438, '다이아몬드': 6439, '자영': 6440, '소형차': 6441, '잔기침': 6442, '가가': 6443, '전전': 6444, '렌스': 6445, '젠더': 6446, '섣부르다': 6447, '버럭': 6448, '평범하다': 6449, '구나': 6450, '경로': 6451, '킬로나': 6452, '순수하다': 6453, '무게': 6454, '영수증': 6455, '닳다': 6456, '우유부단하다': 6457, '시각': 6458, '베스트': 6459, '동정': 6460, '대입': 6461, '서운해하다': 6462, '울리다': 6463, '순조': 6464, '출시': 6465, '수칙': 6466, '순은': 6467, '난데없이': 6468, '야위다': 6469, '철석': 6470, '토라': 6471, '린': 6472, '말끝': 6473, '오만원': 6474, '랬': 6475, '디지털': 6476, '질린다': 6477, '열악하다': 6478, '밭일': 6479, '추하다': 6480, '감량': 6481, '스타': 6482, '오신': 6483, '산지': 6484, '엉엉': 6485, '캐비닛': 6486, '건방지다': 6487, '스킬': 6488, '디저트': 6489, '과음': 6490, '재산세': 6491, '예습': 6492, '덤': 6493, '외적인': 6494, '기지개': 6495, '속임수': 6496, '꼬락서니': 6497, '자소': 6498, '춥다': 6499, '콩알': 6500, '섭취': 6501, '통치': 6502, '스페인어': 6503, '악성종양': 6504, '토악질': 6505, '가까스로': 6506, '회계': 6507, '무심코': 6508, '후기': 6509, '올려놓다': 6510, '어저께': 6511, '녹용': 6512, '더디다': 6513, '털모자': 6514, '다기': 6515, '골프장': 6516, '차단': 6517, '사의': 6518, '수군대다': 6519, '졸업생': 6520, '과격하다': 6521, '지우': 6522, '매장': 6523, '비대': 6524, '인대': 6525, '근래': 6526, '어지간하다': 6527, '책임자': 6528, '다운': 6529, '악순환': 6530, '불확실하다': 6531, '젖': 6532, '유언비어': 6533, '어학': 6534, '인식': 6535, '달리다': 6536, '쌀밥': 6537, '유흥': 6538, '운동신경': 6539, '으로나': 6540, '작아지다': 6541, '까맣다': 6542, '가스요금': 6543, '컴컴하다': 6544, '썰렁하다': 6545, '쥐구멍': 6546, '개조': 6547, '노려보다': 6548, '벌금': 6549, '일꾼': 6550, '마침': 6551, '덴': 6552, '바가지': 6553, '갓': 6554, '마인드': 6555, '떳떳하다': 6556, '스토킹': 6557, '딸애': 6558, '달아나다': 6559, '수포': 6560, '낮추다': 6561, '금식': 6562, '꼬르륵': 6563, '역다': 6564, '애완견': 6565, '미로': 6566, '한결같이': 6567, '어버이': 6568, '칠십팔이': 6569, '제사': 6570, '변동': 6571, '한평생': 6572, '의사소통': 6573, '전국': 6574, '고스': 6575, '복사': 6576, '내막': 6577, '명순': 6578, '얽히다': 6579, '학연': 6580, '적합하다': 6581, '티끌': 6582, '집세': 6583, '삐': 6584, '사슴벌레': 6585, '격': 6586, '배탈': 6587, '도로': 6588, '새해': 6589, '이래저래': 6590, '구청': 6591, '강': 6592, '유': 6593, '손톱': 6594, '선포': 6595, '시리다': 6596, '억이': 6597, '매뉴얼': 6598, '외곽': 6599, '울고불고': 6600, '안이하다': 6601, '감점': 6602, '뚝딱': 6603, '바람맞다': 6604, '국영수': 6605, '각': 6606, '동무': 6607, '에부터': 6608, '위반': 6609, '박다': 6610, '클라이언트': 6611, '넉': 6612, '케이': 6613, '짜릿하다': 6614, '진동': 6615, '소고기': 6616, '액세서리': 6617, '체험학습': 6618, '그런대로': 6619, '산책로': 6620, '휘트니': 6621, '입도': 6622, '상이': 6623, '새아버지': 6624, '그치다': 6625, '한자리': 6626, '짊어지': 6627, '따로따로': 6628, '글렀어': 6629, '주소': 6630, '원만': 6631, '앓아눕다': 6632, '우르르': 6633, '틱장애': 6634, '울상': 6635, '여우': 6636, '증가': 6637, '야무지다': 6638, '매다': 6639, '멋': 6640, '연신': 6641, '털털': 6642, '영업정지': 6643, '본대': 6644, '살얼음': 6645, '어울림': 6646, '일이구': 6647, '모피': 6648, '단계': 6649, '쪽팔리다': 6650, '생태계': 6651, '파괴': 6652, '몰아치다': 6653, '신호등': 6654, '측은하다': 6655, '점집': 6656, '한주': 6657, '최고다': 6658, '상대평가': 6659, '영업직': 6660, '들러리': 6661, '관문': 6662, '중고': 6663, '쓰시': 6664, '친숙하다': 6665, '어김없이': 6666, '귀감': 6667, '성찰': 6668, '함흥차사': 6669, '뀌어': 6670, '백미': 6671, '연일': 6672, '사그라지다': 6673, '침울하다': 6674, '납입': 6675, '등하굣길': 6676, '킥': 6677, '보드': 6678, '마침내': 6679, '싸구려': 6680, '경지': 6681, '이르렀다': 6682, '사택': 6683, '스카이': 6684, '발등': 6685, '합석': 6686, '반딧불': 6687, '대드': 6688, '자유분방하다': 6689, '금수': 6690, '여야': 6691, '무자비하다': 6692, '바래다주다': 6693, '게임중독': 6694, '나란하다': 6695, '롤': 6696, '겉모습': 6697, '송두리째': 6698, '잠잠하다': 6699, '수유': 6700, '시끌시끌하다': 6701, '뭉클하다': 6702, '몸집': 6703, '주가지수': 6704, '여름방학': 6705, '몽': 6706, '그래그래': 6707, '대표이사': 6708, '관철': 6709, '무감각': 6710, '휴게소': 6711, '독학': 6712, '친언니': 6713, '이정': 6714, '응시': 6715, '압도': 6716, '산불': 6717, '활약': 6718, '징징거리다': 6719, '날아다니다': 6720, '아비': 6721, '법석': 6722, '삼백': 6723, '화이트': 6724, '천년': 6725, '체격': 6726, '재활용': 6727, '수거': 6728, '당사자': 6729, '관여': 6730, '추': 6731, '슬러': 6732, '재학': 6733, '골인': 6734, '신자': 6735, '무종교': 6736, '용납': 6737, '완벽주의자': 6738, '머무르다': 6739, '옹호': 6740, '머': 6741, '고요함': 6742, '생애': 6743, '갈아': 6744, '미화': 6745, '장어': 6746, '씻기다': 6747, '제각각': 6748, '적당': 6749, '솔루션': 6750, '주리': 6751, '경위': 6752, '증원': 6753, '중요시': 6754, '휩싸이다': 6755, '오피스텔': 6756, '미역': 6757, '완도': 6758, '바꿔치다': 6759, '얼음': 6760, '부득이': 6761, '발주': 6762, '오타': 6763, '울분': 6764, '영양사': 6765, '아랑곳': 6766, '심화': 6767, '일수': 6768, '체결': 6769, '사들이다': 6770, '공평하다': 6771, '세방': 6772, '낙상': 6773, '요로결석': 6774, '헉헉거리다': 6775, '혼담': 6776, '오가다': 6777, '바닷가': 6778, '조르지': 6779, '정오': 6780, '일찍이': 6781, '치켜세우다': 6782, '백만원': 6783, '재난': 6784, '범죄자': 6785, '취조': 6786, '광주': 6787, '혼잣말': 6788, '푹신하다': 6789, '기필코': 6790, '메우다': 6791, '나오니': 6792, '온돌': 6793, '대패': 6794, '중계': 6795, '고용주': 6796, '더구나': 6797, '사량': 6798, '쬐다': 6799, '테니스': 6800, '나일': 6801, '욱했던': 6802, '어쩐': 6803, '고지': 6804, '아이스크림': 6805, '작업장': 6806, '장일': 6807, '꼽아보': 6808, '공인': 6809, '중개사': 6810, '중개': 6811, '답례': 6812, '빗다': 6813, '사레': 6814, '성전환자': 6815, '정신질환': 6816, '자빠지다': 6817, '물르다': 6818, '세차': 6819, '익': 6820, '순환': 6821, '찌릿찌릿하다': 6822, '헐다': 6823, '배송': 6824, '베개': 6825, '축축하다': 6826, '본받다': 6827, '유리하다': 6828, '안치': 6829, '약수터': 6830, '으슬으슬': 6831, '방사선': 6832, '왕복': 6833, '위함': 6834, '교정': 6835, '배움터': 6836, '제보자': 6837, '딸리다': 6838, '고요하다': 6839, '서성거리다': 6840, '허구': 6841, '비축': 6842, '출처': 6843, '성분': 6844, '건설업': 6845, '오백': 6846, '가만있다': 6847, '유무': 6848, '좌석': 6849, '시트': 6850, '날카롭다': 6851, '꿰': 6852, '궂은일': 6853, '층집': 6854, '강조': 6855, '사랑스럽다': 6856, '세지': 6857, '우등상': 6858, '네일아트': 6859, '서바이벌': 6860, '멘붕': 6861, '상상임신': 6862, '빈틈': 6863, '천사처럼': 6864, '연구실': 6865, '벌겋다': 6866, '중책': 6867, '지킴': 6868, '형호': 6869, '제하': 6870, '무효': 6871, '학': 6872, '처치': 6873, '갈리다': 6874, '한살이': 6875, '질해': 6876, '지방함량': 6877, '편견': 6878, '유니세프': 6879, '이세': 6880, '구년': 6881, '방면': 6882, '이중성': 6883, '리다': 6884, '방조': 6885, '아사': 6886, '기침약': 6887, '과학고': 6888, '취업률': 6889, '역대': 6890, '수없이': 6891, '스테이크': 6892, '재해': 6893, '대론': 6894, '골고루': 6895, '국수': 6896, '먹여주다': 6897, '령': 6898, '플래카드': 6899, '외딴섬': 6900, '지로': 6901, '위절제술': 6902, '환기': 6903, '배낭여행': 6904, '생일케이크': 6905, '명세서': 6906, '전산': 6907, '헛소리': 6908, '으로서는': 6909, '시렁': 6910, '삐쩍': 6911, '피크': 6912, '상일': 6913, '이사도': 6914, '연세대': 6915, '증권': 6916, '암산': 6917, '띄우다': 6918, '위험수위': 6919, '이루': 6920, '보조금': 6921, '파스타': 6922, '알람': 6923, '서적': 6924, '툴툴댔더': 6925, '어쩌': 6926, '정류장': 6927, '새치기': 6928, '미네': 6929, '민정': 6930, '돌리지': 6931, '명령': 6932, '헛된': 6933, '커피믹스': 6934, '당직': 6935, '무릎관절': 6936, '아랫사람': 6937, '잡음': 6938, '숙취': 6939, '라식수술': 6940, '개강': 6941, '꼿꼿하다': 6942, '묵묵': 6943, '낄낄': 6944, '부자간': 6945, '티격태격해': 6946, '빗자루': 6947, '매니지먼트': 6948, '제로': 6949, '해마다': 6950, '시리': 6951, '스카웃': 6952, '주전': 6953, '결함': 6954, '양파': 6955, '이로': 6956, '차량': 6957, '랜덤': 6958, '골목길': 6959, '피기': 6960, '무려': 6961, '예비신부': 6962, '자기계발': 6963, '금고': 6964, '닥달': 6965, '단장': 6966, '기여': 6967, '비틀': 6968, '나진': 6969, '다발': 6970, '급락': 6971, '슬며시': 6972, '한눈팔다': 6973, '춤': 6974, '추기': 6975, '조장': 6976, '리더십': 6977, '앞뒤': 6978, '세균': 6979, '번식': 6980, '옥탑방': 6981, '매니큐어': 6982, '차근차근하다': 6983, '유치장': 6984, '생전': 6985, '치민': 6986, '목적지': 6987, '지난날': 6988, '세포': 6989, '한단': 6990, '선후배': 6991, '관객': 6992, '사백': 6993, '이상신': 6994, '호가': 6995, '어안': 6996, '벙벙하다': 6997, '통역사': 6998, '원활하다': 6999, '묵묵하다': 7000, '베테': 7001, '태평하다': 7002, '투약': 7003, '증여': 7004, '한바탕': 7005, '질도': 7006, '구순': 7007, '일확천금': 7008, '입실': 7009, '사고뭉치': 7010, '층간소음': 7011, '쇠약하다': 7012, '억압받다': 7013, '자본주의': 7014, '윤': 7015, '바퀴벌레': 7016, '흘겨보다': 7017, '반신': 7018, '움츠리다': 7019, '오목': 7020, '욕구': 7021, '요추': 7022, '협착': 7023, '오백만원': 7024, '근육통': 7025, '변성기': 7026, '유기농': 7027, '곡물': 7028, '가뿐하다': 7029, '꿀꿀하다': 7030, '짓궃': 7031, '이자율': 7032, '대니': 7033, '만화책': 7034, '기둥': 7035, '저장': 7036, '부둥켜안다': 7037, '반토막': 7038, '증명사진': 7039, '쇼': 7040, '윈도': 7041, '일삼': 7042, '십견': 7043, '재건': 7044, '잔소릴': 7045, '꼬마': 7046, '외동딸': 7047, '핼쑥': 7048, '해지니': 7049, '체지방률': 7050, '비결': 7051, '뻘쭘해': 7052, '빈둥대던': 7053, '불장난': 7054, '권투': 7055, '래미': 7056, '하룻밤': 7057, '전업': 7058, '동행': 7059, '밴드': 7060, '흥미롭다': 7061, '청결': 7062, '부추기다': 7063, '냉소': 7064, '증진': 7065, '본능': 7066, '마킹': 7067, '자칫': 7068, '식판': 7069, '엎었어': 7070, '어우': 7071, '회서': 7072, '우울': 7073, '환호성': 7074, '처절하다': 7075, '자기개발': 7076, '가부장': 7077, '통제': 7078, '가르침': 7079, '뽀삐': 7080, '견주': 7081, '쌍방': 7082, '귓속말': 7083, '삼십육': 7084, '앞서서': 7085, '재활용품': 7086, '독수공방': 7087, '원천': 7088, '교통비': 7089, '삭히다': 7090, '전교꼴등': 7091, '난이': 7092, '약혼녀': 7093, '하얗다': 7094, '생필품': 7095, '오른쪽': 7096, '비문증': 7097, '가불': 7098, '혼사': 7099, '십수': 7100, '스포츠': 7101, '맞대다': 7102, '순직': 7103, '복무': 7104, '단속': 7105, '진도면': 7106, '더치': 7107, '부질': 7108, '가로등': 7109, '가정법원': 7110, '괴리감': 7111, '대피': 7112, '학자금대출': 7113, '정리정돈': 7114, '사례금': 7115, '수락': 7116, '어나': 7117, '판촉': 7118, '차출': 7119, '숙면': 7120, '코드': 7121, '아파해': 7122, '지독하다': 7123, '시전': 7124, '창자': 7125, '어린이': 7126, '어그러지다': 7127, '워킹맘': 7128, '곽': 7129, '등지': 7130, '카풀': 7131, '보안': 7132, '해석': 7133, '문전': 7134, '깨나': 7135, '까지의': 7136, '귀중하다': 7137, '콜로라도주': 7138, '자연스레': 7139, '간지': 7140, '입학시험': 7141, '볼걸': 7142, '발톱': 7143, '급작': 7144, '조례': 7145, '밑바닥': 7146, '천원': 7147, '가군': 7148, '콜록콜록': 7149, '벌떡': 7150, '재물': 7151, '학폭': 7152, '위도': 7153, '맞서다': 7154, '난방': 7155, '억대': 7156, '다양해지다': 7157, '최소': 7158, '덜하다': 7159, '엿': 7160, '파란': 7161, '대문': 7162, '가품': 7163, '돌려막기': 7164, '기성세대': 7165, '행각': 7166, '분장': 7167, '동물원': 7168, '팍팍하다': 7169, '침해': 7170, '후룸라이드': 7171, '오르락내리락': 7172, '파격': 7173, '낙태': 7174, '나들이': 7175, '반쪽': 7176, '분기': 7177, '끌어내리다': 7178, '혼인신고': 7179, '물정': 7180, '격해지다': 7181, '도련님': 7182, '몸뚱어리': 7183, '개방': 7184, '제목': 7185, '얹히다': 7186, '고산': 7187, '이용만': 7188, '최상': 7189, '먹구름': 7190, '화창하다': 7191, '조폭': 7192, '팔도': 7193, '주야장천': 7194, '들여놓다': 7195, '녹차': 7196, '처방전': 7197, '조작': 7198, '퇴로': 7199, '예치': 7200, '교환': 7201, '백일': 7202, '동성애': 7203, '위스키': 7204, '친한친구': 7205, '난장판': 7206, '해킹': 7207, '난이도': 7208, '기금': 7209, '원기준': 7210, '건재': 7211, '중점': 7212, '난후': 7213, '타고나다': 7214, '욕구불만': 7215, '문헌정보': 7216, '과체중': 7217, '종합병원': 7218, '수위': 7219, '헛딛는': 7220, '월간지': 7221, '산걸': 7222, '전동': 7223, '올림픽': 7224, '로되': 7225, '혈기': 7226, '몸뚱아리': 7227, '도사': 7228, '외양': 7229, '이득': 7230, '휴대전화': 7231, '껍데기': 7232, '며늘': 7233, '겨울철': 7234, '비중': 7235, '만큼이나': 7236, '일손': 7237, '이동해': 7238, '괄시': 7239, '미천하다': 7240, '내달': 7241, '어지러움': 7242, '응': 7243, '익다': 7244, '제약회사': 7245, '고삼': 7246, '뚜껑': 7247, '아이템': 7248, '장례비용': 7249, '새우등': 7250, '도리': 7251, '봉양': 7252, '김부': 7253, '토박이': 7254, '애정도': 7255, '염두': 7256, '출근시간': 7257, '더라도': 7258, '휴무': 7259, '물병': 7260, '목욕': 7261, '는가': 7262, '평안하다': 7263, '셰계': 7264, '논리': 7265, '영지': 7266, '상철': 7267, '영점': 7268, '음감': 7269, '조그마하다': 7270, '연명': 7271, '처자': 7272, '행세': 7273, '산물': 7274, '베이비': 7275, '붐': 7276, '박수': 7277, '줏대': 7278, '바르게': 7279, '정심': 7280, '안건': 7281, '잔반': 7282, '코코아': 7283, '음미': 7284, '연극배우': 7285, '특수부대': 7286, '로나': 7287, '더부룩하다': 7288, '자매': 7289, '들려주다': 7290, '일관': 7291, '작심삼일': 7292, '사철': 7293, '거둬들이다': 7294, '내자': 7295, '만만': 7296, '대사': 7297, '뻗다': 7298, '궁색하다': 7299, '제작': 7300, '알아맞히다': 7301, '기역': 7302, '자만': 7303, '설탕': 7304, '충동': 7305, '투명': 7306, '가죽': 7307, '남일': 7308, '적절하다': 7309, '사죄': 7310, '핑곗거리': 7311, '어두우': 7312, '설문조사': 7313, '냉혹하다': 7314, '무지': 7315, '페인트': 7316, '유라': 7317, '잔쯕': 7318, '어마어마하다': 7319, '떵떵': 7320, '드러나다': 7321, '서기': 7322, '오르간': 7323, '주자': 7324, '쫄면': 7325, '신어': 7326, '창립': 7327, '마마': 7328, '무가': 7329, '배당': 7330, '꿋꿋하다': 7331, '베트남': 7332, '입국': 7333, '날씨예보': 7334, '갑상샘': 7335, '인파': 7336, '일명': 7337, '날밤': 7338, '재항암': 7339, '닥치고': 7340, '반신불수': 7341, '젤': 7342, '국비': 7343, '치료법': 7344, '헤드셋': 7345, '콩쿠르': 7346, '거북하다': 7347, '결코': 7348, '학용품': 7349, '자립하다': 7350, '컨설턴트': 7351, '용의자': 7352, '진탕': 7353, '목격자': 7354, '티나': 7355, '덕담': 7356, '학우': 7357, '치근덕거리다': 7358, '농구': 7359, '신생': 7360, '대각선': 7361, '가줄': 7362, '동락': 7363, '빈칸': 7364, '목구멍': 7365, '수치심': 7366, '첫인상': 7367, '버럭대다': 7368, '고수': 7369, '유리창': 7370, '에게서도': 7371, '생겨나다': 7372, '해나': 7373, '분란': 7374, '취했다': 7375, '불완전하다': 7376, '일주': 7377, '식상하다': 7378, '백팔십팔': 7379, '센티미터': 7380, '강인': 7381, '페이스': 7382, '꽂다': 7383, '감안': 7384, '면제': 7385, '총괄': 7386, '일억만': 7387, '엄연하다': 7388, '유골': 7389, '소실': 7390, '차키': 7391, '형성': 7392, '방출': 7393, '보탬': 7394, '여름날': 7395, '우러러': 7396, '괴로움': 7397, '장마철': 7398, '장대': 7399, '전교회장': 7400, '전가': 7401, '감원': 7402, '작전': 7403, '습도': 7404, '순대': 7405, '늘그막': 7406, '명예훼손': 7407, '좀빼': 7408, '가족계획': 7409, '에까지': 7410, '미숙': 7411, '짱': 7412, '웅덩이': 7413, '곤충': 7414, '등등': 7415, '애틋하다': 7416, '갈팡질팡': 7417, '쪼들리다': 7418, '승률': 7419, '막둥': 7420, '눈길': 7421, '예사롭다': 7422, '전자레인지': 7423, '관련성': 7424, '국제': 7425, '재결합': 7426, '만병통치약': 7427, '어치': 7428, '스토커': 7429, '오번': 7430, '맨': 7431, '이인삼각': 7432, '꼬박': 7433, '대범하다': 7434, '군무원': 7435, '상도': 7436, '알코올중독': 7437, '일일구': 7438, '업계': 7439, '감상문': 7440, '아웃백': 7441, '경희대': 7442, '이심': 7443, '패': 7444, '걷히다': 7445, '확답': 7446, '담담하다': 7447, '도래': 7448, '수완': 7449, '고하': 7450, '늘씬하다': 7451, '집안사람': 7452, '영향력': 7453, '토론': 7454, '차원': 7455, '보상금': 7456, '아웃': 7457, '벤처기업': 7458, '신변': 7459, '해몽': 7460, '봉지': 7461, '어리광': 7462, '노궁': 7463, '전조': 7464, '뜻밖': 7465, '유흥주점': 7466, '급증': 7467, '및': 7468, '적격하다': 7469, '혈액형': 7470, '열사': 7471, '부금': 7472, '고학력자': 7473, '에프': 7474, '눈독': 7475, '미션': 7476, '배분': 7477, '가스레인지': 7478, '화제': 7479, '다이아': 7480, '상향': 7481, '자궁암': 7482, '시원섭섭하다': 7483, '보도자료': 7484, '가운데': 7485, '홍': 7486, '머릿결': 7487, '선보다': 7488, '쇠': 7489, '대거': 7490, '반수': 7491, '항적': 7492, '망정': 7493, '멱살': 7494, '평수': 7495, '고모부': 7496, '시체': 7497, '오묘하다': 7498, '명시': 7499, '목사': 7500, '킬로그램': 7501, '설경': 7502, '산행': 7503, '래서야': 7504, '에게나': 7505, '부녀회': 7506, '맛탕': 7507, '이뿌다': 7508, '차안': 7509, '말벌': 7510, '정전': 7511, '레인': 7512, '홍콩': 7513, '어그': 7514, '머리띠': 7515, '에게로': 7516, '폐경기': 7517, '컨닝': 7518, '중재': 7519, '혼전': 7520, '백조': 7521, '식충이': 7522, '반면': 7523, '납작하다': 7524, '수강': 7525, '바람직하다': 7526, '쾅': 7527, '섹스': 7528, '리스': 7529, '넘어뜨리다': 7530, '반도': 7531, '합동': 7532, '얼렁뚱땅': 7533, '무역': 7534, '물회': 7535, '미세하다': 7536, '전남편': 7537, '거역': 7538, '비롯': 7539, '무식하다': 7540, '세제': 7541, '갈망': 7542, '행시': 7543, '펜션': 7544, '육류': 7545, '법안': 7546, '샤프': 7547, '얼버무리다': 7548, '독점': 7549, '장차': 7550, '유망': 7551, '맹장': 7552, '부간': 7553, '비법': 7554, '경제학자': 7555, '크루즈': 7556, '유방': 7557, '바비큐': 7558, '텃새': 7559, '공업고등학교': 7560, '올려다보다': 7561, '엇': 7562, '박하': 7563, '돌연사': 7564, '이복': 7565, '선천성': 7566, '황새': 7567, '뱁새': 7568, '연대': 7569, '떠보다': 7570, '수백만': 7571, '총애': 7572, '감퇴': 7573, '궁': 7574, '성형수술': 7575, '승객': 7576, '파마': 7577, '저하': 7578, '블라인드': 7579, '다문화': 7580, '고지서': 7581, '구리다': 7582, '대한민국': 7583, '집밖': 7584, '미숙아': 7585, '웅': 7586, '피디': 7587, '조산': 7588, '소독': 7589, '철썩': 7590, '경기도': 7591, '연결': 7592, '에서만큼은': 7593, '코트': 7594, '저녁밥': 7595, '동요': 7596, '까막눈': 7597, '도모': 7598, '기타': 7599, '표기': 7600, '서류철': 7601, '입소': 7602, '뒤척': 7603, '푼돈': 7604, '파도': 7605, '휩쓸다': 7606, '상투': 7607, '어딨다': 7608, '뜻일': 7609, '하나님': 7610, '필리핀': 7611, '두뇌': 7612, '쉬쉬': 7613, '폐기': 7614, '역무': 7615, '콘돔': 7616, '바란': 7617, '지리산': 7618, '다재': 7619, '능': 7620, '다정': 7621, '삼차': 7622, '배움': 7623, '민첩하다': 7624, '담소': 7625, '지도력': 7626, '버킷리스트': 7627, '복합': 7628, '다소': 7629, '꼰대들': 7630, '메세지': 7631, '색안경': 7632, '앤': 7633, '해진': 7634, '집문서': 7635, '툴툴거려': 7636, '발끈': 7637, '다만': 7638, '이해도': 7639, '발길': 7640, '아치': 7641, '터치': 7642, '주요': 7643, '편집장': 7644, '아니꼽다': 7645, '골병': 7646, '뭐기': 7647, '바람둥이': 7648, '벽돌': 7649, '이끼': 7650, '마리': 7651, '대의': 7652, '뚫어지다': 7653, '육촌': 7654, '한턱내다': 7655, '점장님': 7656, '계시': 7657, '수동': 7658, '방탄소년단': 7659, '강화하다': 7660, '성능': 7661, '대관절': 7662, '상대자': 7663, '오징어': 7664, '위원장': 7665, '전전긍긍': 7666, '공적': 7667, '이나라': 7668, '불명예': 7669, '영양가': 7670, '획득': 7671, '문해': 7672, '조미료': 7673, '잉크': 7674, '베란다': 7675, '가전제품': 7676, '명목': 7677, '처녀': 7678, '특유': 7679, '마땅': 7680, '비자': 7681, '박씨': 7682, '가동': 7683, '대야': 7684, '방송사': 7685, '악기': 7686, '바른': 7687, '한적하다': 7688, '가계약': 7689, '성정체성': 7690, '종용': 7691, '탈퇴': 7692, '외진': 7693, '포트폴리오': 7694, '좌지우지': 7695, '롯데': 7696, '월드': 7697, '벨': 7698, '연애편지': 7699, '초밥': 7700, '마땅치': 7701, '주입': 7702, '다큐': 7703, '흐릿해': 7704, '물난리': 7705, '살살': 7706, '떼이다': 7707, '상습범': 7708, '자랑거리': 7709, '사안': 7710, '홀어머니': 7711, '가로막다': 7712, '지리다': 7713, '려면': 7714, '둥지': 7715, '참새': 7716, '계산서': 7717, '발행': 7718, '잔디': 7719, '돗자리': 7720, '순하다': 7721, '대주': 7722, '식약청': 7723, '검문': 7724, '분도': 7725, '앓이': 7726, '낙찰': 7727, '절대음감': 7728, '경멸': 7729, '당기다': 7730, '다년': 7731, '유머러스하다': 7732, '리도': 7733, '휘청': 7734, '호적': 7735, '궂': 7736, '전무': 7737, '밤사이': 7738, '째째하다': 7739, '텐트': 7740, '삽입': 7741, '앞진': 7742, '관람': 7743, '격투기': 7744, '구두쇠': 7745, '깔보다': 7746, '홈': 7747, '트레이닝': 7748, '파선': 7749, '삐걱': 7750, '아나운서': 7751, '호우': 7752, '캠핑카': 7753, '스카프': 7754, '관두': 7755, '사래': 7756, '하원': 7757, '포근하다': 7758, '어린이집': 7759, '일원': 7760, '족': 7761, '약혼자': 7762, '피부암': 7763, '척척': 7764, '장치': 7765, '오래도록': 7766, '흠': 7767, '불운': 7768, '아이콘': 7769, '껄끄러워': 7770, '식기세척기': 7771, '최저임금': 7772, '뛰어다니다': 7773, '비뇨기': 7774, '돌침대': 7775, '크나크다': 7776, '전략': 7777, '강원랜드': 7778, '요약': 7779, '교통': 7780, '마는': 7781, '물불': 7782, '열두시': 7783, '벌벌': 7784, '어리석음': 7785, '동조': 7786, '제빵': 7787, '구먼': 7788, '망언': 7789, '재다': 7790, '저조하다': 7791, '혁신': 7792, '투표': 7793, '붙잡히다': 7794, '점도': 7795, '사실관계': 7796, '거렸': 7797, '행위': 7798, '무표정': 7799, '식지': 7800, '방향성': 7801, '리스트': 7802, '교습': 7803, '모의': 7804, '무인': 7805, '한때': 7806, '다나': 7807, '현역': 7808, '소유권': 7809, '으로서의': 7810, '후송': 7811, '성문': 7812, '뉘우치다': 7813, '노선': 7814, '구가': 7815, '세미나': 7816, '편파': 7817, '맹세': 7818, '비행청소년': 7819, '지위': 7820, '사무소': 7821, '탁하다': 7822, '갈비뼈': 7823, '종말': 7824, '독자': 7825, '웃옷': 7826, '애원': 7827, '양성애자': 7828, '파마머리': 7829, '생명과학': 7830, '사십이': 7831, '박동수': 7832, '아역': 7833, '인내심': 7834, '노산': 7835, '레고': 7836, '처갓집': 7837, '여념': 7838, '화투': 7839, '빡빡': 7840, '상장': 7841, '얼싸안다': 7842, '순순하다': 7843, '민원': 7844, '땅문서': 7845, '모니터': 7846, '가정불화': 7847, '포옹': 7848, '폭삭': 7849, '패션': 7850, '행정': 7851, '다시금': 7852, '삔': 7853, '막걸리': 7854, '자네도': 7855, '고마움': 7856, '정성스럽다': 7857, '중추': 7858, '신장암': 7859, '개국': 7860, '코웃음': 7861, '음악회': 7862, '쥐어박다': 7863, '메모': 7864, '애정결핍': 7865, '삼일장': 7866, '안방': 7867, '다라': 7868, '관리직': 7869, '돈대': 7870, '적반하장': 7871, '사과문': 7872, '몸싸움': 7873, '표절': 7874, '널': 7875, '불규칙하다': 7876, '이석': 7877, '애니메이션': 7878, '만삭': 7879, '구축': 7880, '심술': 7881, '로더': 7882, '군기': 7883, '우회': 7884, '통원': 7885, '미세': 7886, '중일': 7887, '으로써': 7888, '삼겹살': 7889, '간판': 7890, '하향': 7891, '알라': 7892, '세척': 7893, '나가떨어지다': 7894, '부닥치다': 7895, '바람기': 7896, '체면': 7897, '배상금': 7898, '소름끼치다': 7899, '넋': 7900, '겁박': 7901, '전세계약': 7902, '중지': 7903, '대적': 7904, '친우': 7905, '무관': 7906, '집어넣다': 7907, '결백': 7908, '홀수': 7909, '비거': 7910, '살균제': 7911, '만큼이야': 7912, '점포': 7913, '좌': 7914, '퇴행': 7915, '엎어': 7916, '선입견': 7917, '직분': 7918, '얼떨떨하다': 7919, '이탈': 7920, '친자검사': 7921, '위약금': 7922, '뻣뻣하다': 7923, '친아빠': 7924, '여자아이': 7925, '도울': 7926, '서점': 7927, '꾸리': 7928, '예절': 7929, '메뉴얼': 7930, '남탕': 7931, '정비': 7932, '차남': 7933, '날아오다': 7934, '목장': 7935, '피티': 7936, '돌부리': 7937, '확산': 7938, '알차다': 7939, '칠십이': 7940, '헤아리다': 7941, '주름살': 7942, '말론': 7943, '게으름': 7944, '삼계탕': 7945, '횡재': 7946, '월말': 7947, '떠밀다': 7948, '명인': 7949, '절': 7950, '구애': 7951, '건너편': 7952, '명일': 7953, '주민등록': 7954, '수만': 7955, '이른바': 7956, '회피': 7957, '이상야릇하다': 7958, '인심': 7959, '월차': 7960, '직속상관': 7961, '집밥': 7962, '복부비만': 7963, '단합': 7964, '애해': 7965, '통행': 7966, '애착': 7967, '고아원': 7968, '뒤로': 7969, '불문': 7970, '장비': 7971, '빵빵': 7972, '간도': 7973, '가축': 7974, '뒷덜미': 7975, '교': 7976, '밤낮': 7977, '예요': 7978, '끈기': 7979, '억제': 7980, '방전': 7981, '떨구다': 7982, '제나': 7983, '어미': 7984, '잠꼬대': 7985, '강탈': 7986, '우러러보': 7987, '케어': 7988, '왕': 7989, '곧잘': 7990, '바로잡다': 7991, '안취': 7992, '헛걸음': 7993, '젋었': 7994, '초콜릿': 7995, '도태': 7996, '사방': 7997, '기원': 7998, '지니': 7999, '휴양': 8000, '연습생': 8001, '어린이날': 8002, '표준': 8003, '벼락치기': 8004, '백도': 8005, '군것질': 8006, '재우다': 8007, '스레': 8008, '눕혔는데': 8009, '옛날이야기': 8010, '주체': 8011, '출연': 8012, '피지': 8013, '무임': 8014, '승차': 8015, '다야': 8016, '음으로': 8017, '운전대': 8018, '고현': 8019, '다급해지다': 8020, '가상': 8021, '화폐': 8022, '애초': 8023, '인증': 8024, '유혹': 8025, '시청': 8026, '허허': 8027, '교양': 8028, '십년감수': 8029, '빈둥거리': 8030, '적기': 8031, '수금': 8032, '카트': 8033, '도용': 8034, '정성은': 8035, '포': 8036, '음악가': 8037, '미관': 8038, '라미': 8039, '태생': 8040, '액자': 8041, '어머': 8042, '소희': 8043, '색시': 8044, '저희': 8045, '열시': 8046, '신인': 8047, '사례': 8048, '할멈들': 8049, '떄문': 8050, '폐활량': 8051, '라식': 8052, '일보': 8053, '이에요': 8054, '무신': 8055, '괴팍': 8056, '사촌동생': 8057, '마음가짐': 8058, '마땅찮다': 8059, '당부': 8060, '넌지시': 8061, '스런': 8062, '셀': 8063, '성비': 8064, '금지법': 8065, '까불다': 8066, '화학': 8067, '밤중': 8068, '반대편': 8069, '전송': 8070, '참내': 8071, '댓글': 8072, '무분별': 8073, '십이': 8074, '윗몸일으키기': 8075, '생사': 8076, '불분명': 8077, '호응': 8078, '자식새끼': 8079, '응답': 8080, '대성통곡': 8081, '무소식': 8082, '꼴불견': 8083, '임대료': 8084, '훈련소': 8085, '갈비찜': 8086, '남김없이': 8087, '폐해': 8088, '믹스': 8089, '경계': 8090, '멘트': 8091, '선약': 8092, '룰루랄라': 8093, '공세': 8094, '프라모델': 8095, '손수': 8096, '손수건': 8097, '이보': 8098, '최소한': 8099, '양호': 8100, '바람둥': 8101, '뛰어오르다': 8102, '증권사': 8103, '콕': 8104, '친한척': 8105, '다락방': 8106, '쌍꺼풀': 8107, '락': 8108, '어설프다': 8109, '명동': 8110, '시보': 8111, '맨발': 8112, '차감': 8113, '가이드': 8114, '시디': 8115, '성화니': 8116, '붙이': 8117, '특목고': 8118, '자재': 8119, '가설': 8120, '몰입': 8121, '부스럭': 8122, '식물인간': 8123, '치도': 8124, '애완동물': 8125, '영민': 8126, '라야': 8127, '놀이기구': 8128, '단단하다': 8129, '증서': 8130, '조교': 8131, '월액': 8132, '최저생계비': 8133, '한라산': 8134, '남친': 8135, '묶음': 8136, '때마': 8137, '무상': 8138, '주일': 8139, '양일': 8140, '분풀이': 8141, '풀칠': 8142, '멘탈': 8143, '붕괴': 8144, '줌바': 8145, '치근덕대다': 8146, '자연과학': 8147, '학문': 8148, '부침개': 8149, '토닥이다': 8150, '산산조각': 8151, '대리출석': 8152, '구강': 8153, '아가': 8154, '쩔쩔매다': 8155, '내비게이션': 8156, '건너가다': 8157, '조의': 8158, '양육': 8159, '전자기기': 8160, '목발': 8161, '사투리': 8162, '표준어': 8163, '모여들다': 8164, '면도': 8165, '난소': 8166, '에서만이': 8167, '고려장': 8168, '십오': 8169, '변덕': 8170, '그러기에': 8171, '해선': 8172, '비책': 8173, '묏': 8174, '오에이': 8175, '탁월하다': 8176, '서든': 8177, '요강': 8178, '맞닥뜨렸었어': 8179, '석사': 8180, '알더': 8181, '퀴즈쇼': 8182, '작물': 8183, '수확': 8184, '분업': 8185, '십대': 8186, '동문회': 8187, '시들하다': 8188, '실체': 8189, '가물치': 8190, '공존': 8191, '살피': 8192, '시리얼': 8193, '본격': 8194, '렀': 8195, '대졸': 8196, '부류': 8197, '오냐': 8198, '무리다': 8199, '선생': 8200, '시련': 8201, '휘감다': 8202, '업적': 8203, '향기': 8204, '식겁하다': 8205, '컴': 8206, '플레인': 8207, '장식': 8208, '트로피': 8209, '제빵사': 8210, '골증': 8211, '간소': 8212, '스몰': 8213, '오픈': 8214, '개교': 8215, '전면': 8216, '계서': 8217, '부조리': 8218, '같잖다': 8219, '에다가': 8220, '해체': 8221, '분실': 8222, '간장게장': 8223, '오래간만': 8224, '부업': 8225, '이사장': 8226, '모성애': 8227, '굽실': 8228, '와전': 8229, '실용음악': 8230, '성대결절': 8231, '허름': 8232, '순탄': 8233, '새치': 8234, '탯줄': 8235, '관점': 8236, '풍요롭': 8237, '편협': 8238, '광부': 8239, '사십': 8240, '터널': 8241, '굴착': 8242, '벼르': 8243, '악': 8244, '권한': 8245, '공과금': 8246, '벌렁벌렁': 8247, '엉덩이': 8248, '올린다': 8249, '아드님': 8250, '여지': 8251, '그중': 8252, '앉히다': 8253, '빠트려': 8254, '여중생': 8255, '횟감': 8256, '초혼': 8257, '부리면': 8258, '연세': 8259, '헬기': 8260, '땅콩': 8261, '개미': 8262, '방황': 8263, '보아': 8264, '공통점': 8265, '블로그': 8266, '섬기다': 8267, '체불': 8268, '구지': 8269, '유지비': 8270, '때론': 8271, '헛': 8272, '필요성': 8273, '코로': 8274, '측면': 8275, '경연': 8276, '과부': 8277, '닌': 8278, '흐름': 8279, '노하우': 8280, '스케줄': 8281, '말주변': 8282, '하란': 8283, '줌': 8284, '흙': 8285, '매부': 8286, '속보': 8287, '심심': 8288, '스위스': 8289, '양도': 8290, '수줍다': 8291, '부재': 8292, '다냬': 8293, '연희': 8294, '삼포': 8295, '칭하': 8296, '다정다감하다': 8297, '치네다': 8298, '라이딩': 8299, '십상': 8300, '대원': 8301, '말벗': 8302, '기숙': 8303, '슬리퍼': 8304, '모기지론': 8305, '퉁퉁': 8306, '횟수': 8307, '필요없다': 8308, '살로': 8309, '악명': 8310, '으레': 8311, '재고': 8312, '정석': 8313, '정통': 8314, '호구': 8315, '오십오': 8316, '전등': 8317, '상심': 8318, '어수룩하다': 8319, '참나': 8320, '하인': 8321, '일자': 8322, '허수아비': 8323, '해주시': 8324, '우두커니': 8325, '일그러지다': 8326, '개장': 8327, '호주': 8328, '에게까지': 8329, '교환학생': 8330, '딴지': 8331, '위임장': 8332, '이삿짐': 8333, '즈': 8334, '서인': 8335, '워크넷': 8336, '자처': 8337, '기저': 8338, '진수': 8339, '성찬': 8340, '흑': 8341, '남학생': 8342, '위생': 8343, '고속': 8344, '굴릴': 8345, '애칭': 8346, '열세': 8347, '위계': 8348, '졸졸': 8349, '금슬': 8350, '편리하다': 8351, '충치': 8352, '하지정맥류': 8353, '나무': 8354, '부주의': 8355, '누리다': 8356, '은둔': 8357, '천지': 8358, '이레': 8359, '동전': 8360, '깡통': 8361, '노령': 8362, '영란': 8363, '장근이': 8364, '특별대우': 8365, '이구나': 8366, '미나': 8367, '다수': 8368, '물컵': 8369, '출산율': 8370, '경신': 8371, '민우': 8372, '그른': 8373, '남다르다': 8374, '빈둥대': 8375, '사상': 8376, '식약처': 8377, '바이크': 8378, '임종은': 8379, '버셨어': 8380, '아이야': 8381, '말귀': 8382, '형제자매': 8383, '무책임하다': 8384, '뭉치다': 8385, '종친회': 8386, '선남선녀': 8387, '구조대': 8388, '박봉': 8389, '부주의하다': 8390, '타부': 8391, '노인도': 8392, '요금소': 8393, '기자': 8394, '이적': 8395, '러브콜': 8396, '개업': 8397, '인테리어': 8398, '밀고': 8399, '무르': 8400, '침착하다': 8401, '삭신': 8402, '건너': 8403, '전립선': 8404, '벌렁': 8405, '농작물': 8406, '의외': 8407, '부전': 8408, '안남다': 8409, '미비하다': 8410, '거뭇거뭇': 8411, '프': 8412, '랜드': 8413, '차분해지다': 8414, '게걸': 8415, '안녕': 8416, '물속': 8417, '독극물': 8418, '씨름': 8419, '언급': 8420, '부속품': 8421, '현상': 8422, '서지': 8423, '댄서': 8424, '미용': 8425, '스킨': 8426, '애프터': 8427, '보충수업': 8428, '버럭버럭': 8429, '토록': 8430, '호화': 8431, '유람선': 8432, '드림': 8433, '카를': 8434, '수업료': 8435, '허무맹랑': 8436, '남고': 8437, '월경': 8438, '묘': 8439, '분윳값': 8440, '분과': 8441, '저절로': 8442, '멋쟁이': 8443, '명상': 8444, '맥박': 8445, '한의사': 8446, '박카스': 8447, '고함': 8448, '베다': 8449, '포대': 8450, '탕수육': 8451, '책장': 8452, '숟가락': 8453, '커버': 8454, '무력': 8455, '간신히': 8456, '뇌혈관': 8457, '동맥': 8458, '류': 8459, '쓰레기봉투': 8460, '허비하다': 8461, '관심사': 8462, '봉급': 8463, '달랑': 8464, '요구르트': 8465, '대기발령': 8466, '사인': 8467, '근로계약서': 8468, '처신': 8469, '감염병': 8470, '아날로그': 8471, '고물': 8472, '가시다': 8473, '차곡하다': 8474, '사촌오빠': 8475, '와우': 8476, '추근거리다': 8477, '주례': 8478, '롭': 8479, '작은아버지': 8480, '제법': 8481, '항생제': 8482, '초경': 8483, '방심하다': 8484, '웨어': 8485, '유머': 8486, '대물리다': 8487, '치맥': 8488, '외투': 8489, '따윈': 8490, '친부모': 8491, '오직': 8492, '새기다': 8493, '외톨이야': 8494, '센티': 8495, '브': 8496, '비굴하다': 8497, '익히다': 8498, '뻘쭘했어': 8499, '통학': 8500, '덤비다': 8501, '더러워지다': 8502, '준비운동': 8503, '히스테리': 8504, '여운': 8505, '론': 8506, '소수': 8507, '엄습': 8508, '여행기': 8509, '학번': 8510, '병시': 8511, '유행병': 8512, '차일': 8513, '비판': 8514, '탐색': 8515, '이어진': 8516, '꼿꼿이': 8517, '무병장수': 8518, '훈육': 8519, '자그마하다': 8520, '복인': 8521, '상실하다': 8522, '골반': 8523, '현식': 8524, '콩나물': 8525, '육십오': 8526, '얼떨결': 8527, '편집자': 8528, '도세': 8529, '파서': 8530, '우수하다': 8531, '문학소녀': 8532, '앨범': 8533, '의존': 8534, '씌었던': 8535, '마크': 8536, '강의실': 8537, '금값': 8538, '논밭': 8539, '절실': 8540, '햄스터': 8541, '확실': 8542, '이견': 8543, '환전': 8544, '김치찌개': 8545, '답문': 8546, '현관문': 8547, '복판': 8548, '팔짱': 8549, '우아하다': 8550, '참관': 8551, '덩': 8552, '두근두근': 8553, '하여간': 8554, '차일피일': 8555, '앱': 8556, '구체': 8557, '논의': 8558, '문건': 8559, '어긋나게': 8560, '번뜩': 8561, '순이익': 8562, '빠듯할': 8563, '전철역': 8564, '전단지': 8565, '이십팔': 8566, '소액': 8567, '요금': 8568, '무마': 8569, '지지도': 8570, '가만': 8571, '낙도': 8572, '툴툴대더': 8573, '공신': 8574, '해롭다': 8575, '인스턴트식품': 8576, '실언': 8577, '희소': 8578, '보일러': 8579, '협회': 8580, '담요': 8581, '얼룩': 8582, '엑셀': 8583, '잘되지': 8584, '사담': 8585, '난리치다': 8586, '부의': 8587, '신장결석': 8588, '격차': 8589, '감소': 8590, '토익시험': 8591, '환송': 8592, '현직': 8593, '쪼': 8594, '트리': 8595, '왈칵': 8596, '복날': 8597, '술술': 8598, '경제사': 8599, '랍시고': 8600, '군림': 8601, '얽매': 8602, '회신': 8603, '한식': 8604, '조리사': 8605, '냉동': 8606, '박아': 8607, '교과': 8608, '대머리': 8609, '팬클럽': 8610, '유가족': 8611, '비행': 8612, '청소년': 8613, '말재': 8614, '위장병': 8615, '화이트데이': 8616, '홱': 8617, '불만족': 8618, '초인종': 8619, '사위다': 8620, '무궁무진': 8621, '해둘': 8622, '학술': 8623, '이율': 8624, '까치': 8625, '삼지': 8626, '어영부영': 8627, '안경점': 8628, '찬물': 8629, '따끈하다': 8630, '분별': 8631, '무지막지': 8632, '목도': 8633, '핀': 8634, '김치전': 8635, '부스스': 8636, '호명': 8637, '백발': 8638, '돌기': 8639, '악습': 8640, '벼룩': 8641, '무기한': 8642, '기수': 8643, '자질': 8644, '퍼부어': 8645, '우쭐대다': 8646, '끝일': 8647, '랄': 8648, '임자': 8649, '대우받다': 8650, '료': 8651, '잉어': 8652, '응급구조대': 8653, '트레이너': 8654, '무릅쓰': 8655, '기합': 8656, '기물': 8657, '끝장': 8658, '시동생': 8659, '동원': 8660, '사후세계': 8661, '짤릴까': 8662, '라디오': 8663, '고리타분하다': 8664, '볼껄': 8665, '회한': 8666, '대시': 8667, '검수': 8668, '동심': 8669, '깨달': 8670, '모나': 8671, '수상': 8672, '출동': 8673, '멍청이': 8674, '홈페이지': 8675, '게재': 8676, '현': 8677, '뭉치': 8678, '축구공': 8679, '어렵사리': 8680, '꼬셔': 8681, '적집': 8682, '듬직하다': 8683, '정해진': 8684, '나요': 8685, '밖에는': 8686, '동사무소': 8687, '체감': 8688, '산악자전거': 8689, '문제점': 8690, '뻑뻑': 8691, '심경': 8692, '폐쇄되어': 8693, '자택': 8694, '해오': 8695, '총명하다': 8696, '의젓하다': 8697, '체력장': 8698, '외할아버지': 8699, '건실': 8700, '왕년': 8701, '펄펄': 8702, '초보': 8703, '이십만': 8704, '줄줄': 8705, '술취해': 8706, '설치': 8707, '굳은살': 8708, '갑': 8709, '애나': 8710, '세지면': 8711, '직하다': 8712, '년제': 8713, '작용': 8714, '눈감다': 8715, '전립선염': 8716, '바득바득': 8717, '금은': 8718, '항복': 8719, '햇빛': 8720, '특채': 8721, '뇌물': 8722, '금지옥엽': 8723, '툴툴': 8724, '웹툰': 8725, '마르지': 8726, '와이셔츠': 8727, '영문': 8728, '한정판': 8729, '손익': 8730, '화려': 8731, '틈타다': 8732, '삭제': 8733, '천대': 8734, '효능': 8735, '두창': 8736, '정력': 8737, '광경': 8738, '그로': 8739, '농기': 8740, '신분증': 8741, '뜨끔하다': 8742, '입버릇': 8743, '그러하다': 8744, '짐일': 8745, '놨': 8746, '거도': 8747, '통탄': 8748, '알바생': 8749, '켜지다': 8750, '배꼽': 8751, '단식': 8752, '과민': 8753, '두통약': 8754, '왼': 8755, '팔다리': 8756, '입수': 8757, '본전': 8758, '가압류': 8759, '북새통': 8760, '살인마': 8761, '식중독': 8762, '농구부': 8763, '노부모': 8764, '틱': 8765, '시안': 8766, '장모': 8767, '레슨': 8768, '하염없이': 8769, '신통': 8770, '우편물': 8771, '엇갈리다': 8772, '남성만': 8773, '포상': 8774, '손수레': 8775, '손상': 8776, '팸플릿': 8777, '부라': 8778, '만구천': 8779, '역서': 8780, '휜다': 8781, '계약금': 8782, '혈관': 8783, '러시아': 8784, '결원': 8785, '정신차리다': 8786, '실실': 8787, '부아': 8788, '잔액': 8789, '기량': 8790, '출품': 8791, '쪼잔하': 8792, '도비': 8793, '감고': 8794, '잡티': 8795, '물배': 8796, '음료': 8797, '맘껏': 8798, '장려상': 8799, '분홍색': 8800, '애석하다': 8801, '일위': 8802, '흘러가다': 8803, '신비': 8804, '귀금속': 8805, '멍멍하다': 8806, '피진': 8807, '현지': 8808, '추수': 8809, '에서까지': 8810, '비보': 8811, '대금': 8812, '달인': 8813, '합치': 8814, '자문': 8815, '상종': 8816, '커트라인': 8817, '제이': 8818, '대여': 8819, '경제활동': 8820, '셋째': 8821, '사무': 8822, '먹잇감': 8823, '창구': 8824, '업종': 8825, '팬티': 8826, '쿠키': 8827, '소도': 8828, '끈끈': 8829, '혹평': 8830, '헛헛해': 8831, '최우수상': 8832, '오성': 8833, '톤': 8834, '트럭': 8835, '형부': 8836, '싸고돌다': 8837, '단정하다': 8838, '어수선하다': 8839, '싱글': 8840, '서먹서먹하다': 8841, '프렌': 8842, '이즈': 8843, '외주': 8844, '판다': 8845, '약인': 8846, '무심': 8847, '쓰다듬다': 8848, '굴다': 8849, '교외': 8850, '과신': 8851, '위험성': 8852, '존재도': 8853, '콤플렉스': 8854, '감지': 8855, '싯': 8856, '널다': 8857, '막노동': 8858, '두어': 8859, '욱': 8860, '수속': 8861, '아유': 8862, '하트': 8863, '당근': 8864, '울타리': 8865, '음담패설': 8866, '확충': 8867, '알아채다': 8868, '부수': 8869, '성황리': 8870, '끼리끼리': 8871, '가사도': 8872, '말라가': 8873, '긴축': 8874, '소화도': 8875, '구도': 8876, '고속도로': 8877, '뚫리다': 8878, '헛먹': 8879, '몰두': 8880, '현성': 8881, '나본': 8882, '요사이': 8883, '두피': 8884, '폐교': 8885, '경리': 8886, '탐욕': 8887, '인삼': 8888, '장신구': 8889, '공단': 8890, '실시': 8891, '부글부글': 8892, '끓다': 8893, '한강': 8894, '굵다': 8895, '뀌었는데': 8896, '불우': 8897, '돕기': 8898, '불이익': 8899, '미수': 8900, '납': 8901, '페스티벌': 8902, '술잔치': 8903, '수목장': 8904, '경제권': 8905, '한량': 8906, '담합': 8907, '유비': 8908, '무환': 8909, '사자': 8910, '성어': 8911, '수납': 8912, '국회의원': 8913, '숨소리': 8914, '희미하다': 8915, '연구원': 8916, '경악': 8917, '금치': 8918, '열기': 8919, '급변': 8920, '황달': 8921, '시르다': 8922, '염소': 8923, '검정고시': 8924, '퍼뜨렸': 8925, '얌체': 8926, '공용': 8927, '불길': 8928, '외침': 8929, '튀다': 8930, '상여': 8931, '한가하다': 8932, '면전': 8933, '체조': 8934, '우릴': 8935, '풍년': 8936, '수확량': 8937, '결벽증': 8938, '의탁': 8939, '해먹': 8940, '인정이': 8941, '냉기': 8942, '싫증': 8943, '양옆': 8944, '품위': 8945, '고역': 8946, '숙지': 8947, '데스크': 8948, '혈연': 8949, '김숙': 8950, '반값': 8951, '날인': 8952, '인명': 8953, '재천': 8954, '순리': 8955, '본적': 8956, '친부': 8957, '성용': 8958, '환승역': 8959, '단층': 8960, '무당': 8961, '현수막': 8962, '누님': 8963, '날카로워지다': 8964, '일곱': 8965, '대대로': 8966, '벽지': 8967, '차이점': 8968, '영재': 8969, '어두워지다': 8970, '삐었어': 8971, '뿌옇다': 8972, '러시': 8973, '서러워지다': 8974, '열중': 8975, '부결': 8976, '해만': 8977, '허겁지겁': 8978, '공과': 8979, '걸알': 8980, '모녀': 8981, '투고': 8982, '법정': 8983, '슬럼프': 8984, '눈살': 8985, '찌푸리다': 8986, '마약': 8987, '제아': 8988, '간직': 8989, '패물': 8990, '뀌': 8991, '비키': 8992, '북한': 8993, '커뮤니케이션': 8994, '자장면': 8995, '길길이': 8996, '날뛰다': 8997, '효심': 8998, '지극': 8999, '역류성': 9000, '식도염': 9001, '일당': 9002, '월드컵': 9003, '클래식': 9004, '구장': 9005, '판사': 9006, '고위': 9007, '공직자': 9008, '십분': 9009, '느닷없다': 9010, '툴툴거렸더': 9011, '연쇄': 9012, '살인': 9013, '손등': 9014, '줄줄이': 9015, '심혈': 9016, '낙인찍히다': 9017, '누리': 9018, '꾸물거리다': 9019, '사골': 9020, '신장병': 9021, '쥐꼬리': 9022, '악착같다': 9023, '헛돈': 9024, '에러': 9025, '복구': 9026, '사드': 9027, '시점': 9028, '항진': 9029, '에가': 9030, '베이': 9031, '킹': 9032, '요일': 9033, '으로선': 9034, '싸잡다': 9035, '이상향': 9036, '안면도': 9037, '공기청정기': 9038, '구비': 9039, '이리저리': 9040, '도서실': 9041, '면접시험': 9042, '알람시계': 9043, '훼방': 9044, '근교': 9045, '잡초': 9046, '성내다': 9047, '밝기': 9048, '초창': 9049, '전문직': 9050, '둔갑': 9051, '제라': 9052, '몸서리': 9053, '이백': 9054, '등원': 9055, '함정': 9056, '졸지': 9057, '동선': 9058, '소위': 9059, '이러하다': 9060, '정확': 9061, '잔금': 9062, '만도': 9063, '자살률': 9064, '이맘때': 9065, '신생아': 9066, '꼬깃꼬깃': 9067, '무력감': 9068, '화통': 9069, '휘둥그레지다': 9070, '충성': 9071, '가정방문': 9072, '방인': 9073, '과분': 9074, '암투': 9075, '제어': 9076, '나앉다': 9077, '소동': 9078, '사이트': 9079, '코고': 9080, '지긋지긋': 9081, '돈줄로': 9082, '수도권': 9083, '얹다': 9084, '모독': 9085, '누렇': 9086, '동향': 9087, '겹겹이': 9088, '혼쭐': 9089, '엮': 9090, '에베레스트산': 9091, '출산휴가': 9092, '발짝': 9093, '노엽': 9094, '병날': 9095, '선인장': 9096, '파상풍': 9097, '골수': 9098, '윤리': 9099, '합숙': 9100, '인용': 9101, '배설물': 9102, '무단횡단': 9103, '고참': 9104, '매가': 9105, '불입': 9106, '배부르다': 9107, '수주': 9108, '새로이': 9109, '의처증': 9110, '파기': 9111, '해둘걸': 9112, '삽': 9113, '나신': 9114, '팔근육': 9115, '병해': 9116, '환우': 9117, '진득': 9118, '영구': 9119, '불가': 9120, '바치': 9121, '시끌벅적하다': 9122, '동이': 9123, '나비': 9124, '난임': 9125, '진가': 9126, '농사짓다': 9127, '프렌드': 9128, '문단속': 9129, '허드': 9130, '렛': 9131, '부양가족': 9132, '관공서': 9133, '입찰': 9134, '괴짜': 9135, '폐쇄': 9136, '고서': 9137, '담기다': 9138, '나눠지다': 9139, '자본금': 9140, '걸음걸이': 9141, '자게': 9142, '불효': 9143, '티비': 9144, '동성연애': 9145, '친엄마': 9146, '이빨': 9147, '감개': 9148, '돌싱': 9149, '부케': 9150, '희한하다': 9151, '만능': 9152, '엔지니어': 9153, '로봇': 9154, '분석': 9155, '쇼핑중독': 9156, '횡설수설': 9157, '단명': 9158, '샛노랗': 9159, '분양': 9160, '시야': 9161, '마찬가지': 9162, '십구': 9163, '가량': 9164, '만이라도': 9165, '알몸': 9166, '푸셔': 9167, '삼이': 9168, '빠듯하': 9169, '구상': 9170, '여고': 9171, '동창생': 9172, '일면': 9173, '씹히다': 9174, '처사': 9175, '복리': 9176, '후생': 9177, '살더': 9178, '것이므': 9179, '전광판': 9180, '특성': 9181, '풀풀': 9182, '풍기': 9183, '웨딩사진': 9184, '스케일링': 9185, '의기소침하다': 9186, '직설': 9187, '만화': 9188, '국사': 9189, '어엿하다': 9190, '사회인': 9191, '문소리': 9192, '광고주': 9193, '다스리다': 9194, '막바지': 9195, '줄곧': 9196, '폭우': 9197, '파고다': 9198, '킬로': 9199, '쫒다': 9200, '세력': 9201, '눈높이': 9202, '메달': 9203, '귀염': 9204, '차차': 9205, '회초리': 9206, '승부': 9207, '공공장소': 9208, '동맥경화': 9209, '모바일': 9210, '방석': 9211, '화상회의': 9212, '사일': 9213, '군인': 9214, '합치다': 9215, '저명하다': 9216, '늪': 9217, '보살': 9218, '활동량': 9219, '실화': 9220, '브런치': 9221, '망중': 9222, '부비': 9223, '별관': 9224, '새우': 9225, '만기일': 9226, '팬데믹': 9227, '차려입다': 9228, '구설수': 9229, '처세': 9230, '능숙하다': 9231, '수박': 9232, '라섹': 9233, '강북': 9234, '시산': 9235, '항목': 9236, '갈취': 9237, '이유지': 9238, '대폭': 9239, '직인': 9240, '재수없다': 9241, '사가다': 9242, '흐': 9243, '조부': 9244, '단종': 9245, '탄력': 9246, '타라': 9247, '일간': 9248, '미진하다': 9249, '우': 9250, '열흘': 9251, '일요일': 9252, '부근': 9253, '호불호': 9254, '나뉘다': 9255, '도출': 9256, '내겐': 9257, '기다림': 9258, '인간미': 9259, '종식': 9260, '사무직': 9261, '찔리다': 9262, '헤': 9263, '쏜살같다': 9264, '진하다': 9265, '아버': 9266, '인성': 9267, '넣기': 9268, '폐하': 9269, '야외': 9270, '절로': 9271, '북적': 9272, '한결같다': 9273, '뜬금': 9274, '생활관': 9275, '쐐기': 9276, '근절': 9277, '공약': 9278, '발인': 9279, '교통체증': 9280, '미신': 9281, '경쟁심': 9282, '만족도': 9283, '몹쓸': 9284, '규율': 9285, '청구': 9286, '기척': 9287, '상복': 9288, '아동': 9289, '팔자주름': 9290, '쌈': 9291, '삼성': 9292, '옷가지': 9293, '잡아당기다': 9294, '구태여': 9295, '오백사': 9296, '목도리': 9297, '심취': 9298, '어쩌란': 9299, '윙크': 9300, '성우': 9301, '키즈': 9302, '천금': 9303, '손길': 9304, '조이다': 9305, '쉬기': 9306, '떨치다': 9307, '양치': 9308, '브로커': 9309, '할미': 9310, '교태': 9311, '근원': 9312, '엄포': 9313, '첨부': 9314, '덜렁': 9315, '기계화': 9316, '청해': 9317, '빚쟁이': 9318, '국가고시': 9319, '알약': 9320, '는다': 9321, '국정감사': 9322, '최연': 9323, '반점': 9324, '조사해': 9325, '숨통': 9326, '트이다': 9327, '엉터리': 9328, '툴툴거리': 9329, '왜소하다': 9330, '체구': 9331, '냄비': 9332, '연속극': 9333}\n"
          ]
        }
      ]
    },
    {
      "cell_type": "markdown",
      "metadata": {
        "id": "oPilEHpN1KDf"
      },
      "source": [
        "# Requirements.txt 제작 및 재구현"
      ]
    },
    {
      "cell_type": "code",
      "metadata": {
        "colab": {
          "base_uri": "https://localhost:8080/"
        },
        "id": "JNF4w6E81BGK",
        "outputId": "70eeea3c-25cf-47c7-f5a4-b6561a350fde"
      },
      "source": [
        "!pip freeze"
      ],
      "execution_count": 10,
      "outputs": [
        {
          "output_type": "stream",
          "name": "stdout",
          "text": [
            "absl-py==0.12.0\n",
            "alabaster==0.7.12\n",
            "albumentations==0.1.12\n",
            "altair==4.1.0\n",
            "appdirs==1.4.4\n",
            "argcomplete==1.12.3\n",
            "argon2-cffi==21.1.0\n",
            "arviz==0.11.4\n",
            "astor==0.8.1\n",
            "astropy==4.3.1\n",
            "astunparse==1.6.3\n",
            "atari-py==0.2.9\n",
            "atomicwrites==1.4.0\n",
            "attrs==21.2.0\n",
            "audioread==2.1.9\n",
            "autograd==1.3\n",
            "Babel==2.9.1\n",
            "backcall==0.2.0\n",
            "beautifulsoup4==4.6.0\n",
            "bleach==4.1.0\n",
            "blis==0.4.1\n",
            "bokeh==2.3.3\n",
            "Bottleneck==1.3.2\n",
            "branca==0.4.2\n",
            "bs4==0.0.1\n",
            "CacheControl==0.12.6\n",
            "cached-property==1.5.2\n",
            "cachetools==4.2.4\n",
            "catalogue==1.0.0\n",
            "certifi==2021.5.30\n",
            "cffi==1.14.6\n",
            "cftime==1.5.1\n",
            "chardet==3.0.4\n",
            "charset-normalizer==2.0.7\n",
            "clang==5.0\n",
            "click==7.1.2\n",
            "cloudpickle==1.3.0\n",
            "cmake==3.12.0\n",
            "cmdstanpy==0.9.5\n",
            "colorama==0.4.4\n",
            "colorcet==2.0.6\n",
            "colorlover==0.3.0\n",
            "community==1.0.0b1\n",
            "contextlib2==0.5.5\n",
            "convertdate==2.3.2\n",
            "coverage==3.7.1\n",
            "coveralls==0.5\n",
            "crcmod==1.7\n",
            "cufflinks==0.17.3\n",
            "cupy-cuda111==9.4.0\n",
            "cvxopt==1.2.7\n",
            "cvxpy==1.0.31\n",
            "cycler==0.10.0\n",
            "cymem==2.0.5\n",
            "Cython==0.29.24\n",
            "daft==0.0.4\n",
            "dask==2.12.0\n",
            "datascience==0.10.6\n",
            "debugpy==1.0.0\n",
            "decorator==4.4.2\n",
            "defusedxml==0.7.1\n",
            "descartes==1.1.0\n",
            "dill==0.3.4\n",
            "distributed==1.25.3\n",
            "dlib @ file:///dlib-19.18.0-cp37-cp37m-linux_x86_64.whl\n",
            "dm-tree==0.1.6\n",
            "docopt==0.6.2\n",
            "docutils==0.17.1\n",
            "dopamine-rl==1.0.5\n",
            "earthengine-api==0.1.284\n",
            "easydict==1.9\n",
            "ecos==2.0.7.post1\n",
            "editdistance==0.5.3\n",
            "en-core-web-sm @ https://github.com/explosion/spacy-models/releases/download/en_core_web_sm-2.2.5/en_core_web_sm-2.2.5.tar.gz\n",
            "entrypoints==0.3\n",
            "ephem==4.1\n",
            "et-xmlfile==1.1.0\n",
            "fa2==0.3.5\n",
            "fastai==1.0.61\n",
            "fastdtw==0.3.4\n",
            "fastprogress==1.0.0\n",
            "fastrlock==0.6\n",
            "fbprophet==0.7.1\n",
            "feather-format==0.4.1\n",
            "filelock==3.3.0\n",
            "firebase-admin==4.4.0\n",
            "fix-yahoo-finance==0.0.22\n",
            "Flask==1.1.4\n",
            "flatbuffers==1.12\n",
            "folium==0.8.3\n",
            "future==0.16.0\n",
            "gast==0.4.0\n",
            "GDAL==2.2.2\n",
            "gdown==3.6.4\n",
            "gensim==3.6.0\n",
            "geographiclib==1.52\n",
            "geopy==1.17.0\n",
            "gin-config==0.4.0\n",
            "glob2==0.7\n",
            "google==2.0.3\n",
            "google-api-core==1.26.3\n",
            "google-api-python-client==1.12.8\n",
            "google-auth==1.35.0\n",
            "google-auth-httplib2==0.0.4\n",
            "google-auth-oauthlib==0.4.6\n",
            "google-cloud-bigquery==1.21.0\n",
            "google-cloud-bigquery-storage==1.1.0\n",
            "google-cloud-core==1.0.3\n",
            "google-cloud-datastore==1.8.0\n",
            "google-cloud-firestore==1.7.0\n",
            "google-cloud-language==1.2.0\n",
            "google-cloud-storage==1.18.1\n",
            "google-cloud-translate==1.5.0\n",
            "google-colab @ file:///colabtools/dist/google-colab-1.0.0.tar.gz\n",
            "google-pasta==0.2.0\n",
            "google-resumable-media==0.4.1\n",
            "googleapis-common-protos==1.53.0\n",
            "googledrivedownloader==0.4\n",
            "graphviz==0.10.1\n",
            "greenlet==1.1.2\n",
            "grpcio==1.41.0\n",
            "gspread==3.0.1\n",
            "gspread-dataframe==3.0.8\n",
            "gym==0.17.3\n",
            "h5py==3.1.0\n",
            "HeapDict==1.0.1\n",
            "hijri-converter==2.2.2\n",
            "holidays==0.10.5.2\n",
            "holoviews==1.14.6\n",
            "html5lib==1.0.1\n",
            "httpimport==0.5.18\n",
            "httplib2==0.17.4\n",
            "httplib2shim==0.0.3\n",
            "humanize==0.5.1\n",
            "hyperopt==0.1.2\n",
            "ideep4py==2.0.0.post3\n",
            "idna==2.10\n",
            "imageio==2.4.1\n",
            "imagesize==1.2.0\n",
            "imbalanced-learn==0.4.3\n",
            "imblearn==0.0\n",
            "imgaug==0.2.9\n",
            "importlib-metadata==4.8.1\n",
            "importlib-resources==5.2.2\n",
            "imutils==0.5.4\n",
            "inflect==2.1.0\n",
            "iniconfig==1.1.1\n",
            "intel-openmp==2021.4.0\n",
            "intervaltree==2.1.0\n",
            "ipykernel==4.10.1\n",
            "ipython==5.5.0\n",
            "ipython-genutils==0.2.0\n",
            "ipython-sql==0.3.9\n",
            "ipywidgets==7.6.5\n",
            "itsdangerous==1.1.0\n",
            "jax==0.2.21\n",
            "jaxlib @ https://storage.googleapis.com/jax-releases/cuda111/jaxlib-0.1.71+cuda111-cp37-none-manylinux2010_x86_64.whl\n",
            "jdcal==1.4.1\n",
            "jedi==0.18.0\n",
            "jieba==0.42.1\n",
            "Jinja2==2.11.3\n",
            "joblib==1.0.1\n",
            "jpeg4py==0.1.4\n",
            "JPype1==1.3.0\n",
            "jsonschema==2.6.0\n",
            "jupyter==1.0.0\n",
            "jupyter-client==5.3.5\n",
            "jupyter-console==5.2.0\n",
            "jupyter-core==4.8.1\n",
            "jupyterlab-pygments==0.1.2\n",
            "jupyterlab-widgets==1.0.2\n",
            "kaggle==1.5.12\n",
            "kapre==0.3.5\n",
            "keras==2.6.0\n",
            "Keras-Preprocessing==1.1.2\n",
            "keras-vis==0.4.1\n",
            "kiwisolver==1.3.2\n",
            "konlpy==0.5.2\n",
            "korean-lunar-calendar==0.2.1\n",
            "librosa==0.8.1\n",
            "lightgbm==2.2.3\n",
            "llvmlite==0.34.0\n",
            "lmdb==0.99\n",
            "LunarCalendar==0.0.9\n",
            "lxml==4.2.6\n",
            "Markdown==3.3.4\n",
            "MarkupSafe==2.0.1\n",
            "matplotlib==3.2.2\n",
            "matplotlib-inline==0.1.3\n",
            "matplotlib-venn==0.11.6\n",
            "missingno==0.5.0\n",
            "mistune==0.8.4\n",
            "mizani==0.6.0\n",
            "mkl==2019.0\n",
            "mlxtend==0.14.0\n",
            "more-itertools==8.10.0\n",
            "moviepy==0.2.3.5\n",
            "mpmath==1.2.1\n",
            "msgpack==1.0.2\n",
            "multiprocess==0.70.12.2\n",
            "multitasking==0.0.9\n",
            "murmurhash==1.0.5\n",
            "music21==5.5.0\n",
            "natsort==5.5.0\n",
            "nbclient==0.5.4\n",
            "nbconvert==5.6.1\n",
            "nbformat==5.1.3\n",
            "nest-asyncio==1.5.1\n",
            "netCDF4==1.5.7\n",
            "networkx==2.6.3\n",
            "nibabel==3.0.2\n",
            "nltk==3.2.5\n",
            "notebook==5.3.1\n",
            "numba==0.51.2\n",
            "numexpr==2.7.3\n",
            "numpy==1.19.5\n",
            "nvidia-ml-py3==7.352.0\n",
            "oauth2client==4.1.3\n",
            "oauthlib==3.1.1\n",
            "okgrade==0.4.3\n",
            "opencv-contrib-python==4.1.2.30\n",
            "opencv-python==4.1.2.30\n",
            "openpyxl==2.5.9\n",
            "opt-einsum==3.3.0\n",
            "osqp==0.6.2.post0\n",
            "packaging==21.0\n",
            "palettable==3.3.0\n",
            "pandas==1.1.5\n",
            "pandas-datareader==0.9.0\n",
            "pandas-gbq==0.13.3\n",
            "pandas-profiling==1.4.1\n",
            "pandocfilters==1.5.0\n",
            "panel==0.12.1\n",
            "param==1.11.1\n",
            "parso==0.8.2\n",
            "pathlib==1.0.1\n",
            "patsy==0.5.2\n",
            "pep517==0.11.0\n",
            "pexpect==4.8.0\n",
            "pickleshare==0.7.5\n",
            "Pillow==7.1.2\n",
            "pip-tools==6.2.0\n",
            "plac==1.1.3\n",
            "plotly==4.4.1\n",
            "plotnine==0.6.0\n",
            "pluggy==0.7.1\n",
            "pooch==1.5.1\n",
            "portpicker==1.3.9\n",
            "prefetch-generator==1.0.1\n",
            "preshed==3.0.5\n",
            "prettytable==2.2.1\n",
            "progressbar2==3.38.0\n",
            "prometheus-client==0.12.0\n",
            "promise==2.3\n",
            "prompt-toolkit==1.0.18\n",
            "protobuf==3.17.3\n",
            "psutil==5.4.8\n",
            "psycopg2==2.7.6.1\n",
            "ptyprocess==0.7.0\n",
            "py==1.10.0\n",
            "pyarrow==3.0.0\n",
            "pyasn1==0.4.8\n",
            "pyasn1-modules==0.2.8\n",
            "pycocotools==2.0.2\n",
            "pycparser==2.20\n",
            "pyct==0.4.8\n",
            "pydata-google-auth==1.2.0\n",
            "pydot==1.3.0\n",
            "pydot-ng==2.0.0\n",
            "pydotplus==2.0.2\n",
            "PyDrive==1.3.1\n",
            "pyemd==0.5.1\n",
            "pyerfa==2.0.0\n",
            "pyglet==1.5.0\n",
            "Pygments==2.6.1\n",
            "pygobject==3.26.1\n",
            "pymc3==3.11.4\n",
            "PyMeeus==0.5.11\n",
            "pymongo==3.12.0\n",
            "pymystem3==0.2.0\n",
            "PyOpenGL==3.1.5\n",
            "pyparsing==2.4.7\n",
            "pyrsistent==0.18.0\n",
            "pysndfile==1.3.8\n",
            "PySocks==1.7.1\n",
            "pystan==2.19.1.1\n",
            "pytest==3.6.4\n",
            "python-apt==0.0.0\n",
            "python-chess==0.23.11\n",
            "python-dateutil==2.8.2\n",
            "python-louvain==0.15\n",
            "python-slugify==5.0.2\n",
            "python-utils==2.5.6\n",
            "pytz==2018.9\n",
            "pyviz-comms==2.1.0\n",
            "PyWavelets==1.1.1\n",
            "PyYAML==3.13\n",
            "pyzmq==22.3.0\n",
            "qdldl==0.1.5.post0\n",
            "qtconsole==5.1.1\n",
            "QtPy==1.11.2\n",
            "regex==2019.12.20\n",
            "requests==2.23.0\n",
            "requests-oauthlib==1.3.0\n",
            "resampy==0.2.2\n",
            "retrying==1.3.3\n",
            "rpy2==3.4.5\n",
            "rsa==4.7.2\n",
            "scikit-image==0.16.2\n",
            "scikit-learn==0.22.2.post1\n",
            "scipy==1.4.1\n",
            "screen-resolution-extra==0.0.0\n",
            "scs==2.1.4\n",
            "seaborn==0.11.2\n",
            "semver==2.13.0\n",
            "Send2Trash==1.8.0\n",
            "setuptools-git==1.2\n",
            "Shapely==1.7.1\n",
            "simplegeneric==0.8.1\n",
            "six==1.15.0\n",
            "sklearn==0.0\n",
            "sklearn-pandas==1.8.0\n",
            "smart-open==5.2.1\n",
            "snowballstemmer==2.1.0\n",
            "sortedcontainers==2.4.0\n",
            "SoundFile==0.10.3.post1\n",
            "spacy==2.2.4\n",
            "Sphinx==1.8.5\n",
            "sphinxcontrib-serializinghtml==1.1.5\n",
            "sphinxcontrib-websupport==1.2.4\n",
            "SQLAlchemy==1.4.25\n",
            "sqlparse==0.4.2\n",
            "srsly==1.0.5\n",
            "statsmodels==0.10.2\n",
            "sympy==1.7.1\n",
            "tables==3.4.4\n",
            "tabulate==0.8.9\n",
            "tblib==1.7.0\n",
            "tensorboard==2.6.0\n",
            "tensorboard-data-server==0.6.1\n",
            "tensorboard-plugin-wit==1.8.0\n",
            "tensorflow @ file:///tensorflow-2.6.0-cp37-cp37m-linux_x86_64.whl\n",
            "tensorflow-datasets==4.0.1\n",
            "tensorflow-estimator==2.6.0\n",
            "tensorflow-gcs-config==2.6.0\n",
            "tensorflow-hub==0.12.0\n",
            "tensorflow-metadata==1.2.0\n",
            "tensorflow-probability==0.14.1\n",
            "termcolor==1.1.0\n",
            "terminado==0.12.1\n",
            "testpath==0.5.0\n",
            "text-unidecode==1.3\n",
            "textblob==0.15.3\n",
            "Theano-PyMC==1.1.2\n",
            "thinc==7.4.0\n",
            "tifffile==2021.10.12\n",
            "toml==0.10.2\n",
            "tomli==1.2.1\n",
            "toolz==0.11.1\n",
            "torch @ https://download.pytorch.org/whl/cu111/torch-1.9.0%2Bcu111-cp37-cp37m-linux_x86_64.whl\n",
            "torchsummary==1.5.1\n",
            "torchtext==0.10.0\n",
            "torchvision @ https://download.pytorch.org/whl/cu111/torchvision-0.10.0%2Bcu111-cp37-cp37m-linux_x86_64.whl\n",
            "tornado==5.1.1\n",
            "tqdm==4.62.3\n",
            "traitlets==5.1.0\n",
            "tweepy==3.10.0\n",
            "typeguard==2.7.1\n",
            "typing-extensions==3.7.4.3\n",
            "tzlocal==1.5.1\n",
            "uritemplate==3.0.1\n",
            "urllib3==1.24.3\n",
            "vega-datasets==0.9.0\n",
            "wasabi==0.8.2\n",
            "wcwidth==0.2.5\n",
            "webencodings==0.5.1\n",
            "Werkzeug==1.0.1\n",
            "widgetsnbextension==3.5.1\n",
            "wordcloud==1.5.0\n",
            "wrapt==1.12.1\n",
            "xarray==0.18.2\n",
            "xgboost==0.90\n",
            "xkit==0.0.0\n",
            "xlrd==1.1.0\n",
            "xlwt==1.3.0\n",
            "yellowbrick==0.9.1\n",
            "zict==2.0.0\n",
            "zipp==3.6.0\n"
          ]
        }
      ]
    },
    {
      "cell_type": "code",
      "metadata": {
        "id": "dv7xOFMB1Ffq"
      },
      "source": [
        "pip freeze > requirements.txt"
      ],
      "execution_count": 11,
      "outputs": []
    }
  ]
}