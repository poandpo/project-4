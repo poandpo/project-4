{
  "nbformat": 4,
  "nbformat_minor": 0,
  "metadata": {
    "colab": {
      "name": "AI_06_임채은.ipynb",
      "provenance": [],
      "collapsed_sections": [],
      "authorship_tag": "ABX9TyPML++gL4AF8lR/20V4E+Cy",
      "include_colab_link": true
    },
    "kernelspec": {
      "display_name": "Python 3",
      "name": "python3"
    },
    "language_info": {
      "name": "python"
    },
    "accelerator": "GPU"
  },
  "cells": [
    {
      "cell_type": "markdown",
      "metadata": {
        "id": "view-in-github",
        "colab_type": "text"
      },
      "source": [
        "<a href=\"https://colab.research.google.com/github/poandpo/project-4/blob/main/AI_06_%EC%9E%84%EC%B1%84%EC%9D%80.ipynb\" target=\"_parent\"><img src=\"https://colab.research.google.com/assets/colab-badge.svg\" alt=\"Open In Colab\"/></a>"
      ]
    },
    {
      "cell_type": "markdown",
      "metadata": {
        "id": "aWu7eqn-AliF"
      },
      "source": [
        "# 데이터 \n"
      ]
    },
    {
      "cell_type": "code",
      "metadata": {
        "id": "04ohCvKXSyp9"
      },
      "source": [
        "# 데이터 불러오기\n",
        "import pandas as pd\n",
        "\n",
        "tr_path = 'https://raw.githubusercontent.com/poandpo/project-4/main/%EA%B0%90%EC%84%B1%EB%8C%80%ED%99%94%EB%A7%90%EB%AD%89%EC%B9%98(%EC%B5%9C%EC%A2%85%EB%8D%B0%EC%9D%B4%ED%84%B0)_Training.csv'\n",
        "te_path = 'https://raw.githubusercontent.com/poandpo/project-4/main/%EA%B0%90%EC%84%B1%EB%8C%80%ED%99%94%EB%A7%90%EB%AD%89%EC%B9%98_Validation.csv'\n",
        "train = pd.read_csv(tr_path, delimiter= ',')\n",
        "test = pd.read_csv(te_path, delimiter= ',')\n",
        "\n"
      ],
      "execution_count": 1,
      "outputs": []
    },
    {
      "cell_type": "code",
      "metadata": {
        "colab": {
          "base_uri": "https://localhost:8080/",
          "height": 585
        },
        "id": "ZowWmzyEg930",
        "outputId": "71ccc976-9976-4c79-883b-358eb4569614"
      },
      "source": [
        "# 데이터 확인\n",
        "print(train.shape)\n",
        "\n",
        "train.head(3)"
      ],
      "execution_count": null,
      "outputs": [
        {
          "name": "stdout",
          "output_type": "stream",
          "text": [
            "(40879, 15)\n"
          ]
        },
        {
          "data": {
            "text/html": [
              "<div>\n",
              "<style scoped>\n",
              "    .dataframe tbody tr th:only-of-type {\n",
              "        vertical-align: middle;\n",
              "    }\n",
              "\n",
              "    .dataframe tbody tr th {\n",
              "        vertical-align: top;\n",
              "    }\n",
              "\n",
              "    .dataframe thead th {\n",
              "        text-align: right;\n",
              "    }\n",
              "</style>\n",
              "<table border=\"1\" class=\"dataframe\">\n",
              "  <thead>\n",
              "    <tr style=\"text-align: right;\">\n",
              "      <th></th>\n",
              "      <th>번호</th>\n",
              "      <th>연령</th>\n",
              "      <th>성별</th>\n",
              "      <th>상황키워드</th>\n",
              "      <th>신체질환</th>\n",
              "      <th>감정_대분류</th>\n",
              "      <th>감정_소분류</th>\n",
              "      <th>사람문장1</th>\n",
              "      <th>시스템응답1</th>\n",
              "      <th>사람문장2</th>\n",
              "      <th>시스템응답2</th>\n",
              "      <th>사람문장3</th>\n",
              "      <th>시스템응답3</th>\n",
              "      <th>사람문장4</th>\n",
              "      <th>시스템응답4</th>\n",
              "    </tr>\n",
              "  </thead>\n",
              "  <tbody>\n",
              "    <tr>\n",
              "      <th>0</th>\n",
              "      <td>44164</td>\n",
              "      <td>청년</td>\n",
              "      <td>남성</td>\n",
              "      <td>연애, 결혼, 출산</td>\n",
              "      <td>해당없음</td>\n",
              "      <td>기쁨</td>\n",
              "      <td>신이 난</td>\n",
              "      <td>아내가 드디어 출산하게 되어서 정말 신이 나.</td>\n",
              "      <td>아내분이 출산을 하시는군요. 정말 축하드려요.</td>\n",
              "      <td>아 지금 정말 신이 나.</td>\n",
              "      <td>잘 된 일이네요.</td>\n",
              "      <td>아기가 점점 클게 벌써 기대가 되네. 내가 많이 놀아줘야지.</td>\n",
              "      <td>좋은 아빠가 되실 거 같아요. 진심으로 축하드려요.</td>\n",
              "      <td>NaN</td>\n",
              "      <td>NaN</td>\n",
              "    </tr>\n",
              "    <tr>\n",
              "      <th>1</th>\n",
              "      <td>3926</td>\n",
              "      <td>노년</td>\n",
              "      <td>남성</td>\n",
              "      <td>건강, 죽음</td>\n",
              "      <td>만성질환 유</td>\n",
              "      <td>불안</td>\n",
              "      <td>스트레스 받는</td>\n",
              "      <td>당뇨랑 합병증 때문에 먹어야 할 약이 열 가지가 넘어가니까 스트레스야.</td>\n",
              "      <td>약 종류가 많아 번거로우시겠어요.</td>\n",
              "      <td>건강할 때 관리 좀 잘할걸 하는 생각이 들더라고.</td>\n",
              "      <td>현재 상황에서 변화를 주기 위해 어떻게 하면 될까요?</td>\n",
              "      <td>약을 잘 챙겨 먹고 나을 수 있도록 노력해야지.</td>\n",
              "      <td>약을 잘 챙겨 먹어 건강해지시길 바랄게요.</td>\n",
              "      <td>NaN</td>\n",
              "      <td>NaN</td>\n",
              "    </tr>\n",
              "    <tr>\n",
              "      <th>2</th>\n",
              "      <td>50882</td>\n",
              "      <td>청소년</td>\n",
              "      <td>여성</td>\n",
              "      <td>학업 및 진로</td>\n",
              "      <td>해당없음</td>\n",
              "      <td>당황</td>\n",
              "      <td>당황</td>\n",
              "      <td>고등학교에 올라오니 중학교 때보다 수업이 갑자기 어려워져서 당황스러워.</td>\n",
              "      <td>고등학교 수업이 중학교 때와는 다르게 갑자기 어려워서 당황스러우시군요.</td>\n",
              "      <td>아직 학기 초인데 내가 수업에 잘 따라갈 수 있을지 걱정돼.</td>\n",
              "      <td>이 상황에서 할 수 있는 게 어떤 것이 있을까요?</td>\n",
              "      <td>중학교 수업을 들을 때보다 훨씬 더 열심히 할 거야.</td>\n",
              "      <td>수업을 어떤 방식으로 열심히 듣는게 좋을까요?</td>\n",
              "      <td>선생님이 강조하신 부분을 필기하고 집에서 매일 수업 내용을 복습하려고 해.</td>\n",
              "      <td>열심히 해서 좋은 결과가 있었으면 좋겠어요.</td>\n",
              "    </tr>\n",
              "  </tbody>\n",
              "</table>\n",
              "</div>"
            ],
            "text/plain": [
              "      번호  ...                    시스템응답4\n",
              "0  44164  ...                       NaN\n",
              "1   3926  ...                       NaN\n",
              "2  50882  ...  열심히 해서 좋은 결과가 있었으면 좋겠어요.\n",
              "\n",
              "[3 rows x 15 columns]"
            ]
          },
          "execution_count": 4,
          "metadata": {},
          "output_type": "execute_result"
        }
      ]
    },
    {
      "cell_type": "code",
      "metadata": {
        "colab": {
          "base_uri": "https://localhost:8080/",
          "height": 534
        },
        "id": "0nx7XSiguyLZ",
        "outputId": "a77b957c-190a-4fb1-c9d7-809ffd4e2107"
      },
      "source": [
        "# 데이터 확인\n",
        "print(test.shape)\n",
        "\n",
        "test.head(3)"
      ],
      "execution_count": null,
      "outputs": [
        {
          "name": "stdout",
          "output_type": "stream",
          "text": [
            "(5130, 15)\n"
          ]
        },
        {
          "data": {
            "text/html": [
              "<div>\n",
              "<style scoped>\n",
              "    .dataframe tbody tr th:only-of-type {\n",
              "        vertical-align: middle;\n",
              "    }\n",
              "\n",
              "    .dataframe tbody tr th {\n",
              "        vertical-align: top;\n",
              "    }\n",
              "\n",
              "    .dataframe thead th {\n",
              "        text-align: right;\n",
              "    }\n",
              "</style>\n",
              "<table border=\"1\" class=\"dataframe\">\n",
              "  <thead>\n",
              "    <tr style=\"text-align: right;\">\n",
              "      <th></th>\n",
              "      <th>번호</th>\n",
              "      <th>연령</th>\n",
              "      <th>성별</th>\n",
              "      <th>상황키워드</th>\n",
              "      <th>신체질환</th>\n",
              "      <th>감정_대분류</th>\n",
              "      <th>감정_소분류</th>\n",
              "      <th>사람문장1</th>\n",
              "      <th>시스템응답1</th>\n",
              "      <th>사람문장2</th>\n",
              "      <th>시스템응답2</th>\n",
              "      <th>사람문장3</th>\n",
              "      <th>시스템응답3</th>\n",
              "      <th>사람문장4</th>\n",
              "      <th>시스템응답4</th>\n",
              "    </tr>\n",
              "  </thead>\n",
              "  <tbody>\n",
              "    <tr>\n",
              "      <th>0</th>\n",
              "      <td>23093</td>\n",
              "      <td>청년</td>\n",
              "      <td>여성</td>\n",
              "      <td>진로, 취업, 직장</td>\n",
              "      <td>해당없음</td>\n",
              "      <td>분노</td>\n",
              "      <td>툴툴대는</td>\n",
              "      <td>요즘 부모님과 많이 부딪혀.</td>\n",
              "      <td>어떤 일로 부딪히시나요?</td>\n",
              "      <td>난 하고 싶은 일이 있는데 부모님은 안정적인 일만 하라고 하셔. 내 마음대로 하지도...</td>\n",
              "      <td>부모님과의 충돌로 힘드시겠군요.</td>\n",
              "      <td>응. 그래도 난 내가 하고 싶은 일을 위해 노력할 거야.</td>\n",
              "      <td>자신이 하고 싶은 일을 목표로 하기로 하셨군요.</td>\n",
              "      <td>NaN</td>\n",
              "      <td>NaN</td>\n",
              "    </tr>\n",
              "    <tr>\n",
              "      <th>1</th>\n",
              "      <td>32848</td>\n",
              "      <td>청소년</td>\n",
              "      <td>남성</td>\n",
              "      <td>가족관계</td>\n",
              "      <td>해당없음</td>\n",
              "      <td>슬픔</td>\n",
              "      <td>비통한</td>\n",
              "      <td>엄마가 결국 집을 나갔어. 너무 너무 슬퍼.</td>\n",
              "      <td>어머니께서 집을 나가셨다니 정말 슬프셨겠어요. 좀 더 자세히 얘기해주시겠어요?</td>\n",
              "      <td>엄마도 엄마만의 인생이 있을 테니 가지 말라고 할 수가 없었어. 그래서 더 마음이 ...</td>\n",
              "      <td>정말 많이 답답하셨겠어요. 어떻게 하는 게 기분이 좀 풀릴까요?</td>\n",
              "      <td>일단 좀 자야겠어.</td>\n",
              "      <td>일단 휴식을 가질 생각이시군요.</td>\n",
              "      <td>NaN</td>\n",
              "      <td>NaN</td>\n",
              "    </tr>\n",
              "    <tr>\n",
              "      <th>2</th>\n",
              "      <td>35590</td>\n",
              "      <td>청소년</td>\n",
              "      <td>남성</td>\n",
              "      <td>학교폭력/따돌림</td>\n",
              "      <td>해당없음</td>\n",
              "      <td>불안</td>\n",
              "      <td>조심스러운</td>\n",
              "      <td>학교에서 한 친구를 괴롭히는 무리에게 그만하라고 했어.</td>\n",
              "      <td>용기 있는 행동을 하셨네요. 마음이 어떠셨나요?</td>\n",
              "      <td>그런데 말을 하고 난 후 나도 괴롭힐까 봐 불안했어.</td>\n",
              "      <td>그랬군요. 지금 기분에서 벗어나기 위해 할 수 있는 일에는 무엇이 있을까요?</td>\n",
              "      <td>나는 옳은 일을 한 거라고 생각해. 나까지 괴롭힌다면 신고할 거야.</td>\n",
              "      <td>지금의 상황이 나의 방식으로써 잘 해결될 수 있기를 바라요.</td>\n",
              "      <td>NaN</td>\n",
              "      <td>NaN</td>\n",
              "    </tr>\n",
              "  </tbody>\n",
              "</table>\n",
              "</div>"
            ],
            "text/plain": [
              "      번호   연령  성별  ...                             시스템응답3 사람문장4 시스템응답4\n",
              "0  23093   청년  여성  ...         자신이 하고 싶은 일을 목표로 하기로 하셨군요.   NaN    NaN\n",
              "1  32848  청소년  남성  ...                  일단 휴식을 가질 생각이시군요.   NaN    NaN\n",
              "2  35590  청소년  남성  ...  지금의 상황이 나의 방식으로써 잘 해결될 수 있기를 바라요.   NaN    NaN\n",
              "\n",
              "[3 rows x 15 columns]"
            ]
          },
          "execution_count": 5,
          "metadata": {},
          "output_type": "execute_result"
        }
      ]
    },
    {
      "cell_type": "code",
      "metadata": {
        "colab": {
          "base_uri": "https://localhost:8080/"
        },
        "id": "6TtSdbphe5RV",
        "outputId": "a7b54da1-6ef1-4e81-d56e-47790efb59f0"
      },
      "source": [
        "train.info()"
      ],
      "execution_count": null,
      "outputs": [
        {
          "name": "stdout",
          "output_type": "stream",
          "text": [
            "<class 'pandas.core.frame.DataFrame'>\n",
            "RangeIndex: 40879 entries, 0 to 40878\n",
            "Data columns (total 15 columns):\n",
            " #   Column  Non-Null Count  Dtype \n",
            "---  ------  --------------  ----- \n",
            " 0   번호      40879 non-null  int64 \n",
            " 1   연령      40879 non-null  object\n",
            " 2   성별      40879 non-null  object\n",
            " 3   상황키워드   40879 non-null  object\n",
            " 4   신체질환    40879 non-null  object\n",
            " 5   감정_대분류  40879 non-null  object\n",
            " 6   감정_소분류  40879 non-null  object\n",
            " 7   사람문장1   40879 non-null  object\n",
            " 8   시스템응답1  40879 non-null  object\n",
            " 9   사람문장2   40879 non-null  object\n",
            " 10  시스템응답2  40879 non-null  object\n",
            " 11  사람문장3   31059 non-null  object\n",
            " 12  시스템응답3  31059 non-null  object\n",
            " 13  사람문장4   1472 non-null   object\n",
            " 14  시스템응답4  1362 non-null   object\n",
            "dtypes: int64(1), object(14)\n",
            "memory usage: 4.7+ MB\n"
          ]
        }
      ]
    },
    {
      "cell_type": "code",
      "metadata": {
        "colab": {
          "base_uri": "https://localhost:8080/"
        },
        "id": "urd8C5Hoe_QQ",
        "outputId": "6a638d36-fd5e-4ad5-cfcc-c90ec9b47cef"
      },
      "source": [
        "test.info()"
      ],
      "execution_count": null,
      "outputs": [
        {
          "name": "stdout",
          "output_type": "stream",
          "text": [
            "<class 'pandas.core.frame.DataFrame'>\n",
            "RangeIndex: 5130 entries, 0 to 5129\n",
            "Data columns (total 15 columns):\n",
            " #   Column  Non-Null Count  Dtype \n",
            "---  ------  --------------  ----- \n",
            " 0   번호      5130 non-null   int64 \n",
            " 1   연령      5130 non-null   object\n",
            " 2   성별      5130 non-null   object\n",
            " 3   상황키워드   5130 non-null   object\n",
            " 4   신체질환    5130 non-null   object\n",
            " 5   감정_대분류  5130 non-null   object\n",
            " 6   감정_소분류  5130 non-null   object\n",
            " 7   사람문장1   5130 non-null   object\n",
            " 8   시스템응답1  5130 non-null   object\n",
            " 9   사람문장2   5130 non-null   object\n",
            " 10  시스템응답2  5130 non-null   object\n",
            " 11  사람문장3   3874 non-null   object\n",
            " 12  시스템응답3  3874 non-null   object\n",
            " 13  사람문장4   151 non-null    object\n",
            " 14  시스템응답4  136 non-null    object\n",
            "dtypes: int64(1), object(14)\n",
            "memory usage: 601.3+ KB\n"
          ]
        }
      ]
    },
    {
      "cell_type": "markdown",
      "metadata": {
        "id": "cgS6BKS2bzLA"
      },
      "source": [
        "## 데이터 선정 이유\n",
        "\n"
      ]
    },
    {
      "cell_type": "markdown",
      "metadata": {
        "id": "eXZ-28Iqb5Em"
      },
      "source": [
        "위 데이터는 한국어로 되어있는 세대별 감성 텍스트 데이터입니다.\n",
        "\n",
        "저는 트로스트, 아토머스 기업 같이 심리상담 챗봇 서비스에 관심이 있고, 챗봇을 통해서 사람들의 우울증 유무를 파악하고 관련된 치료나 병원등으로 연결해 주는 일에 관심이 있기 때문에 위 데이터를 사용했으며, 주로 한국어를 사용하는 기업에 관심이 있기에 한글 데이터를 선정하였습니다"
      ]
    },
    {
      "cell_type": "markdown",
      "metadata": {
        "id": "rHd9t3qbelDr"
      },
      "source": [
        "## 데이터 가설"
      ]
    },
    {
      "cell_type": "markdown",
      "metadata": {
        "id": "U25XsdFoenjo"
      },
      "source": [
        "\n",
        "\n",
        "1.   항목 추가\n",
        "2.   항목 추가\n",
        "\n"
      ]
    },
    {
      "cell_type": "markdown",
      "metadata": {
        "id": "F3nhFq-ibWZY"
      },
      "source": [
        "\n",
        "\n",
        "# 데이터 전처리"
      ]
    },
    {
      "cell_type": "markdown",
      "metadata": {
        "id": "j8jo-Q_X198O"
      },
      "source": [
        "## 데이터 전처리 1(문장제외)"
      ]
    },
    {
      "cell_type": "code",
      "metadata": {
        "colab": {
          "base_uri": "https://localhost:8080/",
          "height": 182
        },
        "id": "FLP183gPhaN9",
        "outputId": "f50a14bf-c31b-4f1b-e399-f3f83a6b5da0"
      },
      "source": [
        "train.head(1)"
      ],
      "execution_count": null,
      "outputs": [
        {
          "data": {
            "text/html": [
              "<div>\n",
              "<style scoped>\n",
              "    .dataframe tbody tr th:only-of-type {\n",
              "        vertical-align: middle;\n",
              "    }\n",
              "\n",
              "    .dataframe tbody tr th {\n",
              "        vertical-align: top;\n",
              "    }\n",
              "\n",
              "    .dataframe thead th {\n",
              "        text-align: right;\n",
              "    }\n",
              "</style>\n",
              "<table border=\"1\" class=\"dataframe\">\n",
              "  <thead>\n",
              "    <tr style=\"text-align: right;\">\n",
              "      <th></th>\n",
              "      <th>번호</th>\n",
              "      <th>연령</th>\n",
              "      <th>성별</th>\n",
              "      <th>상황키워드</th>\n",
              "      <th>신체질환</th>\n",
              "      <th>감정_대분류</th>\n",
              "      <th>감정_소분류</th>\n",
              "      <th>사람문장1</th>\n",
              "      <th>시스템응답1</th>\n",
              "      <th>사람문장2</th>\n",
              "      <th>시스템응답2</th>\n",
              "      <th>사람문장3</th>\n",
              "      <th>시스템응답3</th>\n",
              "      <th>사람문장4</th>\n",
              "      <th>시스템응답4</th>\n",
              "    </tr>\n",
              "  </thead>\n",
              "  <tbody>\n",
              "    <tr>\n",
              "      <th>0</th>\n",
              "      <td>44164</td>\n",
              "      <td>청년</td>\n",
              "      <td>남성</td>\n",
              "      <td>연애, 결혼, 출산</td>\n",
              "      <td>해당없음</td>\n",
              "      <td>기쁨</td>\n",
              "      <td>신이 난</td>\n",
              "      <td>아내가 드디어 출산하게 되어서 정말 신이 나.</td>\n",
              "      <td>아내분이 출산을 하시는군요. 정말 축하드려요.</td>\n",
              "      <td>아 지금 정말 신이 나.</td>\n",
              "      <td>잘 된 일이네요.</td>\n",
              "      <td>아기가 점점 클게 벌써 기대가 되네. 내가 많이 놀아줘야지.</td>\n",
              "      <td>좋은 아빠가 되실 거 같아요. 진심으로 축하드려요.</td>\n",
              "      <td>NaN</td>\n",
              "      <td>NaN</td>\n",
              "    </tr>\n",
              "  </tbody>\n",
              "</table>\n",
              "</div>"
            ],
            "text/plain": [
              "      번호  연령  성별  ...                        시스템응답3 사람문장4 시스템응답4\n",
              "0  44164  청년  남성  ...  좋은 아빠가 되실 거 같아요. 진심으로 축하드려요.   NaN    NaN\n",
              "\n",
              "[1 rows x 15 columns]"
            ]
          },
          "execution_count": 10,
          "metadata": {},
          "output_type": "execute_result"
        }
      ]
    },
    {
      "cell_type": "code",
      "metadata": {
        "colab": {
          "base_uri": "https://localhost:8080/"
        },
        "id": "2_3Isr4ehDRc",
        "outputId": "049444d1-8ecc-4898-9661-bd016815427e"
      },
      "source": [
        "# 고유값 확인\n",
        "age= train['연령'].unique() \n",
        "state=train['상황키워드'].unique() \n",
        "disease = train['신체질환'].unique()\n",
        "emotion_1 =train['감정_대분류'].unique() \n",
        "emotion_2 =train['감정_소분류'].unique() \n",
        "\n",
        "print(f\"연령 고유값:{age}\", '\\n')\n",
        "print(f\"상황키워드 고유값:{state}\", '\\n')\n",
        "print(f\"질환 고유값:{disease}\", '\\n')\n",
        "print(f\"감정_대분류 고유값:{emotion_1}\", '\\n')\n",
        "print(f\"감정_소분류 고유값:{emotion_2}\", '\\n')"
      ],
      "execution_count": null,
      "outputs": [
        {
          "output_type": "stream",
          "name": "stdout",
          "text": [
            "연령 고유값:['청년' '노년' '청소년' '중년'] \n",
            "\n",
            "상황키워드 고유값:['연애, 결혼, 출산' '건강, 죽음' '학업 및 진로' '재정' '재정, 은퇴, 노후준비' '건강' '학교폭력/따돌림'\n",
            " '대인관계' '진로, 취업, 직장' '가족관계' '직장, 업무 스트레스' '대인관계(부부, 자녀)'] \n",
            "\n",
            "질환 고유값:['해당없음' '만성질환 유' '만성질환 무'] \n",
            "\n",
            "감정_대분류 고유값:['기쁨' '불안' '당황' '슬픔' '분노' '상처' '불안 ' '기쁨 '] \n",
            "\n",
            "감정_소분류 고유값:['신이 난' '스트레스 받는' '당황' '안도' '취약한' '우울한' '구역질 나는' '좌절한' '눈물이 나는' '배신당한'\n",
            " '남의 시선을 의식하는' '죄책감의' '당혹스러운' '분노' '두려운' '낙담한' '회의적인' '마비된' '혼란스러운' '흥분'\n",
            " '한심한' '염세적인' '안달하는' '걱정스러운' '조심스러운' '충격 받은' '상처' '불안' '노여워하는' '기쁨' '짜증내는'\n",
            " '환멸을 느끼는' '비통한' '혐오스러운' '억울한' '만족스러운' '부끄러운' '버려진' '고립된' '괴로워하는' '자신하는'\n",
            " '외로운' '방어적인' '편안한' '질투하는' '감사하는' '초조한' '실망한' '슬픔' '신뢰하는' '가난한, 불우한'\n",
            " '후회되는' '툴툴대는' '성가신' '열등감' '희생된' '느긋' '악의적인'] \n",
            "\n"
          ]
        }
      ]
    },
    {
      "cell_type": "code",
      "metadata": {
        "id": "PpsEafr7bWCN"
      },
      "source": [
        "def clean_data(df):\n",
        "   # 필요없는 columns 제거 \n",
        "   df.drop(labels=['번호','감정_소분류','시스템응답1','시스템응답2', '시스템응답3', '사람문장4','시스템응답4'], axis = 1, inplace=True)\n",
        "\n",
        "   # 컬럼명 변경\n",
        "   df.rename(columns={'감정_대분류':'감정', '상황키워드':'상황','사람문장1':'문장1','사람문장2':'문장2', '사람문장3':'문장3'},inplace=True )  \n",
        " \n",
        "   # 결측치 삭제\n",
        "   df.dropna(how = 'any', inplace = True)\n",
        "\n",
        "def encoder_data(df):\n",
        "   # 범주형 데이터를 정수로 맵핑\n",
        "   df['연령']= df['연령'].map({'청소년': 0,'청년': 1, '중년':2, '노년':3})\n",
        "   df['성별']= df['성별'].map({'남성': 0,'여성': 1})\n",
        "   df['상황']= df['상황'].map({'연애, 결혼, 출산': 0,'건강, 죽음': 1, '건강':1,'재정': 2,'재정, 은퇴, 노후준비': 2, '학교폭력/따돌림':3,'대인관계': 4, '진로, 취업, 직장': 5, '학업 및 진로':5,'직장, 업무 스트레스':5,'가족관계': 6,'대인관계(부부, 자녀)': 6})\n",
        "   df['신체질환']= df['신체질환'].map({'해당없음': 0,'만성질환 무': 1, '만성질환 유':2})\n",
        "   df['감정']= df['감정'].map({'기쁨': 0,'기쁨 ': 0, '불안':1, '불안 ':1, '당황': 2, '슬픔':3, '분노':4, '상처': 5})\n",
        "\n",
        "clean_data(train) \n",
        "clean_data(test)  \n",
        "\n",
        "encoder_data(train)\n",
        "encoder_data(test)"
      ],
      "execution_count": 2,
      "outputs": []
    },
    {
      "cell_type": "code",
      "metadata": {
        "colab": {
          "base_uri": "https://localhost:8080/"
        },
        "id": "r7NPxgS-XwuA",
        "outputId": "a66120b8-549e-4d27-9c42-01483c51def9"
      },
      "source": [
        "# 중복 있는지 체크\n",
        "train.T.duplicated(subset=None, keep='first')"
      ],
      "execution_count": 3,
      "outputs": [
        {
          "output_type": "execute_result",
          "data": {
            "text/plain": [
              "연령      False\n",
              "성별      False\n",
              "상황      False\n",
              "신체질환    False\n",
              "감정      False\n",
              "문장1     False\n",
              "문장2     False\n",
              "문장3     False\n",
              "dtype: bool"
            ]
          },
          "metadata": {},
          "execution_count": 3
        }
      ]
    },
    {
      "cell_type": "code",
      "metadata": {
        "colab": {
          "base_uri": "https://localhost:8080/"
        },
        "id": "tL3mt9n9X3Gx",
        "outputId": "49561afd-3b47-4ee0-e511-2402721c5715"
      },
      "source": [
        "test.T.duplicated(subset=None, keep='first')"
      ],
      "execution_count": 10,
      "outputs": [
        {
          "output_type": "execute_result",
          "data": {
            "text/plain": [
              "연령      False\n",
              "성별      False\n",
              "상황      False\n",
              "신체질환    False\n",
              "감정      False\n",
              "문장1     False\n",
              "문장2     False\n",
              "문장3     False\n",
              "dtype: bool"
            ]
          },
          "metadata": {},
          "execution_count": 10
        }
      ]
    },
    {
      "cell_type": "code",
      "metadata": {
        "colab": {
          "base_uri": "https://localhost:8080/",
          "height": 306
        },
        "id": "ULnpKYKbv-5W",
        "outputId": "fe2f3ded-d3ab-455c-d12c-f1be63775e40"
      },
      "source": [
        "train.head()"
      ],
      "execution_count": 3,
      "outputs": [
        {
          "output_type": "execute_result",
          "data": {
            "text/html": [
              "<div>\n",
              "<style scoped>\n",
              "    .dataframe tbody tr th:only-of-type {\n",
              "        vertical-align: middle;\n",
              "    }\n",
              "\n",
              "    .dataframe tbody tr th {\n",
              "        vertical-align: top;\n",
              "    }\n",
              "\n",
              "    .dataframe thead th {\n",
              "        text-align: right;\n",
              "    }\n",
              "</style>\n",
              "<table border=\"1\" class=\"dataframe\">\n",
              "  <thead>\n",
              "    <tr style=\"text-align: right;\">\n",
              "      <th></th>\n",
              "      <th>연령</th>\n",
              "      <th>성별</th>\n",
              "      <th>상황</th>\n",
              "      <th>신체질환</th>\n",
              "      <th>감정</th>\n",
              "      <th>문장1</th>\n",
              "      <th>문장2</th>\n",
              "      <th>문장3</th>\n",
              "    </tr>\n",
              "  </thead>\n",
              "  <tbody>\n",
              "    <tr>\n",
              "      <th>0</th>\n",
              "      <td>1</td>\n",
              "      <td>0</td>\n",
              "      <td>0</td>\n",
              "      <td>0</td>\n",
              "      <td>0</td>\n",
              "      <td>아내가 드디어 출산하게 되어서 정말 신이 나.</td>\n",
              "      <td>아 지금 정말 신이 나.</td>\n",
              "      <td>아기가 점점 클게 벌써 기대가 되네. 내가 많이 놀아줘야지.</td>\n",
              "    </tr>\n",
              "    <tr>\n",
              "      <th>1</th>\n",
              "      <td>3</td>\n",
              "      <td>0</td>\n",
              "      <td>1</td>\n",
              "      <td>2</td>\n",
              "      <td>1</td>\n",
              "      <td>당뇨랑 합병증 때문에 먹어야 할 약이 열 가지가 넘어가니까 스트레스야.</td>\n",
              "      <td>건강할 때 관리 좀 잘할걸 하는 생각이 들더라고.</td>\n",
              "      <td>약을 잘 챙겨 먹고 나을 수 있도록 노력해야지.</td>\n",
              "    </tr>\n",
              "    <tr>\n",
              "      <th>2</th>\n",
              "      <td>0</td>\n",
              "      <td>1</td>\n",
              "      <td>5</td>\n",
              "      <td>0</td>\n",
              "      <td>2</td>\n",
              "      <td>고등학교에 올라오니 중학교 때보다 수업이 갑자기 어려워져서 당황스러워.</td>\n",
              "      <td>아직 학기 초인데 내가 수업에 잘 따라갈 수 있을지 걱정돼.</td>\n",
              "      <td>중학교 수업을 들을 때보다 훨씬 더 열심히 할 거야.</td>\n",
              "    </tr>\n",
              "    <tr>\n",
              "      <th>3</th>\n",
              "      <td>3</td>\n",
              "      <td>0</td>\n",
              "      <td>2</td>\n",
              "      <td>1</td>\n",
              "      <td>0</td>\n",
              "      <td>재취업이 돼서 받게 된 첫 월급으로 온 가족이 외식을 할 예정이야. 너무 행복해.</td>\n",
              "      <td>퇴직 후 다시는 돈을 못 벌 줄 알았는데 이렇게 월급으로 가족에게 맛있는 밥을 살 ...</td>\n",
              "      <td>회사생활을 열심히 해서 계속 월급을 받을거야!</td>\n",
              "    </tr>\n",
              "    <tr>\n",
              "      <th>5</th>\n",
              "      <td>2</td>\n",
              "      <td>1</td>\n",
              "      <td>2</td>\n",
              "      <td>0</td>\n",
              "      <td>1</td>\n",
              "      <td>이제 곧 은퇴할 시기가 되었어. 내가 먼저 은퇴를 하고 육 개월 후에 남편도 은퇴를...</td>\n",
              "      <td>둘이서 같이 뭘 해본 적이 없거든. 앞으로 백 세시대라고 하는데 어떻게 지내야 할지...</td>\n",
              "      <td>함께 등산이나 여행을 갔으면 좋겠어.</td>\n",
              "    </tr>\n",
              "  </tbody>\n",
              "</table>\n",
              "</div>"
            ],
            "text/plain": [
              "   연령  ...                                 문장3\n",
              "0   1  ...  아기가 점점 클게 벌써 기대가 되네. 내가 많이 놀아줘야지. \n",
              "1   3  ...          약을 잘 챙겨 먹고 나을 수 있도록 노력해야지.\n",
              "2   0  ...       중학교 수업을 들을 때보다 훨씬 더 열심히 할 거야.\n",
              "3   3  ...           회사생활을 열심히 해서 계속 월급을 받을거야!\n",
              "5   2  ...                함께 등산이나 여행을 갔으면 좋겠어.\n",
              "\n",
              "[5 rows x 8 columns]"
            ]
          },
          "metadata": {},
          "execution_count": 3
        }
      ]
    },
    {
      "cell_type": "code",
      "metadata": {
        "colab": {
          "base_uri": "https://localhost:8080/",
          "height": 357
        },
        "id": "EMCskDfb16eZ",
        "outputId": "91992e3e-6fe1-4d1d-baeb-53047d26f594"
      },
      "source": [
        "test.head()"
      ],
      "execution_count": 4,
      "outputs": [
        {
          "output_type": "execute_result",
          "data": {
            "text/html": [
              "<div>\n",
              "<style scoped>\n",
              "    .dataframe tbody tr th:only-of-type {\n",
              "        vertical-align: middle;\n",
              "    }\n",
              "\n",
              "    .dataframe tbody tr th {\n",
              "        vertical-align: top;\n",
              "    }\n",
              "\n",
              "    .dataframe thead th {\n",
              "        text-align: right;\n",
              "    }\n",
              "</style>\n",
              "<table border=\"1\" class=\"dataframe\">\n",
              "  <thead>\n",
              "    <tr style=\"text-align: right;\">\n",
              "      <th></th>\n",
              "      <th>연령</th>\n",
              "      <th>성별</th>\n",
              "      <th>상황</th>\n",
              "      <th>신체질환</th>\n",
              "      <th>감정</th>\n",
              "      <th>문장1</th>\n",
              "      <th>문장2</th>\n",
              "      <th>문장3</th>\n",
              "    </tr>\n",
              "  </thead>\n",
              "  <tbody>\n",
              "    <tr>\n",
              "      <th>0</th>\n",
              "      <td>1</td>\n",
              "      <td>1</td>\n",
              "      <td>5</td>\n",
              "      <td>0</td>\n",
              "      <td>4</td>\n",
              "      <td>요즘 부모님과 많이 부딪혀.</td>\n",
              "      <td>난 하고 싶은 일이 있는데 부모님은 안정적인 일만 하라고 하셔. 내 마음대로 하지도...</td>\n",
              "      <td>응. 그래도 난 내가 하고 싶은 일을 위해 노력할 거야.</td>\n",
              "    </tr>\n",
              "    <tr>\n",
              "      <th>1</th>\n",
              "      <td>0</td>\n",
              "      <td>0</td>\n",
              "      <td>6</td>\n",
              "      <td>0</td>\n",
              "      <td>3</td>\n",
              "      <td>엄마가 결국 집을 나갔어. 너무 너무 슬퍼.</td>\n",
              "      <td>엄마도 엄마만의 인생이 있을 테니 가지 말라고 할 수가 없었어. 그래서 더 마음이 ...</td>\n",
              "      <td>일단 좀 자야겠어.</td>\n",
              "    </tr>\n",
              "    <tr>\n",
              "      <th>2</th>\n",
              "      <td>0</td>\n",
              "      <td>0</td>\n",
              "      <td>3</td>\n",
              "      <td>0</td>\n",
              "      <td>1</td>\n",
              "      <td>학교에서 한 친구를 괴롭히는 무리에게 그만하라고 했어.</td>\n",
              "      <td>그런데 말을 하고 난 후 나도 괴롭힐까 봐 불안했어.</td>\n",
              "      <td>나는 옳은 일을 한 거라고 생각해. 나까지 괴롭힌다면 신고할 거야.</td>\n",
              "    </tr>\n",
              "    <tr>\n",
              "      <th>3</th>\n",
              "      <td>1</td>\n",
              "      <td>0</td>\n",
              "      <td>5</td>\n",
              "      <td>0</td>\n",
              "      <td>2</td>\n",
              "      <td>이번에 팀장님이 간단한 조사 업무를 부탁하셨는데 내가 잘못 처리했어. 너무 절망적이야.</td>\n",
              "      <td>곧 있으면 인턴에서 정규직 전환 평가가 있는데 안 좋을 것 같아.</td>\n",
              "      <td>우선 잘못된 부분을 솔직하게 말씀드리고 수정하기 위해서 최선을 다해봐야겠어.</td>\n",
              "    </tr>\n",
              "    <tr>\n",
              "      <th>4</th>\n",
              "      <td>2</td>\n",
              "      <td>1</td>\n",
              "      <td>2</td>\n",
              "      <td>0</td>\n",
              "      <td>4</td>\n",
              "      <td>남편이 이혼할 때 위자료를 주지 않으려고 변호사를 고용했어.</td>\n",
              "      <td>어떻게 그럴 수가 있지? 너무 화가 나.</td>\n",
              "      <td>나도 변호사를 고용해서 한번 얘기해보려고 해.</td>\n",
              "    </tr>\n",
              "  </tbody>\n",
              "</table>\n",
              "</div>"
            ],
            "text/plain": [
              "   연령  ...                                         문장3\n",
              "0   1  ...             응. 그래도 난 내가 하고 싶은 일을 위해 노력할 거야.\n",
              "1   0  ...                                  일단 좀 자야겠어.\n",
              "2   0  ...       나는 옳은 일을 한 거라고 생각해. 나까지 괴롭힌다면 신고할 거야.\n",
              "3   1  ...  우선 잘못된 부분을 솔직하게 말씀드리고 수정하기 위해서 최선을 다해봐야겠어.\n",
              "4   2  ...                   나도 변호사를 고용해서 한번 얘기해보려고 해.\n",
              "\n",
              "[5 rows x 8 columns]"
            ]
          },
          "metadata": {},
          "execution_count": 4
        }
      ]
    },
    {
      "cell_type": "code",
      "metadata": {
        "colab": {
          "base_uri": "https://localhost:8080/"
        },
        "id": "kA2iz633xNIe",
        "outputId": "0446b9bd-9e57-4422-cc74-b22244cb9534"
      },
      "source": [
        "train.info()"
      ],
      "execution_count": 5,
      "outputs": [
        {
          "output_type": "stream",
          "name": "stdout",
          "text": [
            "<class 'pandas.core.frame.DataFrame'>\n",
            "Int64Index: 31059 entries, 0 to 40878\n",
            "Data columns (total 8 columns):\n",
            " #   Column  Non-Null Count  Dtype \n",
            "---  ------  --------------  ----- \n",
            " 0   연령      31059 non-null  int64 \n",
            " 1   성별      31059 non-null  int64 \n",
            " 2   상황      31059 non-null  int64 \n",
            " 3   신체질환    31059 non-null  int64 \n",
            " 4   감정      31059 non-null  int64 \n",
            " 5   문장1     31059 non-null  object\n",
            " 6   문장2     31059 non-null  object\n",
            " 7   문장3     31059 non-null  object\n",
            "dtypes: int64(5), object(3)\n",
            "memory usage: 2.1+ MB\n"
          ]
        }
      ]
    },
    {
      "cell_type": "code",
      "metadata": {
        "colab": {
          "base_uri": "https://localhost:8080/"
        },
        "id": "T7Tm8ntd2Fmw",
        "outputId": "5c29f723-f593-47d4-d432-67caa7052be1"
      },
      "source": [
        "test.info()"
      ],
      "execution_count": 6,
      "outputs": [
        {
          "output_type": "stream",
          "name": "stdout",
          "text": [
            "<class 'pandas.core.frame.DataFrame'>\n",
            "Int64Index: 3874 entries, 0 to 5129\n",
            "Data columns (total 8 columns):\n",
            " #   Column  Non-Null Count  Dtype \n",
            "---  ------  --------------  ----- \n",
            " 0   연령      3874 non-null   int64 \n",
            " 1   성별      3874 non-null   int64 \n",
            " 2   상황      3874 non-null   int64 \n",
            " 3   신체질환    3874 non-null   int64 \n",
            " 4   감정      3874 non-null   int64 \n",
            " 5   문장1     3874 non-null   object\n",
            " 6   문장2     3874 non-null   object\n",
            " 7   문장3     3874 non-null   object\n",
            "dtypes: int64(5), object(3)\n",
            "memory usage: 272.4+ KB\n"
          ]
        }
      ]
    },
    {
      "cell_type": "markdown",
      "metadata": {
        "id": "E9E6HcEU2NkB"
      },
      "source": [
        "## 텍스트 전처리"
      ]
    },
    {
      "cell_type": "code",
      "metadata": {
        "colab": {
          "base_uri": "https://localhost:8080/"
        },
        "id": "qPh1vDZ85HJq",
        "outputId": "cba57573-54e3-472b-986c-0795d094951b"
      },
      "source": [
        "!pip install konlpy"
      ],
      "execution_count": 3,
      "outputs": [
        {
          "output_type": "stream",
          "name": "stdout",
          "text": [
            "Requirement already satisfied: konlpy in /usr/local/lib/python3.7/dist-packages (0.5.2)\n",
            "Requirement already satisfied: tweepy>=3.7.0 in /usr/local/lib/python3.7/dist-packages (from konlpy) (3.10.0)\n",
            "Requirement already satisfied: lxml>=4.1.0 in /usr/local/lib/python3.7/dist-packages (from konlpy) (4.2.6)\n",
            "Requirement already satisfied: numpy>=1.6 in /usr/local/lib/python3.7/dist-packages (from konlpy) (1.19.5)\n",
            "Requirement already satisfied: colorama in /usr/local/lib/python3.7/dist-packages (from konlpy) (0.4.4)\n",
            "Requirement already satisfied: beautifulsoup4==4.6.0 in /usr/local/lib/python3.7/dist-packages (from konlpy) (4.6.0)\n",
            "Requirement already satisfied: JPype1>=0.7.0 in /usr/local/lib/python3.7/dist-packages (from konlpy) (1.3.0)\n",
            "Requirement already satisfied: typing-extensions in /usr/local/lib/python3.7/dist-packages (from JPype1>=0.7.0->konlpy) (3.7.4.3)\n",
            "Requirement already satisfied: six>=1.10.0 in /usr/local/lib/python3.7/dist-packages (from tweepy>=3.7.0->konlpy) (1.15.0)\n",
            "Requirement already satisfied: requests[socks]>=2.11.1 in /usr/local/lib/python3.7/dist-packages (from tweepy>=3.7.0->konlpy) (2.23.0)\n",
            "Requirement already satisfied: requests-oauthlib>=0.7.0 in /usr/local/lib/python3.7/dist-packages (from tweepy>=3.7.0->konlpy) (1.3.0)\n",
            "Requirement already satisfied: oauthlib>=3.0.0 in /usr/local/lib/python3.7/dist-packages (from requests-oauthlib>=0.7.0->tweepy>=3.7.0->konlpy) (3.1.1)\n",
            "Requirement already satisfied: urllib3!=1.25.0,!=1.25.1,<1.26,>=1.21.1 in /usr/local/lib/python3.7/dist-packages (from requests[socks]>=2.11.1->tweepy>=3.7.0->konlpy) (1.24.3)\n",
            "Requirement already satisfied: chardet<4,>=3.0.2 in /usr/local/lib/python3.7/dist-packages (from requests[socks]>=2.11.1->tweepy>=3.7.0->konlpy) (3.0.4)\n",
            "Requirement already satisfied: idna<3,>=2.5 in /usr/local/lib/python3.7/dist-packages (from requests[socks]>=2.11.1->tweepy>=3.7.0->konlpy) (2.10)\n",
            "Requirement already satisfied: certifi>=2017.4.17 in /usr/local/lib/python3.7/dist-packages (from requests[socks]>=2.11.1->tweepy>=3.7.0->konlpy) (2021.5.30)\n",
            "Requirement already satisfied: PySocks!=1.5.7,>=1.5.6 in /usr/local/lib/python3.7/dist-packages (from requests[socks]>=2.11.1->tweepy>=3.7.0->konlpy) (1.7.1)\n"
          ]
        }
      ]
    },
    {
      "cell_type": "code",
      "metadata": {
        "id": "QOPN0f54e7iw"
      },
      "source": [
        "import re\n",
        "from konlpy.tag import Okt\n",
        "from tqdm import tqdm\n",
        "from tensorflow.keras.preprocessing.text import Tokenizer\n",
        "from tensorflow.keras.preprocessing.sequence import pad_sequences"
      ],
      "execution_count": 4,
      "outputs": []
    },
    {
      "cell_type": "code",
      "metadata": {
        "id": "0BzmOzr8YonW"
      },
      "source": [
        "# 한글과 공백을 제외하고 모두 제거\n",
        "def clean_text(df):\n",
        "  df['문장1'] = df['문장1'].str.replace(\"[^ㄱ-ㅎㅏ-ㅣ가-힣 ]\",\"\")\n",
        "  df['문장2'] = df['문장2'].str.replace(\"[^ㄱ-ㅎㅏ-ㅣ가-힣 ]\",\"\")\n",
        "  df['문장3'] = df['문장3'].str.replace(\"[^ㄱ-ㅎㅏ-ㅣ가-힣 ]\",\"\")\n",
        "\n",
        "clean_text(train)\n",
        "clean_text(test)"
      ],
      "execution_count": 5,
      "outputs": []
    },
    {
      "cell_type": "code",
      "metadata": {
        "colab": {
          "base_uri": "https://localhost:8080/"
        },
        "id": "oZ5BRB11iQ4L",
        "outputId": "43ba2b40-e020-4e67-e944-6220c41720eb"
      },
      "source": [
        "okt = Okt()\n",
        "stopwords = ['의','가','이','은','들','는','좀','잘','걍','과','도','를','으로','자','에','와','한','하다', '아', '야', '랑', '을']\n",
        "\n",
        "def tokenizer(df):\n",
        "  sentence1 = []\n",
        "  for sentence in tqdm(df['문장1']):\n",
        "      tokenized_sentence = okt.morphs(sentence, stem=True) # 토큰화\n",
        "      stopwords_removed_sentence = [word for word in tokenized_sentence if not word in stopwords] # 불용어 제거\n",
        "      sentence1.append(stopwords_removed_sentence)\n",
        "\n",
        "  sentence2 = []\n",
        "  for sentence in tqdm(df['문장2']):\n",
        "      tokenized_sentence = okt.morphs(sentence, stem=True) # 토큰화\n",
        "      stopwords_removed_sentence = [word for word in tokenized_sentence if not word in stopwords] # 불용어 제거\n",
        "      sentence2.append(stopwords_removed_sentence)\n",
        "\n",
        "  sentence3 = []\n",
        "  for sentence in tqdm(df['문장3']):\n",
        "      tokenized_sentence = okt.morphs(sentence, stem=True) # 토큰화\n",
        "      stopwords_removed_sentence = [word for word in tokenized_sentence if not word in stopwords] # 불용어 제거\n",
        "      sentence3.append(stopwords_removed_sentence)\n",
        "\n",
        "  df['문장1'] = sentence1\n",
        "  df['문장2'] = sentence2\n",
        "  df['문장3'] = sentence3\n",
        "\n",
        "tokenizer(train)\n",
        "tokenizer(test)"
      ],
      "execution_count": 6,
      "outputs": [
        {
          "output_type": "stream",
          "name": "stderr",
          "text": [
            "100%|██████████| 31059/31059 [01:02<00:00, 500.52it/s]\n",
            "100%|██████████| 31059/31059 [00:55<00:00, 554.91it/s]\n",
            "100%|██████████| 31059/31059 [00:57<00:00, 537.29it/s]\n",
            "100%|██████████| 3874/3874 [00:07<00:00, 536.35it/s]\n",
            "100%|██████████| 3874/3874 [00:07<00:00, 531.10it/s]\n",
            "100%|██████████| 3874/3874 [00:07<00:00, 513.36it/s]\n"
          ]
        }
      ]
    },
    {
      "cell_type": "code",
      "metadata": {
        "colab": {
          "base_uri": "https://localhost:8080/",
          "height": 210
        },
        "id": "hqYYEzNAtLdF",
        "outputId": "18fcac6a-928b-4c41-ddeb-b25ff501a2b9"
      },
      "source": [
        "train.tail(3)"
      ],
      "execution_count": 7,
      "outputs": [
        {
          "output_type": "execute_result",
          "data": {
            "text/html": [
              "<div>\n",
              "<style scoped>\n",
              "    .dataframe tbody tr th:only-of-type {\n",
              "        vertical-align: middle;\n",
              "    }\n",
              "\n",
              "    .dataframe tbody tr th {\n",
              "        vertical-align: top;\n",
              "    }\n",
              "\n",
              "    .dataframe thead th {\n",
              "        text-align: right;\n",
              "    }\n",
              "</style>\n",
              "<table border=\"1\" class=\"dataframe\">\n",
              "  <thead>\n",
              "    <tr style=\"text-align: right;\">\n",
              "      <th></th>\n",
              "      <th>연령</th>\n",
              "      <th>성별</th>\n",
              "      <th>상황</th>\n",
              "      <th>신체질환</th>\n",
              "      <th>감정</th>\n",
              "      <th>문장1</th>\n",
              "      <th>문장2</th>\n",
              "      <th>문장3</th>\n",
              "    </tr>\n",
              "  </thead>\n",
              "  <tbody>\n",
              "    <tr>\n",
              "      <th>40876</th>\n",
              "      <td>0</td>\n",
              "      <td>1</td>\n",
              "      <td>6</td>\n",
              "      <td>0</td>\n",
              "      <td>3</td>\n",
              "      <td>[엄마, 내, 꿈, 인, 작가, 응원, 주다, 지금, 안, 그렇다, 너무, 슬프다]</td>\n",
              "      <td>[내, 재능, 남, 보다, 월등하다, 거, 아니다, 취업, 안정, 적, 살다, 좋다]</td>\n",
              "      <td>[내, 다시, 내, 꿈, 어떻다, 이루다, 것, 인지, 자세하다, 설명, 드리다]</td>\n",
              "    </tr>\n",
              "    <tr>\n",
              "      <th>40877</th>\n",
              "      <td>3</td>\n",
              "      <td>1</td>\n",
              "      <td>2</td>\n",
              "      <td>1</td>\n",
              "      <td>0</td>\n",
              "      <td>[이렇게, 좋다, 운동, 시설, 에서, 경로, 우대, 로, 운동, 수, 있다, 차다...</td>\n",
              "      <td>[덕분, 건강, 챙기다, 수, 있다, 너무, 좋다, 안마, 기도, 있다, 내일, 운...</td>\n",
              "      <td>[운동, 뭉치다, 근육, 풀다, 것, 같다, 그렇다, 덜, 피로하다]</td>\n",
              "    </tr>\n",
              "    <tr>\n",
              "      <th>40878</th>\n",
              "      <td>1</td>\n",
              "      <td>0</td>\n",
              "      <td>4</td>\n",
              "      <td>0</td>\n",
              "      <td>1</td>\n",
              "      <td>[친구, 관계, 너무, 힘들다, 베풀다, 만큼, 돌아오다, 않다, 것, 같다]</td>\n",
              "      <td>[카페, 가다, 대화, 하, 거나, 같이, 술, 말다, 이야기, 것, 같다]</td>\n",
              "      <td>[직접, 서운하다, 감정, 친구, 에게, 얘기, 해]</td>\n",
              "    </tr>\n",
              "  </tbody>\n",
              "</table>\n",
              "</div>"
            ],
            "text/plain": [
              "       연령  ...                                            문장3\n",
              "40876   0  ...  [내, 다시, 내, 꿈, 어떻다, 이루다, 것, 인지, 자세하다, 설명, 드리다]\n",
              "40877   3  ...         [운동, 뭉치다, 근육, 풀다, 것, 같다, 그렇다, 덜, 피로하다]\n",
              "40878   1  ...                  [직접, 서운하다, 감정, 친구, 에게, 얘기, 해]\n",
              "\n",
              "[3 rows x 8 columns]"
            ]
          },
          "metadata": {},
          "execution_count": 7
        }
      ]
    },
    {
      "cell_type": "code",
      "metadata": {
        "colab": {
          "base_uri": "https://localhost:8080/",
          "height": 210
        },
        "id": "SR9m16jdt1K7",
        "outputId": "0e9f4391-044c-4c19-b939-0cf3562a1586"
      },
      "source": [
        "test.head(3)"
      ],
      "execution_count": 8,
      "outputs": [
        {
          "output_type": "execute_result",
          "data": {
            "text/html": [
              "<div>\n",
              "<style scoped>\n",
              "    .dataframe tbody tr th:only-of-type {\n",
              "        vertical-align: middle;\n",
              "    }\n",
              "\n",
              "    .dataframe tbody tr th {\n",
              "        vertical-align: top;\n",
              "    }\n",
              "\n",
              "    .dataframe thead th {\n",
              "        text-align: right;\n",
              "    }\n",
              "</style>\n",
              "<table border=\"1\" class=\"dataframe\">\n",
              "  <thead>\n",
              "    <tr style=\"text-align: right;\">\n",
              "      <th></th>\n",
              "      <th>연령</th>\n",
              "      <th>성별</th>\n",
              "      <th>상황</th>\n",
              "      <th>신체질환</th>\n",
              "      <th>감정</th>\n",
              "      <th>문장1</th>\n",
              "      <th>문장2</th>\n",
              "      <th>문장3</th>\n",
              "    </tr>\n",
              "  </thead>\n",
              "  <tbody>\n",
              "    <tr>\n",
              "      <th>0</th>\n",
              "      <td>1</td>\n",
              "      <td>1</td>\n",
              "      <td>5</td>\n",
              "      <td>0</td>\n",
              "      <td>4</td>\n",
              "      <td>[요즘, 부모님, 많이, 부딪히다]</td>\n",
              "      <td>[난, 싶다, 일이, 있다, 부모님, 안정, 적, 인, 일만, 하라, 고, 내, 마...</td>\n",
              "      <td>[응, 그래도, 난, 내, 싶다, 일, 위해, 노력, 거야]</td>\n",
              "    </tr>\n",
              "    <tr>\n",
              "      <th>1</th>\n",
              "      <td>0</td>\n",
              "      <td>0</td>\n",
              "      <td>6</td>\n",
              "      <td>0</td>\n",
              "      <td>3</td>\n",
              "      <td>[엄마, 결국, 집, 나가다, 너무, 너무, 슬프다]</td>\n",
              "      <td>[엄마, 엄마, 만의, 인생, 있다, 테, 니, 가지, 말, 라고, 수가, 없다, ...</td>\n",
              "      <td>[일단, 자다]</td>\n",
              "    </tr>\n",
              "    <tr>\n",
              "      <th>2</th>\n",
              "      <td>0</td>\n",
              "      <td>0</td>\n",
              "      <td>3</td>\n",
              "      <td>0</td>\n",
              "      <td>1</td>\n",
              "      <td>[학교, 에서, 친구, 괴롭히다, 무리, 에게, 그만하다]</td>\n",
              "      <td>[그런데, 말, 난, 후, 나다, 괴롭히다, 보다, 불안하다]</td>\n",
              "      <td>[나, 옳다, 일, 거, 라고, 생각, 나, 까지, 괴롭히다, 신고, 거야]</td>\n",
              "    </tr>\n",
              "  </tbody>\n",
              "</table>\n",
              "</div>"
            ],
            "text/plain": [
              "   연령  ...                                         문장3\n",
              "0   1  ...           [응, 그래도, 난, 내, 싶다, 일, 위해, 노력, 거야]\n",
              "1   0  ...                                    [일단, 자다]\n",
              "2   0  ...  [나, 옳다, 일, 거, 라고, 생각, 나, 까지, 괴롭히다, 신고, 거야]\n",
              "\n",
              "[3 rows x 8 columns]"
            ]
          },
          "metadata": {},
          "execution_count": 8
        }
      ]
    }
  ]
}